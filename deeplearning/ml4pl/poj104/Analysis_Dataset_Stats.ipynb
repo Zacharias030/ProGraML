{
 "cells": [
  {
   "cell_type": "markdown",
   "metadata": {},
   "source": [
    "# Analysis_Dataset_Stats <a class=\"tocSkip\">"
   ]
  },
  {
   "cell_type": "markdown",
   "metadata": {},
   "source": [
    "## Imports \\& Config"
   ]
  },
  {
   "cell_type": "code",
   "execution_count": null,
   "metadata": {
    "scrolled": true
   },
   "outputs": [],
   "source": [
    "# Set editor width to something sane\n",
    "from IPython.core.display import display, HTML\n",
    "display(HTML(\"<style>.container { width:80% !important; }</style>\"))"
   ]
  },
  {
   "cell_type": "code",
   "execution_count": null,
   "metadata": {},
   "outputs": [],
   "source": [
    "%load_ext autoreload\n",
    "%autoreload 2\n",
    "%matplotlib inline\n",
    "\n",
    "from pathlib import Path\n",
    "import sys\n",
    "# get root repository path\n",
    "a = !pwd\n",
    "repo_root = a[0].rsplit('ProGraML', maxsplit=1,)[0] + 'ProGraML'\n",
    "print(repo_root)\n",
    "#insert at 1, 0 is the script path (or '' in REPL)\n",
    "sys.path.insert(1, repo_root)\n",
    "repo_root = Path(repo_root)\n"
   ]
  },
  {
   "cell_type": "code",
   "execution_count": null,
   "metadata": {},
   "outputs": [],
   "source": [
    "import pickle\n",
    "\n",
    "import numpy as np\n",
    "from matplotlib import pyplot as plt\n",
    "import tqdm\n",
    "import torch\n",
    "from torch_geometric.data import Data, DataLoader"
   ]
  },
  {
   "cell_type": "code",
   "execution_count": null,
   "metadata": {},
   "outputs": [],
   "source": [
    "from deeplearning.ml4pl.models.ggnn.ggnn_config_poj104 import GGNNConfig\n",
    "from deeplearning.ml4pl.models.ggnn.run_ggnn_poj104 import Learner\n",
    "from deeplearning.ml4pl.models.ggnn.ggnn_modules import GGNNModel\n",
    "from deeplearning.ml4pl.poj104.dataset import POJ104Dataset\n"
   ]
  },
  {
   "cell_type": "markdown",
   "metadata": {},
   "source": [
    "## Analyze Dataset Statistics"
   ]
  },
  {
   "cell_type": "markdown",
   "metadata": {},
   "source": [
    "### Notable tokens and their statements\n",
    "\n",
    "```\n",
    "unreachable,232\n",
    "ret void,263\n",
    "!UNK,8564\n",
    "!IDENTIFIER, 8565\n",
    "magic/root/ I forgot, 8567\n",
    "```"
   ]
  },
  {
   "cell_type": "code",
   "execution_count": null,
   "metadata": {
    "code_folding": [
     0
    ]
   },
   "outputs": [],
   "source": [
    "def print_dataset_stats(dataset):\n",
    "    print(dataset)\n",
    "    x = []\n",
    "    y = []\n",
    "    for i, data in enumerate(dataset):\n",
    "        x.append(data.x.squeeze(dim=1))\n",
    "        y.append(data.y.item())\n",
    "    x = torch.cat(x)\n",
    "    \n",
    "    y = torch.tensor(y)\n",
    "    ybins = torch.bincount(y, minlength=104)\n",
    "    print(ybins)\n",
    "    \n",
    "    #print(x.size())\n",
    "    bins = torch.bincount(x[:, 0], minlength=8568)\n",
    "\n",
    "    #print('token, count, percentage of whole')\n",
    "    s = torch.sum(bins)\n",
    "    unique = 0\n",
    "    for i, c in enumerate(bins):\n",
    "        if c:\n",
    "            unique += 1\n",
    "            #print(f\"{i}  {c.item()}   {(c*100/s.float()).item():.3f}\")\n",
    "    print(f\"No of unique tokens {unique}/8568.\")\n",
    "    print(f\"No of tokens in ds: {s:,}.\")\n",
    "    print(f\"No of !UNK in data: {bins[8564].item():,} -- [{bins[8564].item()*100/s.item():.2f}%].\")\n",
    "    print(f\"No of !ID in data: {bins[8565].item():,} -- [{bins[8565].item()*100/s.item():.2f}%].\")\n",
    "\n",
    "    plt.figure(figsize=(16, 4))\n",
    "    plt.bar(range(105), ybins)\n",
    "    plt.show()\n",
    "\n",
    "    plt.figure(figsize=(32, 4))\n",
    "    plt.plot(bins) #, ls='')\n",
    "    plt.grid(which='both', axis='y')\n",
    "    plt.yscale('log')\n",
    "    plt.yticks()\n",
    "    #plt.plot(bad_log, ls='dotted')\n",
    "    plt.show()"
   ]
  },
  {
   "cell_type": "markdown",
   "metadata": {},
   "source": [
    "### Validation Set"
   ]
  },
  {
   "cell_type": "code",
   "execution_count": null,
   "metadata": {},
   "outputs": [],
   "source": [
    "ds_dir = repo_root / 'deeplearning/ml4pl/poj104/classifyapp_data'\n",
    "valid_data = POJ104Dataset(ds_dir, 'val')\n"
   ]
  },
  {
   "cell_type": "code",
   "execution_count": null,
   "metadata": {},
   "outputs": [],
   "source": [
    "print_dataset_stats(valid_data)"
   ]
  },
  {
   "cell_type": "markdown",
   "metadata": {},
   "source": [
    "### Test Set"
   ]
  },
  {
   "cell_type": "code",
   "execution_count": null,
   "metadata": {},
   "outputs": [],
   "source": [
    "test_data = POJ104Dataset(ds_dir, 'test')"
   ]
  },
  {
   "cell_type": "code",
   "execution_count": null,
   "metadata": {},
   "outputs": [],
   "source": [
    "print_dataset_stats(test_data)"
   ]
  },
  {
   "cell_type": "code",
   "execution_count": null,
   "metadata": {},
   "outputs": [],
   "source": []
  },
  {
   "cell_type": "markdown",
   "metadata": {},
   "source": [
    "### Train Set"
   ]
  },
  {
   "cell_type": "code",
   "execution_count": null,
   "metadata": {},
   "outputs": [],
   "source": [
    "train_data = POJ104Dataset(ds_dir, 'train')"
   ]
  },
  {
   "cell_type": "code",
   "execution_count": null,
   "metadata": {
    "scrolled": false
   },
   "outputs": [],
   "source": [
    "print_dataset_stats(train_data)"
   ]
  },
  {
   "cell_type": "markdown",
   "metadata": {},
   "source": [
    "## TBD"
   ]
  },
  {
   "cell_type": "code",
   "execution_count": null,
   "metadata": {},
   "outputs": [],
   "source": [
    "jan20_test_data = POJ104Dataset(root=repo_root / 'deeplearning/ml4pl/poj104/classifyapp_data/processed_jan20_9_inconsistent', split='test')\n",
    "jan9_test_data = POJ104Dataset(root=repo_root / 'deeplearning/ml4pl/poj104/classifyapp_data', split='test')"
   ]
  },
  {
   "cell_type": "code",
   "execution_count": null,
   "metadata": {},
   "outputs": [],
   "source": [
    "jan20_test_data[0]"
   ]
  },
  {
   "cell_type": "code",
   "execution_count": null,
   "metadata": {},
   "outputs": [],
   "source": [
    "import networkx.algorithms.isomorphism as iso\n",
    "\n",
    "from torch_geometric.utils import convert\n",
    "\n",
    "\n",
    "\n",
    "\n",
    "for i, (a, b) in enumerate(zip(jan9_test_data, jan20_test_data)):\n",
    "    #an = convert.to_networkx(a)\n",
    "    #bn = convert.to_networkx(b)\n",
    "    #print(i, iso.is_isomorphic(an, bn))\n",
    "    \n",
    "    assert torch.all(a.edge_index[0,:] == b.edge_index[0, :]), f\"{i}\\n{a.edge_index[0,:] == b.edge_index[0, :]}\"\n",
    "    \n",
    "    #d9x = np.sort(d9.x[:,0].numpy())\n",
    "    #d20x = np.sort(d20.x[:,0].numpy())\n",
    "    #mask = d9x == d20x\n",
    "    #if not np.all(mask):\n",
    "    #    print(d9x[np.invert(mask)])\n",
    "    #    print(d20x[np.invert(mask)])\n",
    "#    print((data9data20))"
   ]
  }
 ],
 "metadata": {
  "kernelspec": {
   "display_name": "Python 3",
   "language": "python",
   "name": "python3"
  },
  "language_info": {
   "codemirror_mode": {
    "name": "ipython",
    "version": 3
   },
   "file_extension": ".py",
   "mimetype": "text/x-python",
   "name": "python",
   "nbconvert_exporter": "python",
   "pygments_lexer": "ipython3",
   "version": "3.7.6"
  },
  "toc": {
   "base_numbering": 1,
   "nav_menu": {
    "height": "206.989px",
    "width": "311.989px"
   },
   "number_sections": true,
   "sideBar": true,
   "skip_h1_title": false,
   "title_cell": "Table of Contents",
   "title_sidebar": "Contents",
   "toc_cell": true,
   "toc_position": {},
   "toc_section_display": true,
   "toc_window_display": false
  }
 },
 "nbformat": 4,
 "nbformat_minor": 2
}
