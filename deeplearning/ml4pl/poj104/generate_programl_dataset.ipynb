{
 "cells": [
  {
   "cell_type": "markdown",
   "metadata": {},
   "source": [
    "# Dataset generation: ProGraML x POJ104 <a class='tocSkip'>"
   ]
  },
  {
   "cell_type": "markdown",
   "metadata": {
    "toc": true
   },
   "source": [
    "<h1>Table of Contents<span class=\"tocSkip\"></span></h1>\n",
    "<div class=\"toc\"><ul class=\"toc-item\"><li><span><a href=\"#Configs\" data-toc-modified-id=\"Configs-1\"><span class=\"toc-item-num\">1&nbsp;&nbsp;</span>Configs</a></span><ul class=\"toc-item\"><li><ul class=\"toc-item\"><li><span><a href=\"#Graph-Tuple-Legend\" data-toc-modified-id=\"Graph-Tuple-Legend-1.0.1\"><span class=\"toc-item-num\">1.0.1&nbsp;&nbsp;</span>Graph Tuple Legend</a></span><ul class=\"toc-item\"><li><span><a href=\"#adjacencies:-np.array\" data-toc-modified-id=\"adjacencies:-np.array-1.0.1.1\"><span class=\"toc-item-num\">1.0.1.1&nbsp;&nbsp;</span><code>adjacencies: np.array</code></a></span></li><li><span><a href=\"#edge_positions:-np.array\" data-toc-modified-id=\"edge_positions:-np.array-1.0.1.2\"><span class=\"toc-item-num\">1.0.1.2&nbsp;&nbsp;</span><code>edge_positions: np.array</code></a></span></li><li><span><a href=\"#node_x:-np.array\" data-toc-modified-id=\"node_x:-np.array-1.0.1.3\"><span class=\"toc-item-num\">1.0.1.3&nbsp;&nbsp;</span><code>node_x: np.array</code></a></span></li><li><span><a href=\"#node_y:-Optional[np.array]-=-None\" data-toc-modified-id=\"node_y:-Optional[np.array]-=-None-1.0.1.4\"><span class=\"toc-item-num\">1.0.1.4&nbsp;&nbsp;</span><code>node_y: Optional[np.array] = None</code></a></span></li><li><span><a href=\"#graph_x:-Optional[np.array]-=-None\" data-toc-modified-id=\"graph_x:-Optional[np.array]-=-None-1.0.1.5\"><span class=\"toc-item-num\">1.0.1.5&nbsp;&nbsp;</span><code>graph_x: Optional[np.array] = None</code></a></span></li><li><span><a href=\"#graph_y:-Optional[np.array]-=-None\" data-toc-modified-id=\"graph_y:-Optional[np.array]-=-None-1.0.1.6\"><span class=\"toc-item-num\">1.0.1.6&nbsp;&nbsp;</span><code>graph_y: Optional[np.array] = None</code></a></span></li></ul></li><li><span><a href=\"#Disjoint-graph-properties\" data-toc-modified-id=\"Disjoint-graph-properties-1.0.2\"><span class=\"toc-item-num\">1.0.2&nbsp;&nbsp;</span>Disjoint graph properties</a></span><ul class=\"toc-item\"><li><span><a href=\"#disjoint_graph_count:-int-=-1\" data-toc-modified-id=\"disjoint_graph_count:-int-=-1-1.0.2.1\"><span class=\"toc-item-num\">1.0.2.1&nbsp;&nbsp;</span><code>disjoint_graph_count: int = 1</code></a></span></li><li><span><a href=\"#disjoint_nodes_list:-np.array-=-None\" data-toc-modified-id=\"disjoint_nodes_list:-np.array-=-None-1.0.2.2\"><span class=\"toc-item-num\">1.0.2.2&nbsp;&nbsp;</span><code>disjoint_nodes_list: np.array = None</code></a></span></li></ul></li></ul></li></ul></li><li><span><a href=\"#Example-Data-Samples\" data-toc-modified-id=\"Example-Data-Samples-2\"><span class=\"toc-item-num\">2&nbsp;&nbsp;</span>Example Data Samples</a></span><ul class=\"toc-item\"><li><span><a href=\"#Proto-Example:-(NB:-this-uses-a-proto-with-broken-tokenization)\" data-toc-modified-id=\"Proto-Example:-(NB:-this-uses-a-proto-with-broken-tokenization)-2.1\"><span class=\"toc-item-num\">2.1&nbsp;&nbsp;</span>Proto Example: (NB: this uses a proto with broken tokenization)</a></span><ul class=\"toc-item\"><li><span><a href=\"#Inspect-common-node-IDs:\" data-toc-modified-id=\"Inspect-common-node-IDs:-2.1.1\"><span class=\"toc-item-num\">2.1.1&nbsp;&nbsp;</span>Inspect common node IDs:</a></span></li></ul></li><li><span><a href=\"#Draw-a-sample-graph\" data-toc-modified-id=\"Draw-a-sample-graph-2.2\"><span class=\"toc-item-num\">2.2&nbsp;&nbsp;</span>Draw a sample graph</a></span><ul class=\"toc-item\"><li><span><a href=\"#from-.ll-example\" data-toc-modified-id=\"from-.ll-example-2.2.1\"><span class=\"toc-item-num\">2.2.1&nbsp;&nbsp;</span>from .ll example</a></span></li><li><span><a href=\"#GraphTuple-example\" data-toc-modified-id=\"GraphTuple-example-2.2.2\"><span class=\"toc-item-num\">2.2.2&nbsp;&nbsp;</span>GraphTuple example</a></span></li><li><span><a href=\"#Collect-Token-distribution-stats-on-the-example\" data-toc-modified-id=\"Collect-Token-distribution-stats-on-the-example-2.2.3\"><span class=\"toc-item-num\">2.2.3&nbsp;&nbsp;</span>Collect Token distribution stats on the example</a></span></li></ul></li></ul></li><li><span><a href=\"#Main:-Preprocess-Datasets\" data-toc-modified-id=\"Main:-Preprocess-Datasets-3\"><span class=\"toc-item-num\">3&nbsp;&nbsp;</span>Main: Preprocess Datasets</a></span><ul class=\"toc-item\"><li><span><a href=\"#Dev:-tuple2data---GraphTuple-->-Pyg-data.Data\" data-toc-modified-id=\"Dev:-tuple2data---GraphTuple-->-Pyg-data.Data-3.1\"><span class=\"toc-item-num\">3.1&nbsp;&nbsp;</span>Dev: tuple2data - GraphTuple -&gt; Pyg data.Data</a></span></li><li><span><a href=\"#Dev:-nx2data-(more-flexible!)\" data-toc-modified-id=\"Dev:-nx2data-(more-flexible!)-3.2\"><span class=\"toc-item-num\">3.2&nbsp;&nbsp;</span>Dev: nx2data (more flexible!)</a></span><ul class=\"toc-item\"><li><span><a href=\"#By-Example\" data-toc-modified-id=\"By-Example-3.2.1\"><span class=\"toc-item-num\">3.2.1&nbsp;&nbsp;</span>By Example</a></span></li><li><span><a href=\"#unit-test-on-this-example\" data-toc-modified-id=\"unit-test-on-this-example-3.2.2\"><span class=\"toc-item-num\">3.2.2&nbsp;&nbsp;</span>unit test on this example</a></span></li><li><span><a href=\"#coalesce-into-nx2data-function\" data-toc-modified-id=\"coalesce-into-nx2data-function-3.2.3\"><span class=\"toc-item-num\">3.2.3&nbsp;&nbsp;</span>coalesce into nx2data function</a></span></li></ul></li><li><span><a href=\"#needs-action:\" data-toc-modified-id=\"needs-action:-3.3\"><span class=\"toc-item-num\">3.3&nbsp;&nbsp;</span><em>needs action:</em></a></span><ul class=\"toc-item\"><li><span><a href=\"#Process-validation-set\" data-toc-modified-id=\"Process-validation-set-3.3.1\"><span class=\"toc-item-num\">3.3.1&nbsp;&nbsp;</span>Process validation set</a></span></li><li><span><a href=\"#Process-test-set\" data-toc-modified-id=\"Process-test-set-3.3.2\"><span class=\"toc-item-num\">3.3.2&nbsp;&nbsp;</span>Process test set</a></span></li><li><span><a href=\"#Process-train-set\" data-toc-modified-id=\"Process-train-set-3.3.3\"><span class=\"toc-item-num\">3.3.3&nbsp;&nbsp;</span>Process train set</a></span></li></ul></li></ul></li><li><span><a href=\"#Development-of-Pytorch-Geometric-Dataset\" data-toc-modified-id=\"Development-of-Pytorch-Geometric-Dataset-4\"><span class=\"toc-item-num\">4&nbsp;&nbsp;</span>Development of Pytorch-Geometric Dataset</a></span></li><li><span><a href=\"#Finished-Dataset\" data-toc-modified-id=\"Finished-Dataset-5\"><span class=\"toc-item-num\">5&nbsp;&nbsp;</span>Finished Dataset</a></span></li><li><span><a href=\"#TBD:-upcoming-work-section\" data-toc-modified-id=\"TBD:-upcoming-work-section-6\"><span class=\"toc-item-num\">6&nbsp;&nbsp;</span>TBD: upcoming work section</a></span></li></ul></div>"
   ]
  },
  {
   "cell_type": "markdown",
   "metadata": {},
   "source": [
    "# Configs"
   ]
  },
  {
   "cell_type": "code",
   "execution_count": 15,
   "metadata": {},
   "outputs": [
    {
     "name": "stdout",
     "output_type": "stream",
     "text": [
      "The autoreload extension is already loaded. To reload it, use:\n",
      "  %reload_ext autoreload\n",
      "/home/zacharias/ProGraML\n"
     ]
    }
   ],
   "source": [
    "%load_ext autoreload\n",
    "%autoreload 2\n",
    "%matplotlib inline\n",
    "\n",
    "import sys, os\n",
    "# get root repository path\n",
    "a = !pwd\n",
    "repo_root = a[0].rsplit('ProGraML', maxsplit=1,)[0] + 'ProGraML'\n",
    "print(repo_root)\n",
    "#insert at 1, 0 is the script path (or '' in REPL)\n",
    "sys.path.insert(1, repo_root)"
   ]
  },
  {
   "cell_type": "code",
   "execution_count": 16,
   "metadata": {},
   "outputs": [],
   "source": [
    "from pathlib import Path\n",
    "import pickle\n",
    "\n",
    "\n",
    "import numpy as np\n",
    "from matplotlib import pyplot as plt\n",
    "import networkx as nx\n",
    "import tqdm\n",
    "import torch\n",
    "from torch_geometric.data import Data, DataLoader, InMemoryDataset\n",
    "import torch_geometric"
   ]
  },
  {
   "cell_type": "code",
   "execution_count": 17,
   "metadata": {},
   "outputs": [],
   "source": [
    "from google.protobuf import text_format\n",
    "from deeplearning.ml4pl.graphs import programl\n",
    "from deeplearning.ml4pl.graphs.labelled import graph_tuple\n",
    "from labm8.py import app"
   ]
  },
  {
   "cell_type": "code",
   "execution_count": 18,
   "metadata": {},
   "outputs": [],
   "source": [
    "from deeplearning.ml4pl.graphs.unlabelled.llvm2graph import graph_builder\n",
    "\n",
    "builder = graph_builder.ProGraMLGraphBuilder()"
   ]
  },
  {
   "cell_type": "markdown",
   "metadata": {},
   "source": [
    "### Graph Tuple Legend\n",
    "\n",
    "\n",
    "#### ```adjacencies: np.array```\n",
    "\n",
    "A list of adjacency lists, one for each flow type, where an entry in an\n",
    "adjacency list is a <src,dst> tuple of node indices.\n",
    "\n",
    "`Shape (edge_flow_count, edge_count, 2), dtype int32`\n",
    "\n",
    "\n",
    "#### ```edge_positions: np.array```\n",
    "\n",
    "A list of edge positions, one for each edge type. An edge position is an\n",
    "integer in the range 0 <= x < edge_position_max.\n",
    "\n",
    "`Shape (edge_flow_count, edge_count), dtype int32`\n",
    "\n",
    "\n",
    "\n",
    "#### ```node_x: np.array```\n",
    "\n",
    "A list of node feature arrays. Each row is a node, and each column is an\n",
    "feature for that node.\n",
    "\n",
    "`Shape (node_count, node_x_dimensionality), dtype int32`\n",
    "\n",
    "\n",
    "#### ```node_y: Optional[np.array] = None```\n",
    "\n",
    "(optional) A list of node labels arrays.\n",
    "\n",
    "`Shape (node_count, node_y_dimensionality), dtype float32`\n",
    "\n",
    "\n",
    "#### ```graph_x: Optional[np.array] = None```\n",
    "\n",
    "(optional) A list of graph features arrays.\n",
    "\n",
    "`Shape (graph_x_dimensionality) OR (graph_count, graph_x_dimensionality) if\n",
    "graph_count > 1, dtype int32`\n",
    "\n",
    "\n",
    "\n",
    "#### ```graph_y: Optional[np.array] = None```\n",
    "\n",
    "(optional) A vector of graph labels arrays.\n",
    "\n",
    "`Shape (graph_y_dimensionality) OR (graph_count, graph_y_dimensionality) if\n",
    "graph_count > 1, dtype float32`\n",
    "\n",
    "\n",
    "### Disjoint graph properties\n",
    "\n",
    "#### ```disjoint_graph_count: int = 1```\n",
    "\n",
    "The number of disconnected graphs in the tuple.\n",
    "\n",
    "\n",
    "#### ```disjoint_nodes_list: np.array = None```\n",
    "\n",
    "A list of integers which segment the nodes by graph. E.g. with a GraphTuple\n",
    "of two distinct graphs, both with three nodes, nodes_list will be\n",
    "[0, 0, 0, 1, 1, 1].\n",
    "`Shape (node_count), dtype int32:`\n"
   ]
  },
  {
   "cell_type": "markdown",
   "metadata": {},
   "source": [
    "# Example Data Samples"
   ]
  },
  {
   "cell_type": "markdown",
   "metadata": {},
   "source": [
    "## Proto Example: (NB: this uses a proto with broken tokenization)"
   ]
  },
  {
   "cell_type": "code",
   "execution_count": 19,
   "metadata": {},
   "outputs": [],
   "source": [
    "# proto example\n",
    "from google.protobuf import text_format\n",
    "from deeplearning.ml4pl.graphs import programl_pb2 as proto\n",
    "\n",
    "program_graph = proto.ProgramGraph()\n",
    "\n",
    "with open('40.txt_9G8XzpcFlK.programl_proto', 'r') as f:\n",
    "    proto = f.read()\n",
    "\n",
    "proto = text_format.Parse(proto, program_graph)"
   ]
  },
  {
   "cell_type": "markdown",
   "metadata": {},
   "source": [
    "### Inspect common node IDs:\n",
    "`\n",
    "unreachable,232\n",
    "ret void,263\n",
    "!UNK,8564\n",
    "!IDENTIFIER, 8565\n",
    "magic/root/ I forgot, 8567\n",
    "`"
   ]
  },
  {
   "cell_type": "code",
   "execution_count": 20,
   "metadata": {
    "scrolled": true
   },
   "outputs": [
    {
     "name": "stdout",
     "output_type": "stream",
     "text": [
      "263  1   0.552\n",
      "8564  100   55.249\n",
      "8565  79   43.646\n",
      "8567  1   0.552\n"
     ]
    }
   ],
   "source": [
    "x = []\n",
    "for node in proto.node:\n",
    "    x.append(list(node.x)[0])\n",
    "\n",
    "bins = np.bincount(x, minlength=8568)\n",
    "s = np.sum(bins)\n",
    "for i, c in enumerate(bins):\n",
    "    if c:\n",
    "        print(f\"{i}  {c}   {(c*100/s):.3f}\")"
   ]
  },
  {
   "cell_type": "markdown",
   "metadata": {},
   "source": [
    "## Draw a sample graph\n",
    "### from .ll example"
   ]
  },
  {
   "cell_type": "code",
   "execution_count": 25,
   "metadata": {},
   "outputs": [
    {
     "ename": "UnicodeDecodeError",
     "evalue": "'utf-8' codec can't decode byte 0xa5 in position 8731: invalid start byte",
     "output_type": "error",
     "traceback": [
      "\u001b[0;31m---------------------------------------------------------------------------\u001b[0m",
      "\u001b[0;31mUnicodeDecodeError\u001b[0m                        Traceback (most recent call last)",
      "\u001b[0;32m<ipython-input-25-cd51ca2e99e4>\u001b[0m in \u001b[0;36m<module>\u001b[0;34m\u001b[0m\n\u001b[1;32m      2\u001b[0m     \u001b[0mll\u001b[0m \u001b[0;34m=\u001b[0m \u001b[0mf\u001b[0m\u001b[0;34m.\u001b[0m\u001b[0mread\u001b[0m\u001b[0;34m(\u001b[0m\u001b[0;34m)\u001b[0m\u001b[0;34m\u001b[0m\u001b[0;34m\u001b[0m\u001b[0m\n\u001b[1;32m      3\u001b[0m \u001b[0;34m\u001b[0m\u001b[0m\n\u001b[0;32m----> 4\u001b[0;31m \u001b[0mnx_graph\u001b[0m \u001b[0;34m=\u001b[0m \u001b[0mbuilder\u001b[0m\u001b[0;34m.\u001b[0m\u001b[0mBuild\u001b[0m\u001b[0;34m(\u001b[0m\u001b[0mll\u001b[0m\u001b[0;34m)\u001b[0m\u001b[0;34m\u001b[0m\u001b[0;34m\u001b[0m\u001b[0m\n\u001b[0m",
      "\u001b[0;32m~/ProGraML/deeplearning/ml4pl/graphs/unlabelled/llvm2graph/graph_builder.py\u001b[0m in \u001b[0;36mBuild\u001b[0;34m(self, bytecode, tag_hook, timeout_seconds)\u001b[0m\n\u001b[1;32m     89\u001b[0m \u001b[0;34m\u001b[0m\u001b[0m\n\u001b[1;32m     90\u001b[0m     \u001b[0;32mtry\u001b[0m\u001b[0;34m:\u001b[0m\u001b[0;34m\u001b[0m\u001b[0;34m\u001b[0m\u001b[0m\n\u001b[0;32m---> 91\u001b[0;31m       \u001b[0;32mreturn\u001b[0m \u001b[0mself\u001b[0m\u001b[0;34m.\u001b[0m\u001b[0m_Build\u001b[0m\u001b[0;34m(\u001b[0m\u001b[0mbytecode\u001b[0m\u001b[0;34m,\u001b[0m \u001b[0mtag_hook\u001b[0m\u001b[0;34m)\u001b[0m\u001b[0;34m\u001b[0m\u001b[0;34m\u001b[0m\u001b[0m\n\u001b[0m\u001b[1;32m     92\u001b[0m     \u001b[0;32mexcept\u001b[0m \u001b[0mTimeoutError\u001b[0m \u001b[0;32mas\u001b[0m \u001b[0me\u001b[0m\u001b[0;34m:\u001b[0m\u001b[0;34m\u001b[0m\u001b[0;34m\u001b[0m\u001b[0m\n\u001b[1;32m     93\u001b[0m       \u001b[0;32mraise\u001b[0m \u001b[0me\u001b[0m\u001b[0;34m\u001b[0m\u001b[0;34m\u001b[0m\u001b[0m\n",
      "\u001b[0;32m~/ProGraML/deeplearning/ml4pl/graphs/unlabelled/llvm2graph/graph_builder.py\u001b[0m in \u001b[0;36m_Build\u001b[0;34m(self, bytecode, tag_hook)\u001b[0m\n\u001b[1;32m    104\u001b[0m       \u001b[0mcfg_dots\u001b[0m\u001b[0;34m,\u001b[0m\u001b[0;34m\u001b[0m\u001b[0;34m\u001b[0m\u001b[0m\n\u001b[1;32m    105\u001b[0m     \u001b[0;34m)\u001b[0m \u001b[0;34m=\u001b[0m \u001b[0mopt_util\u001b[0m\u001b[0;34m.\u001b[0m\u001b[0mDotCallGraphAndControlFlowGraphsFromBytecode\u001b[0m\u001b[0;34m(\u001b[0m\u001b[0;34m\u001b[0m\u001b[0;34m\u001b[0m\u001b[0m\n\u001b[0;32m--> 106\u001b[0;31m       \u001b[0mbytecode\u001b[0m\u001b[0;34m,\u001b[0m \u001b[0mopt_path\u001b[0m\u001b[0;34m=\u001b[0m\u001b[0mself\u001b[0m\u001b[0;34m.\u001b[0m\u001b[0mopt\u001b[0m\u001b[0;34m\u001b[0m\u001b[0;34m\u001b[0m\u001b[0m\n\u001b[0m\u001b[1;32m    107\u001b[0m     )\n\u001b[1;32m    108\u001b[0m \u001b[0;34m\u001b[0m\u001b[0m\n",
      "\u001b[0;32m~/ProGraML/compilers/llvm/opt_util.py\u001b[0m in \u001b[0;36mDotCallGraphAndControlFlowGraphsFromBytecode\u001b[0;34m(bytecode, opt_path)\u001b[0m\n\u001b[1;32m    217\u001b[0m     \u001b[0;34m[\u001b[0m\u001b[0;34m\"-metarenamer\"\u001b[0m\u001b[0;34m,\u001b[0m \u001b[0;34m\"-dot-cfg\"\u001b[0m\u001b[0;34m,\u001b[0m \u001b[0;34m\"-dot-callgraph\"\u001b[0m\u001b[0;34m]\u001b[0m\u001b[0;34m,\u001b[0m\u001b[0;34m\u001b[0m\u001b[0;34m\u001b[0m\u001b[0m\n\u001b[1;32m    218\u001b[0m     \u001b[0mopt_path\u001b[0m\u001b[0;34m,\u001b[0m\u001b[0;34m\u001b[0m\u001b[0;34m\u001b[0m\u001b[0m\n\u001b[0;32m--> 219\u001b[0;31m     \u001b[0;32mlambda\u001b[0m \u001b[0mname\u001b[0m\u001b[0;34m:\u001b[0m \u001b[0mname\u001b[0m \u001b[0;34m!=\u001b[0m \u001b[0;34m\"callgraph.dot\"\u001b[0m\u001b[0;34m,\u001b[0m\u001b[0;34m\u001b[0m\u001b[0;34m\u001b[0m\u001b[0m\n\u001b[0m\u001b[1;32m    220\u001b[0m   )\n\u001b[1;32m    221\u001b[0m \u001b[0;34m\u001b[0m\u001b[0m\n",
      "\u001b[0;32m~/ProGraML/compilers/llvm/opt_util.py\u001b[0m in \u001b[0;36mDotGraphsFromBytecode\u001b[0;34m(bytecode, opt_args, opt_path, output_pred)\u001b[0m\n\u001b[1;32m    185\u001b[0m           )\n\u001b[1;32m    186\u001b[0m         \u001b[0;32mif\u001b[0m \u001b[0;32mnot\u001b[0m \u001b[0moutput_pred\u001b[0m \u001b[0;32mor\u001b[0m \u001b[0moutput_pred\u001b[0m\u001b[0;34m(\u001b[0m\u001b[0mfile\u001b[0m\u001b[0;34m.\u001b[0m\u001b[0mname\u001b[0m\u001b[0;34m)\u001b[0m\u001b[0;34m:\u001b[0m\u001b[0;34m\u001b[0m\u001b[0;34m\u001b[0m\u001b[0m\n\u001b[0;32m--> 187\u001b[0;31m           \u001b[0mgraph_dots_true\u001b[0m\u001b[0;34m.\u001b[0m\u001b[0mappend\u001b[0m\u001b[0;34m(\u001b[0m\u001b[0mfs\u001b[0m\u001b[0;34m.\u001b[0m\u001b[0mRead\u001b[0m\u001b[0;34m(\u001b[0m\u001b[0mfile\u001b[0m\u001b[0;34m)\u001b[0m\u001b[0;34m)\u001b[0m\u001b[0;34m\u001b[0m\u001b[0;34m\u001b[0m\u001b[0m\n\u001b[0m\u001b[1;32m    188\u001b[0m         \u001b[0;32melse\u001b[0m\u001b[0;34m:\u001b[0m\u001b[0;34m\u001b[0m\u001b[0;34m\u001b[0m\u001b[0m\n\u001b[1;32m    189\u001b[0m           \u001b[0mgraph_dots_false\u001b[0m\u001b[0;34m.\u001b[0m\u001b[0mappend\u001b[0m\u001b[0;34m(\u001b[0m\u001b[0mfs\u001b[0m\u001b[0;34m.\u001b[0m\u001b[0mRead\u001b[0m\u001b[0;34m(\u001b[0m\u001b[0mfile\u001b[0m\u001b[0;34m)\u001b[0m\u001b[0;34m)\u001b[0m\u001b[0;34m\u001b[0m\u001b[0;34m\u001b[0m\u001b[0m\n",
      "\u001b[0;32m~/ProGraML/labm8/py/fs.py\u001b[0m in \u001b[0;36mRead\u001b[0;34m(filename)\u001b[0m\n\u001b[1;32m    617\u001b[0m   \u001b[0;34m\"\"\"Read entire contents of file with name 'filename'.\"\"\"\u001b[0m\u001b[0;34m\u001b[0m\u001b[0;34m\u001b[0m\u001b[0m\n\u001b[1;32m    618\u001b[0m   \u001b[0;32mwith\u001b[0m \u001b[0mopen\u001b[0m\u001b[0;34m(\u001b[0m\u001b[0mfilename\u001b[0m\u001b[0;34m)\u001b[0m \u001b[0;32mas\u001b[0m \u001b[0mfp\u001b[0m\u001b[0;34m:\u001b[0m\u001b[0;34m\u001b[0m\u001b[0;34m\u001b[0m\u001b[0m\n\u001b[0;32m--> 619\u001b[0;31m     \u001b[0;32mreturn\u001b[0m \u001b[0mfp\u001b[0m\u001b[0;34m.\u001b[0m\u001b[0mread\u001b[0m\u001b[0;34m(\u001b[0m\u001b[0;34m)\u001b[0m\u001b[0;34m\u001b[0m\u001b[0;34m\u001b[0m\u001b[0m\n\u001b[0m\u001b[1;32m    620\u001b[0m \u001b[0;34m\u001b[0m\u001b[0m\n\u001b[1;32m    621\u001b[0m \u001b[0;34m\u001b[0m\u001b[0m\n",
      "\u001b[0;32m~/anaconda3/lib/python3.7/codecs.py\u001b[0m in \u001b[0;36mdecode\u001b[0;34m(self, input, final)\u001b[0m\n\u001b[1;32m    320\u001b[0m         \u001b[0;31m# decode input (taking the buffer into account)\u001b[0m\u001b[0;34m\u001b[0m\u001b[0;34m\u001b[0m\u001b[0;34m\u001b[0m\u001b[0m\n\u001b[1;32m    321\u001b[0m         \u001b[0mdata\u001b[0m \u001b[0;34m=\u001b[0m \u001b[0mself\u001b[0m\u001b[0;34m.\u001b[0m\u001b[0mbuffer\u001b[0m \u001b[0;34m+\u001b[0m \u001b[0minput\u001b[0m\u001b[0;34m\u001b[0m\u001b[0;34m\u001b[0m\u001b[0m\n\u001b[0;32m--> 322\u001b[0;31m         \u001b[0;34m(\u001b[0m\u001b[0mresult\u001b[0m\u001b[0;34m,\u001b[0m \u001b[0mconsumed\u001b[0m\u001b[0;34m)\u001b[0m \u001b[0;34m=\u001b[0m \u001b[0mself\u001b[0m\u001b[0;34m.\u001b[0m\u001b[0m_buffer_decode\u001b[0m\u001b[0;34m(\u001b[0m\u001b[0mdata\u001b[0m\u001b[0;34m,\u001b[0m \u001b[0mself\u001b[0m\u001b[0;34m.\u001b[0m\u001b[0merrors\u001b[0m\u001b[0;34m,\u001b[0m \u001b[0mfinal\u001b[0m\u001b[0;34m)\u001b[0m\u001b[0;34m\u001b[0m\u001b[0;34m\u001b[0m\u001b[0m\n\u001b[0m\u001b[1;32m    323\u001b[0m         \u001b[0;31m# keep undecoded input until the next call\u001b[0m\u001b[0;34m\u001b[0m\u001b[0;34m\u001b[0m\u001b[0;34m\u001b[0m\u001b[0m\n\u001b[1;32m    324\u001b[0m         \u001b[0mself\u001b[0m\u001b[0;34m.\u001b[0m\u001b[0mbuffer\u001b[0m \u001b[0;34m=\u001b[0m \u001b[0mdata\u001b[0m\u001b[0;34m[\u001b[0m\u001b[0mconsumed\u001b[0m\u001b[0;34m:\u001b[0m\u001b[0;34m]\u001b[0m\u001b[0;34m\u001b[0m\u001b[0;34m\u001b[0m\u001b[0m\n",
      "\u001b[0;31mUnicodeDecodeError\u001b[0m: 'utf-8' codec can't decode byte 0xa5 in position 8731: invalid start byte"
     ]
    }
   ],
   "source": [
    "with open('/home/zacharias/bla.ll', 'r') as f:\n",
    "    ll = f.read()\n",
    "\n",
    "nx_graph = builder.Build(ll)"
   ]
  },
  {
   "cell_type": "code",
   "execution_count": 24,
   "metadata": {},
   "outputs": [
    {
     "name": "stdout",
     "output_type": "stream",
     "text": [
      "\u001b[1m\u001b[96mRemoved 12 blocks without predecessors from `hoge`, 13 blocks remaining\u001b[0m\n",
      "\u001b[1m\u001b[96mRemoved 15 blocks without predecessors from `baz.20`, 20 blocks remaining\u001b[0m\n",
      "\u001b[1m\u001b[96mRemoved 3 blocks without predecessors from `ham`, 46 blocks remaining\u001b[0m\n",
      "\u001b[1m\u001b[96mRemoved 14 blocks without predecessors from `blam`, 48 blocks remaining\u001b[0m\n"
     ]
    },
    {
     "ename": "MalformedControlFlowGraphError",
     "evalue": "No path from entry node 'bb' to exit node 'bb56' in function `hoge`",
     "output_type": "error",
     "traceback": [
      "\u001b[0;31m---------------------------------------------------------------------------\u001b[0m",
      "\u001b[0;31mMalformedControlFlowGraphError\u001b[0m            Traceback (most recent call last)",
      "\u001b[0;32m<ipython-input-24-ada7adfc01bf>\u001b[0m in \u001b[0;36m<module>\u001b[0;34m\u001b[0m\n\u001b[1;32m      2\u001b[0m     \u001b[0mll\u001b[0m \u001b[0;34m=\u001b[0m \u001b[0mf\u001b[0m\u001b[0;34m.\u001b[0m\u001b[0mread\u001b[0m\u001b[0;34m(\u001b[0m\u001b[0;34m)\u001b[0m\u001b[0;34m\u001b[0m\u001b[0;34m\u001b[0m\u001b[0m\n\u001b[1;32m      3\u001b[0m \u001b[0;34m\u001b[0m\u001b[0m\n\u001b[0;32m----> 4\u001b[0;31m \u001b[0mnx_graph\u001b[0m \u001b[0;34m=\u001b[0m \u001b[0mbuilder\u001b[0m\u001b[0;34m.\u001b[0m\u001b[0mBuild\u001b[0m\u001b[0;34m(\u001b[0m\u001b[0mll\u001b[0m\u001b[0;34m)\u001b[0m\u001b[0;34m\u001b[0m\u001b[0;34m\u001b[0m\u001b[0m\n\u001b[0m",
      "\u001b[0;32m~/ProGraML/deeplearning/ml4pl/graphs/unlabelled/llvm2graph/graph_builder.py\u001b[0m in \u001b[0;36mBuild\u001b[0;34m(self, bytecode, tag_hook, timeout_seconds)\u001b[0m\n\u001b[1;32m     89\u001b[0m \u001b[0;34m\u001b[0m\u001b[0m\n\u001b[1;32m     90\u001b[0m     \u001b[0;32mtry\u001b[0m\u001b[0;34m:\u001b[0m\u001b[0;34m\u001b[0m\u001b[0;34m\u001b[0m\u001b[0m\n\u001b[0;32m---> 91\u001b[0;31m       \u001b[0;32mreturn\u001b[0m \u001b[0mself\u001b[0m\u001b[0;34m.\u001b[0m\u001b[0m_Build\u001b[0m\u001b[0;34m(\u001b[0m\u001b[0mbytecode\u001b[0m\u001b[0;34m,\u001b[0m \u001b[0mtag_hook\u001b[0m\u001b[0;34m)\u001b[0m\u001b[0;34m\u001b[0m\u001b[0;34m\u001b[0m\u001b[0m\n\u001b[0m\u001b[1;32m     92\u001b[0m     \u001b[0;32mexcept\u001b[0m \u001b[0mTimeoutError\u001b[0m \u001b[0;32mas\u001b[0m \u001b[0me\u001b[0m\u001b[0;34m:\u001b[0m\u001b[0;34m\u001b[0m\u001b[0;34m\u001b[0m\u001b[0m\n\u001b[1;32m     93\u001b[0m       \u001b[0;32mraise\u001b[0m \u001b[0me\u001b[0m\u001b[0;34m\u001b[0m\u001b[0;34m\u001b[0m\u001b[0m\n",
      "\u001b[0;32m~/ProGraML/deeplearning/ml4pl/graphs/unlabelled/llvm2graph/graph_builder.py\u001b[0m in \u001b[0;36m_Build\u001b[0;34m(self, bytecode, tag_hook)\u001b[0m\n\u001b[1;32m    116\u001b[0m \u001b[0;34m\u001b[0m\u001b[0m\n\u001b[1;32m    117\u001b[0m     \u001b[0;31m# Add data flow elements to control flow graphs.\u001b[0m\u001b[0;34m\u001b[0m\u001b[0;34m\u001b[0m\u001b[0;34m\u001b[0m\u001b[0m\n\u001b[0;32m--> 118\u001b[0;31m     \u001b[0mgraphs\u001b[0m \u001b[0;34m=\u001b[0m \u001b[0;34m[\u001b[0m\u001b[0mself\u001b[0m\u001b[0;34m.\u001b[0m\u001b[0mCreateControlAndDataFlowUnion\u001b[0m\u001b[0;34m(\u001b[0m\u001b[0mcfg\u001b[0m\u001b[0;34m)\u001b[0m \u001b[0;32mfor\u001b[0m \u001b[0mcfg\u001b[0m \u001b[0;32min\u001b[0m \u001b[0mcfgs\u001b[0m\u001b[0;34m]\u001b[0m\u001b[0;34m\u001b[0m\u001b[0;34m\u001b[0m\u001b[0m\n\u001b[0m\u001b[1;32m    119\u001b[0m     \u001b[0;31m# Finally, compose the per-function graphs into a whole-module graph.\u001b[0m\u001b[0;34m\u001b[0m\u001b[0;34m\u001b[0m\u001b[0;34m\u001b[0m\u001b[0m\n\u001b[1;32m    120\u001b[0m     \u001b[0;32mreturn\u001b[0m \u001b[0mself\u001b[0m\u001b[0;34m.\u001b[0m\u001b[0mComposeGraphs\u001b[0m\u001b[0;34m(\u001b[0m\u001b[0mgraphs\u001b[0m\u001b[0;34m,\u001b[0m \u001b[0mcall_graph\u001b[0m\u001b[0;34m)\u001b[0m\u001b[0;34m\u001b[0m\u001b[0;34m\u001b[0m\u001b[0m\n",
      "\u001b[0;32m~/ProGraML/deeplearning/ml4pl/graphs/unlabelled/llvm2graph/graph_builder.py\u001b[0m in \u001b[0;36m<listcomp>\u001b[0;34m(.0)\u001b[0m\n\u001b[1;32m    116\u001b[0m \u001b[0;34m\u001b[0m\u001b[0m\n\u001b[1;32m    117\u001b[0m     \u001b[0;31m# Add data flow elements to control flow graphs.\u001b[0m\u001b[0;34m\u001b[0m\u001b[0;34m\u001b[0m\u001b[0;34m\u001b[0m\u001b[0m\n\u001b[0;32m--> 118\u001b[0;31m     \u001b[0mgraphs\u001b[0m \u001b[0;34m=\u001b[0m \u001b[0;34m[\u001b[0m\u001b[0mself\u001b[0m\u001b[0;34m.\u001b[0m\u001b[0mCreateControlAndDataFlowUnion\u001b[0m\u001b[0;34m(\u001b[0m\u001b[0mcfg\u001b[0m\u001b[0;34m)\u001b[0m \u001b[0;32mfor\u001b[0m \u001b[0mcfg\u001b[0m \u001b[0;32min\u001b[0m \u001b[0mcfgs\u001b[0m\u001b[0;34m]\u001b[0m\u001b[0;34m\u001b[0m\u001b[0;34m\u001b[0m\u001b[0m\n\u001b[0m\u001b[1;32m    119\u001b[0m     \u001b[0;31m# Finally, compose the per-function graphs into a whole-module graph.\u001b[0m\u001b[0;34m\u001b[0m\u001b[0;34m\u001b[0m\u001b[0;34m\u001b[0m\u001b[0m\n\u001b[1;32m    120\u001b[0m     \u001b[0;32mreturn\u001b[0m \u001b[0mself\u001b[0m\u001b[0;34m.\u001b[0m\u001b[0mComposeGraphs\u001b[0m\u001b[0;34m(\u001b[0m\u001b[0mgraphs\u001b[0m\u001b[0;34m,\u001b[0m \u001b[0mcall_graph\u001b[0m\u001b[0;34m)\u001b[0m\u001b[0;34m\u001b[0m\u001b[0;34m\u001b[0m\u001b[0m\n",
      "\u001b[0;32m~/ProGraML/deeplearning/ml4pl/graphs/unlabelled/llvm2graph/graph_builder.py\u001b[0m in \u001b[0;36mCreateControlAndDataFlowUnion\u001b[0;34m(self, cfg)\u001b[0m\n\u001b[1;32m    133\u001b[0m     \u001b[0;31m# Expand the control flow graph to a full flow graph (one block per\u001b[0m\u001b[0;34m\u001b[0m\u001b[0;34m\u001b[0m\u001b[0;34m\u001b[0m\u001b[0m\n\u001b[1;32m    134\u001b[0m     \u001b[0;31m# statement).\u001b[0m\u001b[0;34m\u001b[0m\u001b[0;34m\u001b[0m\u001b[0;34m\u001b[0m\u001b[0m\n\u001b[0;32m--> 135\u001b[0;31m     \u001b[0mffg\u001b[0m \u001b[0;34m=\u001b[0m \u001b[0mcfg\u001b[0m\u001b[0;34m.\u001b[0m\u001b[0mBuildFullFlowGraph\u001b[0m\u001b[0;34m(\u001b[0m\u001b[0;34m)\u001b[0m\u001b[0;34m\u001b[0m\u001b[0;34m\u001b[0m\u001b[0m\n\u001b[0m\u001b[1;32m    136\u001b[0m \u001b[0;34m\u001b[0m\u001b[0m\n\u001b[1;32m    137\u001b[0m     \u001b[0;31m# Copy the DiGraph to a MultiDiGraph, which is required for the parallel\u001b[0m\u001b[0;34m\u001b[0m\u001b[0;34m\u001b[0m\u001b[0;34m\u001b[0m\u001b[0m\n",
      "\u001b[0;32m~/ProGraML/deeplearning/ml4pl/graphs/unlabelled/llvm2graph/cfg/llvm_util.py\u001b[0m in \u001b[0;36mBuildFullFlowGraph\u001b[0;34m(self, remove_unconditional_branch_statements, remove_labels_in_branch_statements)\u001b[0m\n\u001b[1;32m    148\u001b[0m       \u001b[0mMalformedControlFlowGraphError\u001b[0m\u001b[0;34m:\u001b[0m \u001b[0mIn\u001b[0m \u001b[0mcase\u001b[0m \u001b[0mthe\u001b[0m \u001b[0mCFG\u001b[0m \u001b[0;32mis\u001b[0m \u001b[0;32mnot\u001b[0m \u001b[0mvalid\u001b[0m\u001b[0;34m.\u001b[0m\u001b[0;34m\u001b[0m\u001b[0;34m\u001b[0m\u001b[0m\n\u001b[1;32m    149\u001b[0m     \"\"\"\n\u001b[0;32m--> 150\u001b[0;31m     \u001b[0mself\u001b[0m\u001b[0;34m.\u001b[0m\u001b[0mValidateControlFlowGraph\u001b[0m\u001b[0;34m(\u001b[0m\u001b[0mstrict\u001b[0m\u001b[0;34m=\u001b[0m\u001b[0;32mFalse\u001b[0m\u001b[0;34m)\u001b[0m\u001b[0;34m\u001b[0m\u001b[0;34m\u001b[0m\u001b[0m\n\u001b[0m\u001b[1;32m    151\u001b[0m \u001b[0;34m\u001b[0m\u001b[0m\n\u001b[1;32m    152\u001b[0m     \u001b[0;31m# Create a new graph.\u001b[0m\u001b[0;34m\u001b[0m\u001b[0;34m\u001b[0m\u001b[0;34m\u001b[0m\u001b[0m\n",
      "\u001b[0;32m~/ProGraML/deeplearning/ml4pl/graphs/unlabelled/llvm2graph/cfg/llvm_util.py\u001b[0m in \u001b[0;36mValidateControlFlowGraph\u001b[0;34m(self, strict)\u001b[0m\n\u001b[1;32m    274\u001b[0m   ) -> \"LlvmControlFlowGraph\":\n\u001b[1;32m    275\u001b[0m     \u001b[0;34m\"\"\"Validate the control flow graph.\"\"\"\u001b[0m\u001b[0;34m\u001b[0m\u001b[0;34m\u001b[0m\u001b[0m\n\u001b[0;32m--> 276\u001b[0;31m     \u001b[0msuper\u001b[0m\u001b[0;34m(\u001b[0m\u001b[0mLlvmControlFlowGraph\u001b[0m\u001b[0;34m,\u001b[0m \u001b[0mself\u001b[0m\u001b[0;34m)\u001b[0m\u001b[0;34m.\u001b[0m\u001b[0mValidateControlFlowGraph\u001b[0m\u001b[0;34m(\u001b[0m\u001b[0mstrict\u001b[0m\u001b[0;34m=\u001b[0m\u001b[0mstrict\u001b[0m\u001b[0;34m)\u001b[0m\u001b[0;34m\u001b[0m\u001b[0;34m\u001b[0m\u001b[0m\n\u001b[0m\u001b[1;32m    277\u001b[0m \u001b[0;34m\u001b[0m\u001b[0m\n\u001b[1;32m    278\u001b[0m     \u001b[0;31m# Check that each basic block has a text section.\u001b[0m\u001b[0;34m\u001b[0m\u001b[0;34m\u001b[0m\u001b[0;34m\u001b[0m\u001b[0m\n",
      "\u001b[0;32m~/ProGraML/deeplearning/ml4pl/graphs/unlabelled/llvm2graph/cfg/control_flow_graph.py\u001b[0m in \u001b[0;36mValidateControlFlowGraph\u001b[0;34m(self, strict)\u001b[0m\n\u001b[1;32m    128\u001b[0m         \u001b[0;32mif\u001b[0m \u001b[0;32mnot\u001b[0m \u001b[0mnx\u001b[0m\u001b[0;34m.\u001b[0m\u001b[0mhas_path\u001b[0m\u001b[0;34m(\u001b[0m\u001b[0mself\u001b[0m\u001b[0;34m,\u001b[0m \u001b[0mentry_node\u001b[0m\u001b[0;34m,\u001b[0m \u001b[0mexit_node\u001b[0m\u001b[0;34m)\u001b[0m\u001b[0;34m:\u001b[0m\u001b[0;34m\u001b[0m\u001b[0;34m\u001b[0m\u001b[0m\n\u001b[1;32m    129\u001b[0m           raise MalformedControlFlowGraphError(\n\u001b[0;32m--> 130\u001b[0;31m             \u001b[0;34mf\"No path from entry node '{self.nodes[entry_node]['name']}' to \"\u001b[0m\u001b[0;34m\u001b[0m\u001b[0;34m\u001b[0m\u001b[0m\n\u001b[0m\u001b[1;32m    131\u001b[0m             \u001b[0;34mf\"exit node '{self.nodes[exit_node]['name']}' in function \"\u001b[0m\u001b[0;34m\u001b[0m\u001b[0;34m\u001b[0m\u001b[0m\n\u001b[1;32m    132\u001b[0m             \u001b[0;34mf\"`{self.name}`\"\u001b[0m\u001b[0;34m\u001b[0m\u001b[0;34m\u001b[0m\u001b[0m\n",
      "\u001b[0;31mMalformedControlFlowGraphError\u001b[0m: No path from entry node 'bb' to exit node 'bb56' in function `hoge`"
     ]
    }
   ],
   "source": [
    "with open('/mnt/data/llvm/inst2vec/eigen/eigen_sparse/eigen_sparse-600.ll', 'r') as f:\n",
    "    ll = f.read()\n",
    "\n",
    "nx_graph = builder.Build(ll)"
   ]
  },
  {
   "cell_type": "code",
   "execution_count": null,
   "metadata": {
    "scrolled": false
   },
   "outputs": [],
   "source": [
    "for d in nx_graph.nodes(data=True):\n",
    "    print(d)\n",
    "    "
   ]
  },
  {
   "cell_type": "code",
   "execution_count": 7,
   "metadata": {},
   "outputs": [],
   "source": [
    "with open('71.ll', 'r') as f:\n",
    "    ll = f.read()\n",
    "\n",
    "nx_graph = builder.Build(ll)"
   ]
  },
  {
   "cell_type": "code",
   "execution_count": 8,
   "metadata": {
    "scrolled": true
   },
   "outputs": [
    {
     "name": "stdout",
     "output_type": "stream",
     "text": [
      "0 1 {'flow': 2, 'position': 0}\n"
     ]
    }
   ],
   "source": [
    "# inspect the edge data manually\n",
    "\n",
    "for src, dest, data in nx_graph.edges(data=True):\n",
    "    print(src, dest, data)\n",
    "    break\n",
    "    #print(n, d)\n",
    "    #print(\"\")\n",
    "    #if n > 200:\n",
    "    #    break"
   ]
  },
  {
   "cell_type": "code",
   "execution_count": 9,
   "metadata": {
    "scrolled": false
   },
   "outputs": [
    {
     "name": "stdout",
     "output_type": "stream",
     "text": [
      "0 {'type': 0, 'text': 'root', 'preprocessed_text': '', 'function': None, 'x': [8567], 'y': []}\n",
      "\n",
      "1 {'function': 'main', 'type': 0, 'text': '%retval = alloca i32, align 4', 'preprocessed_text': '<%ID> = alloca i32, align 4', 'x': [289], 'y': []}\n",
      "\n",
      "2 {'function': 'main', 'type': 0, 'text': '%n = alloca i32, align 4', 'preprocessed_text': '<%ID> = alloca i32, align 4', 'x': [289], 'y': []}\n",
      "\n",
      "3 {'function': 'main', 'type': 0, 'text': '%b = alloca i32, align 4', 'preprocessed_text': '<%ID> = alloca i32, align 4', 'x': [289], 'y': []}\n",
      "\n"
     ]
    }
   ],
   "source": [
    "# inspect the node data manually\n",
    "for n, d in nx_graph.nodes.items():\n",
    "    print(n, d)\n",
    "    print(\"\")\n",
    "    if n > 2:\n",
    "        break"
   ]
  },
  {
   "cell_type": "code",
   "execution_count": 10,
   "metadata": {},
   "outputs": [
    {
     "data": {
      "image/png": "[encoded data removed]",
      "text/plain": [
       "<Figure size 1872x864 with 1 Axes>"
      ]
     },
     "metadata": {
      "needs_background": "light"
     },
     "output_type": "display_data"
    }
   ],
   "source": [
    "plt.figure(figsize=(26,12))\n",
    "nx.draw_networkx(nx_graph, alpha=0.4)\n",
    "plt.show()\n",
    "\n",
    "# requires graphviz\n",
    "#nx.drawing.nx_agraph.to_agraph(nx_graph).draw()"
   ]
  },
  {
   "cell_type": "code",
   "execution_count": null,
   "metadata": {
    "scrolled": false
   },
   "outputs": [],
   "source": []
  },
  {
   "cell_type": "markdown",
   "metadata": {},
   "source": [
    "### GraphTuple example"
   ]
  },
  {
   "cell_type": "code",
   "execution_count": 11,
   "metadata": {
    "scrolled": false
   },
   "outputs": [
    {
     "name": "stdout",
     "output_type": "stream",
     "text": [
      "['CreateFromNetworkX', 'CreateFromProgramGraph', 'FromFile', 'FromGraphTuples', 'SetFeaturesAndLabels', 'ToFile', 'ToGraphTuples', 'ToNetworkx', '_asdict', '_field_defaults', '_field_types', '_fields', '_fields_defaults', '_make', '_replace', 'adjacencies', 'call_edge_count', 'control_edge_count', 'count', 'data_edge_count', 'disjoint_graph_count', 'disjoint_nodes_list', 'edge_count', 'edge_position_max', 'edge_positions', 'graph_x', 'graph_x_dimensionality', 'graph_y', 'graph_y_dimensionality', 'has_graph_x', 'has_graph_y', 'has_node_y', 'index', 'is_disjoint_graph', 'node_count', 'node_x', 'node_x_dimensionality', 'node_y', 'node_y_dimensionality']\n",
      "\n",
      "\n",
      "edge_positions [(140,), (269,), (9,)]\n"
     ]
    }
   ],
   "source": [
    "# tuple example\n",
    "graph_tup = graph_tuple.GraphTuple.CreateFromNetworkX(nx_graph)\n",
    "print([a for a in dir(graph_tup) if '__' not in a])\n",
    "print('\\n')\n",
    "print('edge_positions', [x.shape for x in graph_tup.edge_positions])"
   ]
  },
  {
   "cell_type": "markdown",
   "metadata": {},
   "source": [
    "### Collect Token distribution stats on the example"
   ]
  },
  {
   "cell_type": "code",
   "execution_count": 12,
   "metadata": {},
   "outputs": [
    {
     "name": "stdout",
     "output_type": "stream",
     "text": [
      "188  1   0.400\n",
      "215  1   0.400\n",
      "216  16   6.400\n",
      "231  1   0.400\n",
      "252  8   3.200\n",
      "257  1   0.400\n",
      "263  1   0.400\n",
      "289  9   3.600\n",
      "295  31   12.400\n",
      "311  8   3.200\n",
      "364  6   2.400\n",
      "394  1   0.400\n",
      "412  1   0.400\n",
      "431  6   2.400\n",
      "598  1   0.400\n",
      "634  1   0.400\n",
      "658  8   3.200\n",
      "1122  3   1.200\n",
      "3722  1   0.400\n",
      "6277  6   2.400\n",
      "8564  32   12.800\n",
      "8565  106   42.400\n",
      "8567  1   0.400\n"
     ]
    }
   ],
   "source": [
    "x = graph_tup.node_x.T.squeeze()\n",
    "\n",
    "\n",
    "bins = np.bincount(x, minlength=8568)\n",
    "s = np.sum(bins)\n",
    "for i, c in enumerate(bins):\n",
    "    if c:\n",
    "        print(f\"{i}  {c}   {(c*100/s):.3f}\")"
   ]
  },
  {
   "cell_type": "markdown",
   "metadata": {},
   "source": [
    "# Main: Preprocess Datasets"
   ]
  },
  {
   "cell_type": "markdown",
   "metadata": {},
   "source": [
    "## Dev: tuple2data - GraphTuple -> Pyg data.Data"
   ]
  },
  {
   "cell_type": "code",
   "execution_count": 13,
   "metadata": {},
   "outputs": [
    {
     "name": "stdout",
     "output_type": "stream",
     "text": [
      "edge_attr (418,)\n",
      "torch.Size([418, 1])\n",
      "edge_indices [torch.Size([140, 2]), torch.Size([269, 2]), torch.Size([9, 2])]\n",
      "edge_types [(140,), (269,), (9,)]\n",
      "graph_tup.edge_positions [(140,), (269,), (9,)]\n",
      "edge_attr torch.Size([418, 2])\n",
      "x torch.Size([250, 1])\n",
      "y torch.Size([1])\n"
     ]
    }
   ],
   "source": [
    "# data example\n",
    "edge_indices = [torch.from_numpy(a).to(dtype=torch.long) for a in graph_tup.adjacencies] # list of <M_i, 2>\n",
    "edge_types = [i * np.ones_like(edge_indices[i])[:,0] for i in range(len(edge_indices))]\n",
    "edge_attr = np.hstack(edge_types)\n",
    "print('edge_attr', edge_attr.shape)\n",
    "\n",
    "t_attr = torch.from_numpy(edge_attr).to(dtype=torch.long).view(-1,1)\n",
    "print(t_attr.size())\n",
    "print('edge_indices', [x.shape for x in edge_indices])\n",
    "print('edge_types', [x.shape for x in edge_types])\n",
    "\n",
    "#edge_pos = [torch.from_numpy(a).to(dtype=torch.long) for a in graph_tup.edge_positions]\n",
    "print('graph_tup.edge_positions', [x.shape for x in graph_tup.edge_positions])\n",
    "edge_pos = np.hstack(graph_tup.edge_positions)\n",
    "\n",
    "edge_attr = np.vstack([edge_attr, edge_pos])\n",
    "\n",
    "edge_attr = torch.from_numpy(edge_attr.T).to(torch.long)\n",
    "print('edge_attr', edge_attr.size())\n",
    "\n",
    "# node_x as data.x\n",
    "x = torch.from_numpy(graph_tup.node_x).to(torch.long) #\n",
    "y = torch.from_numpy(np.array(42)).to(torch.long).view(1)\n",
    "print('x', x.size())\n",
    "print('y', y.size())"
   ]
  },
  {
   "cell_type": "code",
   "execution_count": 14,
   "metadata": {},
   "outputs": [],
   "source": [
    "def tuple2data(graph_tup, class_label):\n",
    "    # edges as data.edge_index\n",
    "    # list of <M_i, 2> tensors  (M_i = num_edges for ith edge type)\n",
    "    edge_indices = [torch.from_numpy(a).to(dtype=torch.long) for a in graph_tup.adjacencies] # list of <M_i, 2>\n",
    "\n",
    "    edge_index = torch.cat(edge_indices, dim=0).t().contiguous() # <2, M>\n",
    "\n",
    "    # (edge_type, edge_position) as data.edge_attr of shape <M, 2>\n",
    "    edge_types = [i * np.ones_like(edge_indices[i])[:,0] for i in range(len(edge_indices))]\n",
    "    edge_types = np.hstack(edge_types)\n",
    "    edge_pos = np.hstack(graph_tup.edge_positions)\n",
    "    edge_attr = np.vstack([edge_types, edge_pos]).T\n",
    "    \n",
    "    edge_attr = torch.from_numpy(edge_attr).to(dtype=torch.long).contiguous()  # <M, 2>\n",
    "    \n",
    "    assert edge_attr.size()[0] == edge_index.size()[1], f'edge_attr={edge_attr.size()} size mismatch with edge_index={edge_index.size()}'\n",
    "    \n",
    "    # node_x as data.x\n",
    "    x = torch.from_numpy(graph_tup.node_x).to(torch.long)  # <N, 1>\n",
    "    # class label as y\n",
    "    y = torch.from_numpy(np.array(class_label)).to(torch.long).view(1)  # <1>\n",
    "\n",
    "    data = Data(x=x, edge_index=edge_index, edge_attr=edge_attr, y=y)\n",
    "    return data"
   ]
  },
  {
   "cell_type": "code",
   "execution_count": 15,
   "metadata": {},
   "outputs": [
    {
     "data": {
      "text/plain": [
       "Data(edge_attr=[418, 2], edge_index=[2, 418], x=[250, 1], y=[1])"
      ]
     },
     "execution_count": 15,
     "metadata": {},
     "output_type": "execute_result"
    }
   ],
   "source": [
    "# tuple2data example\n",
    "tuple2data(graph_tup, 42)"
   ]
  },
  {
   "cell_type": "markdown",
   "metadata": {},
   "source": [
    "## Dev: nx2data (more flexible!)"
   ]
  },
  {
   "cell_type": "markdown",
   "metadata": {},
   "source": [
    "### By Example"
   ]
  },
  {
   "cell_type": "code",
   "execution_count": 16,
   "metadata": {},
   "outputs": [
    {
     "name": "stdout",
     "output_type": "stream",
     "text": [
      "(2, 129, {'position': 0, 'flow': 1})\n"
     ]
    },
    {
     "data": {
      "text/plain": [
       "(2,\n",
       " {'function': 'main',\n",
       "  'type': 0,\n",
       "  'text': '%n = alloca i32, align 4',\n",
       "  'preprocessed_text': '<%ID> = alloca i32, align 4',\n",
       "  'x': [289],\n",
       "  'y': []})"
      ]
     },
     "execution_count": 16,
     "metadata": {},
     "output_type": "execute_result"
    }
   ],
   "source": [
    "# inspect format\n",
    "print(list(nx_graph.edges(data=True))[12])\n",
    "list(nx_graph.nodes(data=True))[2]"
   ]
  },
  {
   "cell_type": "code",
   "execution_count": 17,
   "metadata": {},
   "outputs": [],
   "source": [
    "# Try to \"update\" the nx_graph.node.x:\n",
    "from deeplearning.ml4pl.graphs.unlabelled.llvm2graph.node_encoder import GraphNodeEncoder\n",
    "\n",
    "encoder = GraphNodeEncoder()\n",
    "\n",
    "# this changes the nx_graph in-place!\n",
    "encoder.EncodeNodes(nx_graph)"
   ]
  },
  {
   "cell_type": "code",
   "execution_count": 18,
   "metadata": {},
   "outputs": [
    {
     "data": {
      "text/plain": [
       "torch.Size([2, 418])"
      ]
     },
     "execution_count": 18,
     "metadata": {},
     "output_type": "execute_result"
    }
   ],
   "source": [
    "# collect edge_index\n",
    "edge_index = torch.tensor(list(nx_graph.edges())).t().contiguous()\n",
    "edge_index.size()"
   ]
  },
  {
   "cell_type": "code",
   "execution_count": 19,
   "metadata": {},
   "outputs": [
    {
     "data": {
      "text/plain": [
       "torch.Size([418, 2])"
      ]
     },
     "execution_count": 19,
     "metadata": {},
     "output_type": "execute_result"
    }
   ],
   "source": [
    "# collect edge attr\n",
    "positions = []\n",
    "flows = []\n",
    "for i, (_, _, edge_data) in enumerate(nx_graph.edges(data=True)):\n",
    "    positions.append(edge_data['position'])\n",
    "    flows.append(edge_data['flow'])\n",
    "positions = torch.tensor(positions)\n",
    "flows = torch.tensor(flows)\n",
    "edge_attr = torch.cat([flows, positions]).view(2, -1).t().contiguous()\n",
    "edge_attr.size()\n"
   ]
  },
  {
   "cell_type": "code",
   "execution_count": 20,
   "metadata": {},
   "outputs": [
    {
     "name": "stdout",
     "output_type": "stream",
     "text": [
      "(0, {'type': 0, 'text': 'root', 'preprocessed_text': 'root', 'function': None, 'x': [8564], 'y': []}) \n",
      "\n",
      "(27, {'function': 'main', 'type': 0, 'text': '%6 = load i32, i32* %b, align 4', 'preprocessed_text': '<%ID> = load i32, i32* <%ID>, align 4', 'x': [295], 'y': []})\n"
     ]
    },
    {
     "data": {
      "text/plain": [
       "torch.Size([250, 2])"
      ]
     },
     "execution_count": 20,
     "metadata": {},
     "output_type": "execute_result"
    }
   ],
   "source": [
    "# collect node attributes\n",
    "print(list(nx_graph.nodes(data=True))[0], '\\n')\n",
    "print(list(nx_graph.nodes(data=True))[27])\n",
    "\n",
    "\n",
    "types = []\n",
    "xs = []\n",
    "for i, node_data in nx_graph.nodes(data=True):\n",
    "    types.append(node_data['type'])\n",
    "    xs.append(node_data['x'])\n",
    "x = torch.cat([torch.tensor(xs), torch.tensor(xs)]).view(2, -1).t().contiguous()\n",
    "x.size()\n"
   ]
  },
  {
   "cell_type": "markdown",
   "metadata": {},
   "source": [
    "### unit test on this example"
   ]
  },
  {
   "cell_type": "markdown",
   "metadata": {},
   "source": [
    "### coalesce into nx2data function"
   ]
  },
  {
   "cell_type": "code",
   "execution_count": 21,
   "metadata": {},
   "outputs": [],
   "source": [
    "def nx2data(nx_graph, class_label):\n",
    "    r\"\"\"Converts a :obj:`networkx.Graph` or :obj:`networkx.DiGraph` to a\n",
    "    :class:`torch_geometric.data.Data` instance.\n",
    "\n",
    "    Args:\n",
    "        G (networkx.Graph or networkx.DiGraph): A networkx graph.\n",
    "    \"\"\"\n",
    "\n",
    "    # make sure the nx_graph is encoded properly (since node.x used to be buggy!)\n",
    "    # encoder = GraphNodeEncoder()\n",
    "    # encoder.EncodeNodes(nx_graph)\n",
    "\n",
    "    # collect edge_index\n",
    "    edge_index = torch.tensor(list(nx_graph.edges())).t().contiguous()\n",
    "\n",
    "    # collect edge_attr\n",
    "    positions = []\n",
    "    flows = []\n",
    "\n",
    "    for i, (_, _, edge_data) in enumerate(nx_graph.edges(data=True)):\n",
    "        positions.append(edge_data['position'])\n",
    "        flows.append(edge_data['flow'])\n",
    "\n",
    "    positions = torch.tensor(positions)\n",
    "    flows = torch.tensor(flows)\n",
    "\n",
    "    edge_attr = torch.cat([flows, positions]).view(2, -1).t().contiguous()\n",
    "    \n",
    "    # collect x\n",
    "    types = []\n",
    "    xs = []\n",
    "    \n",
    "    for i, node_data in nx_graph.nodes(data=True):\n",
    "        types.append(node_data['type'])\n",
    "        xs.append(node_data['x'][0])\n",
    "\n",
    "    xs = torch.tensor(xs)\n",
    "    types = torch.tensor(types)\n",
    "    \n",
    "    x = torch.cat([xs, types]).view(2, -1).t().contiguous()\n",
    "\n",
    "    y = torch.tensor(int(class_label)).view(1)  # <1>\n",
    "    \n",
    "    assert edge_attr.size()[0] == edge_index.size()[1], f'edge_attr={edge_attr.size()} size mismatch with edge_index={edge_index.size()}'\n",
    "    \n",
    "    data = Data(x=x, edge_index=edge_index, edge_attr=edge_attr, y=y)\n",
    "    return data"
   ]
  },
  {
   "cell_type": "code",
   "execution_count": 22,
   "metadata": {},
   "outputs": [
    {
     "data": {
      "text/plain": [
       "Data(edge_attr=[418, 2], edge_index=[2, 418], x=[250, 2], y=[1])"
      ]
     },
     "execution_count": 22,
     "metadata": {},
     "output_type": "execute_result"
    }
   ],
   "source": [
    "# testing \n",
    "with open('71.ll', 'r') as f:\n",
    "    ll = f.read()\n",
    "\n",
    "nx_graph = builder.Build(ll)\n",
    "\n",
    "with torch_geometric.debug():\n",
    "    data = nx2data(nx_graph, 42)\n",
    "\n",
    "graph_tup = graph_tuple.GraphTuple.CreateFromNetworkX(nx_graph)\n",
    "\n",
    "data"
   ]
  },
  {
   "cell_type": "code",
   "execution_count": 23,
   "metadata": {},
   "outputs": [
    {
     "name": "stdout",
     "output_type": "stream",
     "text": [
      "Data(edge_attr=[418, 2], edge_index=[2, 418], x=[250, 1], y=[1])\n",
      "True\n",
      "True\n",
      "True\n",
      "True\n"
     ]
    }
   ],
   "source": [
    "# unit test comparison on '71.ll'\n",
    "\n",
    "golden_data = tuple2data(graph_tup, class_label=42)\n",
    "print(golden_data)\n",
    "\n",
    "# test edge_index\n",
    "print(np.all(np.sort(golden_data.edge_index.numpy()) == np.sort(data.edge_index.numpy())))\n",
    "\n",
    "# test edge_attr (loose test of plausibility)\n",
    "print(np.all(np.sort(golden_data.edge_attr.numpy()[:,0]) == np.sort(data.edge_attr.numpy()[:,0])))\n",
    "print(np.all(np.sort(golden_data.edge_attr.numpy()[:,1]) == np.sort(data.edge_attr.numpy()[:,1])))\n",
    "\n",
    "# test node_x (can only test x and not type with golden!)\n",
    "golden_x_sorted = np.sort(golden_data.x.numpy()[:,0])\n",
    "x_sorted = np.sort(data.x.numpy()[:,0])\n",
    "print(np.all(golden_x_sorted == x_sorted))\n",
    "if not np.all(golden_x_sorted == x_sorted):\n",
    "    print('-------')\n",
    "    mask = golden_x_sorted != x_sorted\n",
    "    print(f'golden_x_sorted[mask] =  {golden_x_sorted[mask]}')\n",
    "    print(f'x_sorted[mask] =         {x_sorted[mask]}')"
   ]
  },
  {
   "cell_type": "code",
   "execution_count": 24,
   "metadata": {},
   "outputs": [],
   "source": [
    "from multiprocessing import Pool\n",
    "import tqdm\n",
    "import os\n",
    "\n",
    "def dump(outfile, data, mkdir=True):\n",
    "    if mkdir:\n",
    "        outfile.parent.mkdir(exist_ok=True, parents=True)\n",
    "    with open(outfile, 'wb') as f:\n",
    "        pickle.dump(data, f)\n",
    "\n",
    "def load(file):\n",
    "    with open(file, 'rb') as f:\n",
    "        data = pickle.load(f)\n",
    "    return data"
   ]
  },
  {
   "cell_type": "code",
   "execution_count": 25,
   "metadata": {
    "code_folding": []
   },
   "outputs": [],
   "source": [
    "def preprocess_ds_raw_dir(ds_base, dump_nx=True, dump_tuple=True, dump_data=True, pool_size=12):\n",
    "    \"\"\"Preprocess all .ll files in folders named by class ids e.g. ds_base/1, ds_base/2, ...\n",
    "    into pytorch-geometric data.Data instances.\n",
    "    \n",
    "    The intermediate nx graphs and graph_tuples can be saved as well.\n",
    "    \"\"\"\n",
    "\n",
    "    out_base = ds_base.parent / (ds_base.name + '_programl')\n",
    "    out_base.mkdir(parents=True, exist_ok=True)\n",
    "    problems = open(out_base / 'problems.txt', 'a')\n",
    "    print(f\"=== DATASET {ds_base}: preprocessing will be saved in {out_base}\")\n",
    "\n",
    "    # get all subfolders 1/ 2/ etc\n",
    "    folders = [x for x in ds_base.glob('*') if x.is_dir()]\n",
    "\n",
    "    for i, folder in enumerate(folders):\n",
    "        try:\n",
    "            int(folder.name)\n",
    "        except ValueError as e:\n",
    "            print(f\"Folder {i} has to be named with integervalues, but is {folder.name}.\")\n",
    "            raise e\n",
    "    \n",
    "    # multiprocessed loop over folders\n",
    "    pool = Pool(processes=pool_size)\n",
    "    task_args = [(folder, dump_nx, dump_tuple, dump_data, out_base) for folder in folders]\n",
    "    \n",
    "    for probs in tqdm.tqdm(pool.imap_unordered(_process_single_folder, task_args), total=len(task_args)):\n",
    "        if len(probs) > 15: # don't print empty strings like '\\n\\n\\n'\n",
    "            print(probs, file=problems)\n",
    "    \n",
    "    pool.close()\n",
    "    pool.join()\n",
    "\n",
    "    problems.close()\n",
    "    print(f\" * COMPLETED * === DATASET {ds_base}: preprocessing saved to {out_base}\")\n",
    "    \n",
    "    "
   ]
  },
  {
   "cell_type": "code",
   "execution_count": 26,
   "metadata": {
    "code_folding": []
   },
   "outputs": [],
   "source": [
    "def _process_single_folder(args):\n",
    "    \"\"\"The new version will skip tuple creation completely.\"\"\"\n",
    "    folder, dump_nx, dump_tuple, dump_data, out_base = args\n",
    "    del dump_tuple\n",
    "    \n",
    "    problems = \"\"\n",
    "    \n",
    "    print(f\"=== Opening Folder {str(folder)} ===\")\n",
    "    \n",
    "    label = int(folder.name)\n",
    "    files = list(folder.glob('*.ll'))\n",
    "    \n",
    "    # iterate over all .ll files in folder and confirm and respectively create the .nx.p and .data.p files\n",
    "    for i, file in enumerate(files):\n",
    "        outfile_nx = out_base / '_nx' / folder.name / (file.name.rsplit('.', 1)[0] + '.nx.p')\n",
    "        outfile_data = out_base / folder.name / (file.name.rsplit('.', 1)[0] + '.data.p')\n",
    "\n",
    "        # find out where to start processing\n",
    "\n",
    "        # skip entirely?\n",
    "        if outfile_data.is_file():\n",
    "            continue\n",
    "\n",
    "        # start at step 2: nx --> data ?\n",
    "        if outfile_nx.is_file():\n",
    "            nx_graph = load(outfile_nx)            \n",
    "            data = nx2data(nx_graph, class_label=label)\n",
    "            dump(outfile_data, data)\n",
    "            \n",
    "            # TODO: delete this line soon !!!!!!!!!!!!!!!!!!!!!!!!!!!!!!!!!!!!!!!!!!!!!!!!!!!!!!!!\n",
    "            # also write back nx_file because the tokenization has been bug-fixed!\n",
    "            # dump(outfile_nx, nx_graph)\n",
    "            continue\n",
    "        \n",
    "        # start in the beginning:\n",
    "        # ~~~ step 1: .ll --> nx ~~~\n",
    "        if i % 100 == 0:\n",
    "            print(f\"{folder.name} - [{i}/{len(files)}] Processing {str(file)} ...\")\n",
    "        \n",
    "        with open(file, 'r') as f:\n",
    "            bytecode = f.read()\n",
    "\n",
    "        try:\n",
    "            nx_graph = builder.Build(bytecode) # nx\n",
    "            if dump_nx:\n",
    "                dump(outfile_nx, nx_graph)\n",
    "        except:\n",
    "            print(f\"***** FAILING ON {str(file)} ... renaming file to .ll_ \")\n",
    "            problems += str(file)\n",
    "            problems += '\\n'\n",
    "            file.rename(file.with_suffix('.ll_'))\n",
    "            continue\n",
    "\n",
    "        # step 2: nx --> data\n",
    "        data = nx2data(nx_graph, class_label=label)\n",
    "        dump(outfile_data, data)\n",
    "\n",
    "    return problems"
   ]
  },
  {
   "cell_type": "code",
   "execution_count": 27,
   "metadata": {
    "code_folding": [
     0
    ],
    "scrolled": true
   },
   "outputs": [],
   "source": [
    "def _process_single_folder_deprecated(args):\n",
    "    folder, dump_nx, dump_tuple, dump_data, out_base = args\n",
    "    problems = \"\"\n",
    "    \n",
    "    print(f\"=== Opening Folder {str(folder)} ===\")\n",
    "    \n",
    "    label = int(folder.name)\n",
    "    files = list(folder.glob('*.ll'))\n",
    "    for i, file in enumerate(files):\n",
    "        outfile_nx = out_base / '_nx' / folder.name / (file.name.rsplit('.', 1)[0] + '.nx.p')\n",
    "        outfile_tuple = out_base / '_tuples' / folder.name / (file.name.rsplit('.', 1)[0] + '.tuple.p')\n",
    "        outfile_data = out_base / folder.name / (file.name.rsplit('.', 1)[0] + '.data.p')\n",
    "\n",
    "        # find out where to start processing\n",
    "\n",
    "        # skip entirely?\n",
    "        if outfile_data.is_file():\n",
    "            continue\n",
    "\n",
    "        # start at step 3: tuple -> data?\n",
    "        if outfile_tuple.is_file():\n",
    "            graph_tup = load(outfile_tuple)\n",
    "            \n",
    "            # ~~~ step 3: tuple --> data ~~~\n",
    "            data = tuple2data(graph_tup, class_label=label)\n",
    "            dump(outfile_data, data)\n",
    "            continue\n",
    "\n",
    "        # start at step 2: nx --> tuple ?\n",
    "        if outfile_nx.is_file():\n",
    "            nx_graph = load(outfile)\n",
    "            \n",
    "            # ~~~ step 2: nx --> tuple ~~~\n",
    "            graph_tup = graph_tuple.GraphTuple.CreateFromNetworkX(nx_graph)\n",
    "            if dump_tuple:\n",
    "                dump(outfile_tuple, graph_tup)\n",
    "            \n",
    "            # step 3: tuple --> data            \n",
    "            data = tuple2data(graph_tup, class_label=label)\n",
    "            dump(outfile_data, data)\n",
    "            continue\n",
    "        \n",
    "        # start in the beginning:\n",
    "        # ~~~ step 1: .ll --> nx ~~~\n",
    "        if i % 100 == 0:\n",
    "            print(f\"{folder.name} - [{i}/{len(files)}] Processing {str(file)} ...\")\n",
    "        \n",
    "        with open(file, 'r') as f:\n",
    "            bytecode = f.read()\n",
    "\n",
    "        try:\n",
    "            nx_graph = builder.Build(bytecode) # nx\n",
    "            if dump_nx:\n",
    "                dump(outfile, nx_graph)\n",
    "        except:\n",
    "            print(f\"***** FAILING ON {str(file)} ... renaming file to .ll_ \")\n",
    "            problems += str(file)\n",
    "            problems += '\\n'\n",
    "            file.rename(file.with_suffix('.ll_'))\n",
    "            continue\n",
    "\n",
    "        # step 2: nx --> tuple\n",
    "        graph_tup = graph_tuple.GraphTuple.CreateFromNetworkX(nx_graph)\n",
    "        if dump_tuple:\n",
    "            dump(outfile_tuple, graph_tup)\n",
    "\n",
    "        # step 3: tuple --> data            \n",
    "        data = tuple2data(graph_tup, class_label=label)\n",
    "        dump(outfile_data, data)\n",
    "\n",
    "    return problems"
   ]
  },
  {
   "cell_type": "code",
   "execution_count": 10,
   "metadata": {
    "code_folding": [
     0
    ]
   },
   "outputs": [],
   "source": [
    "# download dataset if needed\n",
    "import wget\n",
    "import zipfile\n",
    "\n",
    "def download_and_unzip(url, dataset_name, data_folder):\n",
    "    \"\"\"\n",
    "    Download and unzip data set folder from url\n",
    "    :param url: from which to download\n",
    "    :param dataset_name: name of data set (for printing)\n",
    "    :param data_folder: folder in which to put the downloaded data\n",
    "    \"\"\"\n",
    "    print('Downloading', dataset_name, 'data set...')\n",
    "    if not os.path.exists(data_folder):\n",
    "        os.makedirs(data_folder)\n",
    "    data_zip = wget.download(url, out=data_folder)\n",
    "    print('\\tunzipping...')\n",
    "    zip_ = zipfile.ZipFile(data_zip, 'r')\n",
    "    assert os.path.isdir(data_folder), data_folder\n",
    "    zip_.extractall(data_folder)\n",
    "    zip_.close()\n",
    "    print('\\tdone')\n",
    "\n",
    "def download_classifyapp(dataset_path, dataset_name):\n",
    "    # get Path object\n",
    "    if type(dataset_path) == str:\n",
    "        dataset_path = Path(dataset_path)\n",
    "    dataset_path = dataset_path / dataset_name\n",
    "        \n",
    "    # Acquire data\n",
    "    if not dataset_path.exists():\n",
    "        dataset_path.mkdir(parents=True)\n",
    "        download_and_unzip('https://polybox.ethz.ch/index.php/s/JOBjrfmAjOeWCyl/download',\n",
    "                                      dataset_name, str(dataset_path.absolute()))\n",
    "    else:\n",
    "        print(f'skipped downloading to {str(dataset_path.absolute())}')"
   ]
  },
  {
   "cell_type": "markdown",
   "metadata": {},
   "source": [
    "## *needs action:*"
   ]
  },
  {
   "cell_type": "code",
   "execution_count": 11,
   "metadata": {},
   "outputs": [
    {
     "name": "stdout",
     "output_type": "stream",
     "text": [
      "/home/zacharias/ProGraML/deeplearning/ml4pl/poj104\r\n"
     ]
    }
   ],
   "source": [
    "!pwd"
   ]
  },
  {
   "cell_type": "code",
   "execution_count": 13,
   "metadata": {},
   "outputs": [
    {
     "name": "stdout",
     "output_type": "stream",
     "text": [
      "Downloading classifyapp_data data set...\n",
      "\tunzipping...\n",
      "\tdone\n"
     ]
    }
   ],
   "source": [
    "# Set where to store the dataset and download automagically\n",
    "ds_basepath = Path('/mnt/data/llvm/master_thesis_datasets')\n",
    "\n",
    "# uncomment this line to save data \"in place\"\n",
    "#ds_basepath = Path(repo_root) / 'deeplearning/ml4pl/poj104'\n",
    "\n",
    "logs_basepath = ds_basepath / 'logs' / 'new_classifyapp_logs'\n",
    "\n",
    "ds_basepath.mkdir(parents=True, exist_ok=True)\n",
    "logs_basepath.mkdir(parents=True, exist_ok=True)\n",
    "\n",
    "download_classifyapp(ds_basepath)"
   ]
  },
  {
   "cell_type": "code",
   "execution_count": 33,
   "metadata": {},
   "outputs": [
    {
     "name": "stdout",
     "output_type": "stream",
     "text": [
      "/mnt/data/llvm/master_thesis_datasets/classifyapp_data\n",
      "/home/zacharias/ProGraML/deeplearning/ml4pl/poj104/\n",
      "/mnt/data/llvm/master_thesis_datasets/classifyapp_logs\n",
      "/home/zacharias/ProGraML/deeplearning/ml4pl/poj104/\n"
     ]
    }
   ],
   "source": [
    "# link those places into poj104 folder\n",
    "\n",
    "data_source = str((ds_basepath / 'new_classifyapp_data').absolute())\n",
    "print(data_source)\n",
    "data_target = repo_root + '/deeplearning/ml4pl/poj104/'\n",
    "print(data_target)\n",
    "\n",
    "logs_source = str(logs_basepath.absolute())\n",
    "print(logs_source)\n",
    "logs_target = repo_root + '/deeplearning/ml4pl/poj104/'\n",
    "print(logs_target)"
   ]
  },
  {
   "cell_type": "code",
   "execution_count": 34,
   "metadata": {},
   "outputs": [
    {
     "name": "stdout",
     "output_type": "stream",
     "text": [
      "ln: failed to create symbolic link '/home/zacharias/ProGraML/deeplearning/ml4pl/poj104/classifyapp_data': File exists\n",
      "ln: failed to create symbolic link '/home/zacharias/ProGraML/deeplearning/ml4pl/poj104/classifyapp_logs': File exists\n",
      "lrwxrwxrwx  1 zacharias zacharias   54 Jan  9 17:06 classifyapp_data -> /mnt/data/llvm/master_thesis_datasets/classifyapp_data\n",
      "lrwxrwxrwx  1 zacharias zacharias   54 Jan  9 17:06 classifyapp_logs -> /mnt/data/llvm/master_thesis_datasets/classifyapp_logs\n"
     ]
    }
   ],
   "source": [
    "! ln -s {data_source} {data_target}\n",
    "! ln -s {logs_source} {logs_target}\n",
    "! ls -lah {str(repo_root + '/deeplearning/ml4pl/poj104')} | grep classifyapp"
   ]
  },
  {
   "cell_type": "markdown",
   "metadata": {},
   "source": [
    "### Process validation set"
   ]
  },
  {
   "cell_type": "code",
   "execution_count": 36,
   "metadata": {
    "scrolled": true
   },
   "outputs": [
    {
     "name": "stdout",
     "output_type": "stream",
     "text": [
      "ir_val\n",
      "=== DATASET /mnt/data/llvm/master_thesis_datasets/classifyapp_data/ir_val: preprocessing will be saved in /mnt/data/llvm/master_thesis_datasets/classifyapp_data/ir_val_programl\n"
     ]
    },
    {
     "name": "stderr",
     "output_type": "stream",
     "text": [
      "\r",
      "  0%|          | 0/104 [00:00<?, ?it/s]"
     ]
    },
    {
     "name": "stdout",
     "output_type": "stream",
     "text": [
      "=== Opening Folder /mnt/data/llvm/master_thesis_datasets/classifyapp_data/ir_val/26 ===\n",
      "=== Opening Folder /mnt/data/llvm/master_thesis_datasets/classifyapp_data/ir_val/18 ===\n",
      "=== Opening Folder /mnt/data/llvm/master_thesis_datasets/classifyapp_data/ir_val/9 ===\n",
      "=== Opening Folder /mnt/data/llvm/master_thesis_datasets/classifyapp_data/ir_val/89 ===\n",
      "=== Opening Folder /mnt/data/llvm/master_thesis_datasets/classifyapp_data/ir_val/45 ===\n",
      "=== Opening Folder /mnt/data/llvm/master_thesis_datasets/classifyapp_data/ir_val/54 ===\n",
      "=== Opening Folder /mnt/data/llvm/master_thesis_datasets/classifyapp_data/ir_val/99 ===\n",
      "=== Opening Folder /mnt/data/llvm/master_thesis_datasets/classifyapp_data/ir_val/32 ===\n",
      "=== Opening Folder /mnt/data/llvm/master_thesis_datasets/classifyapp_data/ir_val/22 ===\n",
      "=== Opening Folder /mnt/data/llvm/master_thesis_datasets/classifyapp_data/ir_val/11 ===\n",
      "=== Opening Folder /mnt/data/llvm/master_thesis_datasets/classifyapp_data/ir_val/77 ===\n",
      "=== Opening Folder /mnt/data/llvm/master_thesis_datasets/classifyapp_data/ir_val/75 ===\n",
      "=== Opening Folder /mnt/data/llvm/master_thesis_datasets/classifyapp_data/ir_val/59 ===\n",
      "=== Opening Folder /mnt/data/llvm/master_thesis_datasets/classifyapp_data/ir_val/14 ===\n",
      "=== Opening Folder /mnt/data/llvm/master_thesis_datasets/classifyapp_data/ir_val/28 ===\n",
      "=== Opening Folder /mnt/data/llvm/master_thesis_datasets/classifyapp_data/ir_val/4 ===\n",
      "18 - [0/101] Processing /mnt/data/llvm/master_thesis_datasets/classifyapp_data/ir_val/18/1435.ll ...\n",
      "9 - [0/84] Processing /mnt/data/llvm/master_thesis_datasets/classifyapp_data/ir_val/9/1308.ll ...\n",
      "45 - [0/89] Processing /mnt/data/llvm/master_thesis_datasets/classifyapp_data/ir_val/45/2850.ll ...\n",
      "32 - [0/84] Processing /mnt/data/llvm/master_thesis_datasets/classifyapp_data/ir_val/32/1988.ll ...\n",
      "26 - [0/88] Processing /mnt/data/llvm/master_thesis_datasets/classifyapp_data/ir_val/26/867.ll ...\n",
      "54 - [0/91] Processing /mnt/data/llvm/master_thesis_datasets/classifyapp_data/ir_val/54/1715.ll ...\n",
      "22 - [0/92] Processing /mnt/data/llvm/master_thesis_datasets/classifyapp_data/ir_val/22/17.ll ...\n",
      "75 - [0/91] Processing /mnt/data/llvm/master_thesis_datasets/classifyapp_data/ir_val/75/981.ll ...\n",
      "89 - [0/79] Processing /mnt/data/llvm/master_thesis_datasets/classifyapp_data/ir_val/89/867.ll ...\n",
      "4 - [0/82] Processing /mnt/data/llvm/master_thesis_datasets/classifyapp_data/ir_val/4/788.ll ...\n",
      "99 - [0/81] Processing /mnt/data/llvm/master_thesis_datasets/classifyapp_data/ir_val/99/2397.ll ...\n",
      "14 - [0/107] Processing /mnt/data/llvm/master_thesis_datasets/classifyapp_data/ir_val/14/658.ll ...\n",
      "11 - [0/96] Processing /mnt/data/llvm/master_thesis_datasets/classifyapp_data/ir_val/11/678.ll ...\n",
      "77 - [0/103] Processing /mnt/data/llvm/master_thesis_datasets/classifyapp_data/ir_val/77/1599.ll ...\n",
      "59 - [0/106] Processing /mnt/data/llvm/master_thesis_datasets/classifyapp_data/ir_val/59/1466.ll ...\n",
      "28 - [0/79] Processing /mnt/data/llvm/master_thesis_datasets/classifyapp_data/ir_val/28/271.ll ...\n",
      "\u001b[1m\u001b[96mRemoved 1 block without predecessors from `_Z4sortP7patientPci`, 6 blocks remaining\u001b[0m\n",
      "\u001b[1m\u001b[96mRemoved 1 block without predecessors from `_Z5creatP7patientPci`, 4 blocks remaining\u001b[0m\n",
      "\u001b[1m\u001b[96mRemoved 1 block without predecessors from `main`, 10 blocks remaining\u001b[0m\n"
     ]
    },
    {
     "name": "stderr",
     "output_type": "stream",
     "text": [
      "\r",
      "  1%|          | 1/104 [00:48<1:22:55, 48.31s/it]"
     ]
    },
    {
     "name": "stdout",
     "output_type": "stream",
     "text": [
      "=== Opening Folder /mnt/data/llvm/master_thesis_datasets/classifyapp_data/ir_val/46 ===\n",
      "46 - [0/75] Processing /mnt/data/llvm/master_thesis_datasets/classifyapp_data/ir_val/46/2397.ll ...\n"
     ]
    },
    {
     "name": "stderr",
     "output_type": "stream",
     "text": [
      "\r",
      "  2%|▏         | 2/104 [00:48<57:47, 33.99s/it]  "
     ]
    },
    {
     "name": "stdout",
     "output_type": "stream",
     "text": [
      "=== Opening Folder /mnt/data/llvm/master_thesis_datasets/classifyapp_data/ir_val/48 ===\n",
      "48 - [0/86] Processing /mnt/data/llvm/master_thesis_datasets/classifyapp_data/ir_val/48/994.ll ...\n"
     ]
    },
    {
     "name": "stderr",
     "output_type": "stream",
     "text": [
      "\r",
      "  3%|▎         | 3/104 [00:49<40:35, 24.12s/it]"
     ]
    },
    {
     "name": "stdout",
     "output_type": "stream",
     "text": [
      "=== Opening Folder /mnt/data/llvm/master_thesis_datasets/classifyapp_data/ir_val/5 ===\n",
      "5 - [0/110] Processing /mnt/data/llvm/master_thesis_datasets/classifyapp_data/ir_val/5/678.ll ...\n"
     ]
    },
    {
     "name": "stderr",
     "output_type": "stream",
     "text": [
      "\r",
      "  4%|▍         | 4/104 [00:51<28:59, 17.40s/it]"
     ]
    },
    {
     "name": "stdout",
     "output_type": "stream",
     "text": [
      "=== Opening Folder /mnt/data/llvm/master_thesis_datasets/classifyapp_data/ir_val/65 ===\n",
      "65 - [0/85] Processing /mnt/data/llvm/master_thesis_datasets/classifyapp_data/ir_val/65/916.ll ...\n"
     ]
    },
    {
     "name": "stderr",
     "output_type": "stream",
     "text": [
      "\r",
      "  5%|▍         | 5/104 [00:52<20:15, 12.27s/it]"
     ]
    },
    {
     "name": "stdout",
     "output_type": "stream",
     "text": [
      "=== Opening Folder /mnt/data/llvm/master_thesis_datasets/classifyapp_data/ir_val/13 ===\n",
      "13 - [0/94] Processing /mnt/data/llvm/master_thesis_datasets/classifyapp_data/ir_val/13/1715.ll ...\n"
     ]
    },
    {
     "name": "stderr",
     "output_type": "stream",
     "text": [
      "\r",
      "  6%|▌         | 6/104 [00:56<16:09,  9.90s/it]"
     ]
    },
    {
     "name": "stdout",
     "output_type": "stream",
     "text": [
      "=== Opening Folder /mnt/data/llvm/master_thesis_datasets/classifyapp_data/ir_val/93 ===\n",
      "93 - [0/93] Processing /mnt/data/llvm/master_thesis_datasets/classifyapp_data/ir_val/93/2067.ll ...\n",
      "77 - [100/103] Processing /mnt/data/llvm/master_thesis_datasets/classifyapp_data/ir_val/77/228.ll ...\n"
     ]
    },
    {
     "name": "stderr",
     "output_type": "stream",
     "text": [
      "\r",
      "  7%|▋         | 7/104 [01:12<19:04, 11.79s/it]"
     ]
    },
    {
     "name": "stdout",
     "output_type": "stream",
     "text": [
      "=== Opening Folder /mnt/data/llvm/master_thesis_datasets/classifyapp_data/ir_val/51 ===\n",
      "51 - [0/99] Processing /mnt/data/llvm/master_thesis_datasets/classifyapp_data/ir_val/51/17.ll ...\n"
     ]
    },
    {
     "name": "stderr",
     "output_type": "stream",
     "text": [
      "\r",
      "  8%|▊         | 8/104 [01:13<13:30,  8.44s/it]"
     ]
    },
    {
     "name": "stdout",
     "output_type": "stream",
     "text": [
      "=== Opening Folder /mnt/data/llvm/master_thesis_datasets/classifyapp_data/ir_val/86 ===\n",
      "86 - [0/85] Processing /mnt/data/llvm/master_thesis_datasets/classifyapp_data/ir_val/86/678.ll ...\n"
     ]
    },
    {
     "name": "stderr",
     "output_type": "stream",
     "text": [
      "\r",
      "  9%|▊         | 9/104 [01:13<09:27,  5.97s/it]"
     ]
    },
    {
     "name": "stdout",
     "output_type": "stream",
     "text": [
      "=== Opening Folder /mnt/data/llvm/master_thesis_datasets/classifyapp_data/ir_val/2 ===\n",
      "2 - [0/83] Processing /mnt/data/llvm/master_thesis_datasets/classifyapp_data/ir_val/2/256.ll ...\n"
     ]
    },
    {
     "name": "stderr",
     "output_type": "stream",
     "text": [
      "\r",
      " 10%|▉         | 10/104 [01:15<07:31,  4.80s/it]"
     ]
    },
    {
     "name": "stdout",
     "output_type": "stream",
     "text": [
      "=== Opening Folder /mnt/data/llvm/master_thesis_datasets/classifyapp_data/ir_val/95 ===\n",
      "95 - [0/95] Processing /mnt/data/llvm/master_thesis_datasets/classifyapp_data/ir_val/95/801.ll ...\n"
     ]
    },
    {
     "name": "stderr",
     "output_type": "stream",
     "text": [
      "\r",
      " 11%|█         | 11/104 [01:16<05:39,  3.65s/it]"
     ]
    },
    {
     "name": "stdout",
     "output_type": "stream",
     "text": [
      "=== Opening Folder /mnt/data/llvm/master_thesis_datasets/classifyapp_data/ir_val/23 ===\n",
      "23 - [0/79] Processing /mnt/data/llvm/master_thesis_datasets/classifyapp_data/ir_val/23/17.ll ...\n",
      "14 - [100/107] Processing /mnt/data/llvm/master_thesis_datasets/classifyapp_data/ir_val/14/253.ll ...\n"
     ]
    },
    {
     "name": "stderr",
     "output_type": "stream",
     "text": [
      "\r",
      " 12%|█▏        | 12/104 [01:21<06:09,  4.02s/it]"
     ]
    },
    {
     "name": "stdout",
     "output_type": "stream",
     "text": [
      "=== Opening Folder /mnt/data/llvm/master_thesis_datasets/classifyapp_data/ir_val/104 ===\n",
      "104 - [0/87] Processing /mnt/data/llvm/master_thesis_datasets/classifyapp_data/ir_val/104/435.ll ...\n"
     ]
    },
    {
     "name": "stderr",
     "output_type": "stream",
     "text": [
      "\r",
      " 12%|█▎        | 13/104 [01:22<04:41,  3.09s/it]"
     ]
    },
    {
     "name": "stdout",
     "output_type": "stream",
     "text": [
      "=== Opening Folder /mnt/data/llvm/master_thesis_datasets/classifyapp_data/ir_val/63 ===\n",
      "63 - [0/85] Processing /mnt/data/llvm/master_thesis_datasets/classifyapp_data/ir_val/63/2087.ll ...\n"
     ]
    },
    {
     "name": "stderr",
     "output_type": "stream",
     "text": [
      "\r",
      " 13%|█▎        | 14/104 [01:24<04:06,  2.74s/it]"
     ]
    },
    {
     "name": "stdout",
     "output_type": "stream",
     "text": [
      "=== Opening Folder /mnt/data/llvm/master_thesis_datasets/classifyapp_data/ir_val/49 ===\n",
      "49 - [0/104] Processing /mnt/data/llvm/master_thesis_datasets/classifyapp_data/ir_val/49/475.ll ...\n"
     ]
    },
    {
     "name": "stderr",
     "output_type": "stream",
     "text": [
      "\r",
      " 14%|█▍        | 15/104 [01:53<15:46, 10.64s/it]"
     ]
    },
    {
     "name": "stdout",
     "output_type": "stream",
     "text": [
      "=== Opening Folder /mnt/data/llvm/master_thesis_datasets/classifyapp_data/ir_val/71 ===\n",
      "71 - [0/107] Processing /mnt/data/llvm/master_thesis_datasets/classifyapp_data/ir_val/71/1542.ll ...\n"
     ]
    },
    {
     "name": "stderr",
     "output_type": "stream",
     "text": [
      "\r",
      " 15%|█▌        | 16/104 [02:04<15:42, 10.71s/it]"
     ]
    },
    {
     "name": "stdout",
     "output_type": "stream",
     "text": [
      "=== Opening Folder /mnt/data/llvm/master_thesis_datasets/classifyapp_data/ir_val/76 ===\n",
      "76 - [0/97] Processing /mnt/data/llvm/master_thesis_datasets/classifyapp_data/ir_val/76/5.ll ...\n"
     ]
    },
    {
     "name": "stderr",
     "output_type": "stream",
     "text": [
      "\r",
      " 16%|█▋        | 17/104 [02:07<12:27,  8.59s/it]"
     ]
    },
    {
     "name": "stdout",
     "output_type": "stream",
     "text": [
      "=== Opening Folder /mnt/data/llvm/master_thesis_datasets/classifyapp_data/ir_val/79 ===\n",
      "79 - [0/77] Processing /mnt/data/llvm/master_thesis_datasets/classifyapp_data/ir_val/79/3884.ll ...\n"
     ]
    },
    {
     "name": "stderr",
     "output_type": "stream",
     "text": [
      "\r",
      " 17%|█▋        | 18/104 [02:10<09:39,  6.74s/it]"
     ]
    },
    {
     "name": "stdout",
     "output_type": "stream",
     "text": [
      "=== Opening Folder /mnt/data/llvm/master_thesis_datasets/classifyapp_data/ir_val/70 ===\n",
      "70 - [0/81] Processing /mnt/data/llvm/master_thesis_datasets/classifyapp_data/ir_val/70/200.ll ...\n"
     ]
    },
    {
     "name": "stderr",
     "output_type": "stream",
     "text": [
      "\r",
      " 18%|█▊        | 19/104 [02:12<07:34,  5.35s/it]"
     ]
    },
    {
     "name": "stdout",
     "output_type": "stream",
     "text": [
      "=== Opening Folder /mnt/data/llvm/master_thesis_datasets/classifyapp_data/ir_val/19 ===\n",
      "19 - [0/93] Processing /mnt/data/llvm/master_thesis_datasets/classifyapp_data/ir_val/19/678.ll ...\n",
      "\u001b[1m\u001b[96mRemoved 1 block without predecessors from `main`, 27 blocks remaining\u001b[0m\n",
      "59 - [100/106] Processing /mnt/data/llvm/master_thesis_datasets/classifyapp_data/ir_val/59/41.ll ...\n"
     ]
    },
    {
     "name": "stderr",
     "output_type": "stream",
     "text": [
      "\r",
      " 19%|█▉        | 20/104 [02:16<06:57,  4.96s/it]"
     ]
    },
    {
     "name": "stdout",
     "output_type": "stream",
     "text": [
      "=== Opening Folder /mnt/data/llvm/master_thesis_datasets/classifyapp_data/ir_val/80 ===\n",
      "80 - [0/86] Processing /mnt/data/llvm/master_thesis_datasets/classifyapp_data/ir_val/80/475.ll ...\n"
     ]
    },
    {
     "name": "stderr",
     "output_type": "stream",
     "text": [
      "\r",
      " 20%|██        | 21/104 [02:18<05:45,  4.16s/it]"
     ]
    },
    {
     "name": "stdout",
     "output_type": "stream",
     "text": [
      "=== Opening Folder /mnt/data/llvm/master_thesis_datasets/classifyapp_data/ir_val/96 ===\n",
      "96 - [0/81] Processing /mnt/data/llvm/master_thesis_datasets/classifyapp_data/ir_val/96/319.ll ...\n",
      "5 - [100/110] Processing /mnt/data/llvm/master_thesis_datasets/classifyapp_data/ir_val/5/465.ll ...\n"
     ]
    },
    {
     "name": "stderr",
     "output_type": "stream",
     "text": [
      "\r",
      " 21%|██        | 22/104 [02:21<05:15,  3.85s/it]"
     ]
    },
    {
     "name": "stdout",
     "output_type": "stream",
     "text": [
      "=== Opening Folder /mnt/data/llvm/master_thesis_datasets/classifyapp_data/ir_val/78 ===\n",
      "78 - [0/101] Processing /mnt/data/llvm/master_thesis_datasets/classifyapp_data/ir_val/78/1435.ll ...\n"
     ]
    },
    {
     "name": "stderr",
     "output_type": "stream",
     "text": [
      "\r",
      " 22%|██▏       | 23/104 [02:22<03:59,  2.96s/it]"
     ]
    },
    {
     "name": "stdout",
     "output_type": "stream",
     "text": [
      "=== Opening Folder /mnt/data/llvm/master_thesis_datasets/classifyapp_data/ir_val/91 ===\n",
      "91 - [0/93] Processing /mnt/data/llvm/master_thesis_datasets/classifyapp_data/ir_val/91/1061.ll ...\n"
     ]
    },
    {
     "name": "stderr",
     "output_type": "stream",
     "text": [
      "\r",
      " 23%|██▎       | 24/104 [02:28<04:59,  3.75s/it]"
     ]
    },
    {
     "name": "stdout",
     "output_type": "stream",
     "text": [
      "=== Opening Folder /mnt/data/llvm/master_thesis_datasets/classifyapp_data/ir_val/29 ===\n",
      "18 - [100/101] Processing /mnt/data/llvm/master_thesis_datasets/classifyapp_data/ir_val/18/663.ll ...\n",
      "29 - [0/87] Processing /mnt/data/llvm/master_thesis_datasets/classifyapp_data/ir_val/29/1308.ll ...\n"
     ]
    },
    {
     "name": "stderr",
     "output_type": "stream",
     "text": [
      "\r",
      " 24%|██▍       | 25/104 [02:29<03:55,  2.98s/it]"
     ]
    },
    {
     "name": "stdout",
     "output_type": "stream",
     "text": [
      "=== Opening Folder /mnt/data/llvm/master_thesis_datasets/classifyapp_data/ir_val/100 ===\n",
      "100 - [0/108] Processing /mnt/data/llvm/master_thesis_datasets/classifyapp_data/ir_val/100/2397.ll ...\n"
     ]
    },
    {
     "name": "stderr",
     "output_type": "stream",
     "text": [
      "\r",
      " 25%|██▌       | 26/104 [02:32<03:50,  2.95s/it]"
     ]
    },
    {
     "name": "stdout",
     "output_type": "stream",
     "text": [
      "=== Opening Folder /mnt/data/llvm/master_thesis_datasets/classifyapp_data/ir_val/66 ===\n",
      "66 - [0/98] Processing /mnt/data/llvm/master_thesis_datasets/classifyapp_data/ir_val/66/1553.ll ...\n",
      "\u001b[1m\u001b[96mRemoved 1 block without predecessors from `main`, 99 blocks remaining\u001b[0m\n"
     ]
    },
    {
     "name": "stderr",
     "output_type": "stream",
     "text": [
      "\r",
      " 26%|██▌       | 27/104 [02:34<03:21,  2.61s/it]"
     ]
    },
    {
     "name": "stdout",
     "output_type": "stream",
     "text": [
      "=== Opening Folder /mnt/data/llvm/master_thesis_datasets/classifyapp_data/ir_val/10 ===\n",
      "10 - [0/76] Processing /mnt/data/llvm/master_thesis_datasets/classifyapp_data/ir_val/10/2087.ll ...\n",
      "49 - [100/104] Processing /mnt/data/llvm/master_thesis_datasets/classifyapp_data/ir_val/49/337.ll ...\n"
     ]
    },
    {
     "name": "stderr",
     "output_type": "stream",
     "text": [
      "\r",
      " 27%|██▋       | 28/104 [02:44<06:16,  4.95s/it]"
     ]
    },
    {
     "name": "stdout",
     "output_type": "stream",
     "text": [
      "=== Opening Folder /mnt/data/llvm/master_thesis_datasets/classifyapp_data/ir_val/56 ===\n",
      "56 - [0/100] Processing /mnt/data/llvm/master_thesis_datasets/classifyapp_data/ir_val/56/1988.ll ...\n"
     ]
    },
    {
     "name": "stderr",
     "output_type": "stream",
     "text": [
      "\r",
      " 28%|██▊       | 29/104 [02:51<07:03,  5.65s/it]"
     ]
    },
    {
     "name": "stdout",
     "output_type": "stream",
     "text": [
      "=== Opening Folder /mnt/data/llvm/master_thesis_datasets/classifyapp_data/ir_val/90 ===\n",
      "90 - [0/75] Processing /mnt/data/llvm/master_thesis_datasets/classifyapp_data/ir_val/90/1396.ll ...\n",
      "\u001b[1m\u001b[96mRemoved 1 block without predecessors from `_Z7maintooii`, 13 blocks remaining\u001b[0m\n"
     ]
    },
    {
     "name": "stderr",
     "output_type": "stream",
     "text": [
      "\r",
      " 29%|██▉       | 30/104 [03:01<08:16,  6.71s/it]"
     ]
    },
    {
     "name": "stdout",
     "output_type": "stream",
     "text": [
      "=== Opening Folder /mnt/data/llvm/master_thesis_datasets/classifyapp_data/ir_val/31 ===\n",
      "31 - [0/63] Processing /mnt/data/llvm/master_thesis_datasets/classifyapp_data/ir_val/31/1988.ll ...\n"
     ]
    },
    {
     "name": "stderr",
     "output_type": "stream",
     "text": [
      "\r",
      " 30%|██▉       | 31/104 [03:04<07:07,  5.86s/it]"
     ]
    },
    {
     "name": "stdout",
     "output_type": "stream",
     "text": [
      "=== Opening Folder /mnt/data/llvm/master_thesis_datasets/classifyapp_data/ir_val/97 ===\n",
      "97 - [0/83] Processing /mnt/data/llvm/master_thesis_datasets/classifyapp_data/ir_val/97/788.ll ...\n",
      "=== Opening Folder /mnt/data/llvm/master_thesis_datasets/classifyapp_data/ir_val/37 ===\n",
      "37 - [0/77] Processing /mnt/data/llvm/master_thesis_datasets/classifyapp_data/ir_val/37/1204.ll ...\n"
     ]
    },
    {
     "name": "stderr",
     "output_type": "stream",
     "text": [
      "\r",
      " 32%|███▏      | 33/104 [03:06<05:05,  4.31s/it]"
     ]
    },
    {
     "name": "stdout",
     "output_type": "stream",
     "text": [
      "=== Opening Folder /mnt/data/llvm/master_thesis_datasets/classifyapp_data/ir_val/82 ===\n",
      "82 - [0/95] Processing /mnt/data/llvm/master_thesis_datasets/classifyapp_data/ir_val/82/17.ll ...\n"
     ]
    },
    {
     "name": "stderr",
     "output_type": "stream",
     "text": [
      "\r",
      " 33%|███▎      | 34/104 [03:17<07:17,  6.25s/it]"
     ]
    },
    {
     "name": "stdout",
     "output_type": "stream",
     "text": [
      "=== Opening Folder /mnt/data/llvm/master_thesis_datasets/classifyapp_data/ir_val/85 ===\n",
      "85 - [0/99] Processing /mnt/data/llvm/master_thesis_datasets/classifyapp_data/ir_val/85/1073.ll ...\n"
     ]
    },
    {
     "name": "stderr",
     "output_type": "stream",
     "text": [
      "\r",
      " 34%|███▎      | 35/104 [03:27<08:29,  7.39s/it]"
     ]
    },
    {
     "name": "stdout",
     "output_type": "stream",
     "text": [
      "=== Opening Folder /mnt/data/llvm/master_thesis_datasets/classifyapp_data/ir_val/74 ===\n",
      "74 - [0/89] Processing /mnt/data/llvm/master_thesis_datasets/classifyapp_data/ir_val/74/1308.ll ...\n"
     ]
    },
    {
     "name": "stderr",
     "output_type": "stream",
     "text": [
      "\r",
      " 35%|███▍      | 36/104 [03:30<07:10,  6.33s/it]"
     ]
    },
    {
     "name": "stdout",
     "output_type": "stream",
     "text": [
      "=== Opening Folder /mnt/data/llvm/master_thesis_datasets/classifyapp_data/ir_val/34 ===\n",
      "34 - [0/91] Processing /mnt/data/llvm/master_thesis_datasets/classifyapp_data/ir_val/34/76.ll ...\n",
      "=== Opening Folder /mnt/data/llvm/master_thesis_datasets/classifyapp_data/ir_val/24 ===\n",
      "24 - [0/91] Processing /mnt/data/llvm/master_thesis_datasets/classifyapp_data/ir_val/24/2470.ll ...\n"
     ]
    },
    {
     "name": "stderr",
     "output_type": "stream",
     "text": [
      "\r",
      " 37%|███▋      | 38/104 [03:32<05:04,  4.62s/it]"
     ]
    },
    {
     "name": "stdout",
     "output_type": "stream",
     "text": [
      "=== Opening Folder /mnt/data/llvm/master_thesis_datasets/classifyapp_data/ir_val/43 ===\n",
      "43 - [0/75] Processing /mnt/data/llvm/master_thesis_datasets/classifyapp_data/ir_val/43/1073.ll ...\n",
      "71 - [100/107] Processing /mnt/data/llvm/master_thesis_datasets/classifyapp_data/ir_val/71/1426.ll ...\n"
     ]
    },
    {
     "name": "stderr",
     "output_type": "stream",
     "text": [
      "\r",
      " 38%|███▊      | 39/104 [03:38<05:33,  5.13s/it]"
     ]
    },
    {
     "name": "stdout",
     "output_type": "stream",
     "text": [
      "=== Opening Folder /mnt/data/llvm/master_thesis_datasets/classifyapp_data/ir_val/39 ===\n",
      "39 - [0/92] Processing /mnt/data/llvm/master_thesis_datasets/classifyapp_data/ir_val/39/1988.ll ...\n"
     ]
    },
    {
     "name": "stderr",
     "output_type": "stream",
     "text": [
      "\r",
      " 38%|███▊      | 40/104 [03:38<03:54,  3.67s/it]"
     ]
    },
    {
     "name": "stdout",
     "output_type": "stream",
     "text": [
      "=== Opening Folder /mnt/data/llvm/master_thesis_datasets/classifyapp_data/ir_val/6 ===\n",
      "6 - [0/92] Processing /mnt/data/llvm/master_thesis_datasets/classifyapp_data/ir_val/6/2470.ll ...\n"
     ]
    },
    {
     "name": "stderr",
     "output_type": "stream",
     "text": [
      "\r",
      " 39%|███▉      | 41/104 [03:39<02:45,  2.63s/it]"
     ]
    },
    {
     "name": "stdout",
     "output_type": "stream",
     "text": [
      "=== Opening Folder /mnt/data/llvm/master_thesis_datasets/classifyapp_data/ir_val/38 ===\n",
      "38 - [0/85] Processing /mnt/data/llvm/master_thesis_datasets/classifyapp_data/ir_val/38/867.ll ...\n",
      "\u001b[1m\u001b[96mRemoved 1 block without predecessors from `_Z7converti`, 4 blocks remaining\u001b[0m\n"
     ]
    },
    {
     "name": "stderr",
     "output_type": "stream",
     "text": [
      "\r",
      " 40%|████      | 42/104 [03:44<03:35,  3.48s/it]"
     ]
    },
    {
     "name": "stdout",
     "output_type": "stream",
     "text": [
      "=== Opening Folder /mnt/data/llvm/master_thesis_datasets/classifyapp_data/ir_val/67 ===\n",
      "=== Opening Folder /mnt/data/llvm/master_thesis_datasets/classifyapp_data/ir_val/40 ===\n",
      "40 - [0/46] Processing /mnt/data/llvm/master_thesis_datasets/classifyapp_data/ir_val/40/1204.ll ...\n",
      "67 - [0/86] Processing /mnt/data/llvm/master_thesis_datasets/classifyapp_data/ir_val/67/1988.ll ...\n",
      "\u001b[1m\u001b[96mRemoved 1 block without predecessors from `_Z8take_ansv`, 41 blocks remaining\u001b[0m\n"
     ]
    },
    {
     "name": "stderr",
     "output_type": "stream",
     "text": [
      "\r",
      " 42%|████▏     | 44/104 [04:05<05:32,  5.54s/it]"
     ]
    },
    {
     "name": "stdout",
     "output_type": "stream",
     "text": [
      "=== Opening Folder /mnt/data/llvm/master_thesis_datasets/classifyapp_data/ir_val/72 ===\n",
      "72 - [0/95] Processing /mnt/data/llvm/master_thesis_datasets/classifyapp_data/ir_val/72/678.ll ...\n"
     ]
    },
    {
     "name": "stderr",
     "output_type": "stream",
     "text": [
      "\r",
      " 43%|████▎     | 45/104 [04:07<04:25,  4.51s/it]"
     ]
    },
    {
     "name": "stdout",
     "output_type": "stream",
     "text": [
      "=== Opening Folder /mnt/data/llvm/master_thesis_datasets/classifyapp_data/ir_val/55 ===\n",
      "55 - [0/83] Processing /mnt/data/llvm/master_thesis_datasets/classifyapp_data/ir_val/55/794.ll ...\n",
      "100 - [100/108] Processing /mnt/data/llvm/master_thesis_datasets/classifyapp_data/ir_val/100/21.ll ...\n"
     ]
    },
    {
     "name": "stderr",
     "output_type": "stream",
     "text": [
      "\r",
      " 44%|████▍     | 46/104 [04:12<04:40,  4.84s/it]"
     ]
    },
    {
     "name": "stdout",
     "output_type": "stream",
     "text": [
      "=== Opening Folder /mnt/data/llvm/master_thesis_datasets/classifyapp_data/ir_val/7 ===\n",
      "7 - [0/98] Processing /mnt/data/llvm/master_thesis_datasets/classifyapp_data/ir_val/7/678.ll ...\n"
     ]
    },
    {
     "name": "stderr",
     "output_type": "stream",
     "text": [
      "\r",
      " 45%|████▌     | 47/104 [04:14<03:37,  3.82s/it]"
     ]
    },
    {
     "name": "stdout",
     "output_type": "stream",
     "text": [
      "=== Opening Folder /mnt/data/llvm/master_thesis_datasets/classifyapp_data/ir_val/87 ===\n",
      "87 - [0/90] Processing /mnt/data/llvm/master_thesis_datasets/classifyapp_data/ir_val/87/1073.ll ...\n",
      "78 - [100/101] Processing /mnt/data/llvm/master_thesis_datasets/classifyapp_data/ir_val/78/1384.ll ...\n"
     ]
    },
    {
     "name": "stderr",
     "output_type": "stream",
     "text": [
      "\r",
      " 46%|████▌     | 48/104 [04:18<03:40,  3.94s/it]"
     ]
    },
    {
     "name": "stdout",
     "output_type": "stream",
     "text": [
      "=== Opening Folder /mnt/data/llvm/master_thesis_datasets/classifyapp_data/ir_val/8 ===\n",
      "8 - [0/75] Processing /mnt/data/llvm/master_thesis_datasets/classifyapp_data/ir_val/8/1308.ll ...\n"
     ]
    },
    {
     "name": "stderr",
     "output_type": "stream",
     "text": [
      "\r",
      " 47%|████▋     | 49/104 [04:19<02:52,  3.14s/it]"
     ]
    },
    {
     "name": "stdout",
     "output_type": "stream",
     "text": [
      "=== Opening Folder /mnt/data/llvm/master_thesis_datasets/classifyapp_data/ir_val/16 ===\n",
      "16 - [0/87] Processing /mnt/data/llvm/master_thesis_datasets/classifyapp_data/ir_val/16/5.ll ...\n"
     ]
    },
    {
     "name": "stderr",
     "output_type": "stream",
     "text": [
      "\r",
      " 48%|████▊     | 50/104 [04:20<02:05,  2.33s/it]"
     ]
    },
    {
     "name": "stdout",
     "output_type": "stream",
     "text": [
      "=== Opening Folder /mnt/data/llvm/master_thesis_datasets/classifyapp_data/ir_val/61 ===\n",
      "61 - [0/79] Processing /mnt/data/llvm/master_thesis_datasets/classifyapp_data/ir_val/61/1285.ll ...\n"
     ]
    },
    {
     "name": "stderr",
     "output_type": "stream",
     "text": [
      "\r",
      " 49%|████▉     | 51/104 [04:24<02:30,  2.84s/it]"
     ]
    },
    {
     "name": "stdout",
     "output_type": "stream",
     "text": [
      "=== Opening Folder /mnt/data/llvm/master_thesis_datasets/classifyapp_data/ir_val/58 ===\n",
      "58 - [0/86] Processing /mnt/data/llvm/master_thesis_datasets/classifyapp_data/ir_val/58/801.ll ...\n"
     ]
    },
    {
     "name": "stderr",
     "output_type": "stream",
     "text": [
      "\r",
      " 50%|█████     | 52/104 [04:24<01:48,  2.09s/it]"
     ]
    },
    {
     "name": "stdout",
     "output_type": "stream",
     "text": [
      "=== Opening Folder /mnt/data/llvm/master_thesis_datasets/classifyapp_data/ir_val/53 ===\n",
      "53 - [0/90] Processing /mnt/data/llvm/master_thesis_datasets/classifyapp_data/ir_val/53/1466.ll ...\n"
     ]
    },
    {
     "name": "stderr",
     "output_type": "stream",
     "text": [
      "\r",
      " 51%|█████     | 53/104 [04:31<02:53,  3.40s/it]"
     ]
    },
    {
     "name": "stdout",
     "output_type": "stream",
     "text": [
      "=== Opening Folder /mnt/data/llvm/master_thesis_datasets/classifyapp_data/ir_val/62 ===\n",
      "62 - [0/86] Processing /mnt/data/llvm/master_thesis_datasets/classifyapp_data/ir_val/62/2445.ll ...\n"
     ]
    },
    {
     "name": "stderr",
     "output_type": "stream",
     "text": [
      "\r",
      " 52%|█████▏    | 54/104 [04:36<03:16,  3.93s/it]"
     ]
    },
    {
     "name": "stdout",
     "output_type": "stream",
     "text": [
      "=== Opening Folder /mnt/data/llvm/master_thesis_datasets/classifyapp_data/ir_val/60 ===\n",
      "60 - [0/79] Processing /mnt/data/llvm/master_thesis_datasets/classifyapp_data/ir_val/60/446.ll ...\n",
      "\u001b[1m\u001b[96mRemoved 1 block without predecessors from `main`, 28 blocks remaining\u001b[0m\n"
     ]
    },
    {
     "name": "stderr",
     "output_type": "stream",
     "text": [
      "\r",
      " 53%|█████▎    | 55/104 [04:46<04:38,  5.69s/it]"
     ]
    },
    {
     "name": "stdout",
     "output_type": "stream",
     "text": [
      "=== Opening Folder /mnt/data/llvm/master_thesis_datasets/classifyapp_data/ir_val/30 ===\n",
      "30 - [0/103] Processing /mnt/data/llvm/master_thesis_datasets/classifyapp_data/ir_val/30/358.ll ...\n"
     ]
    },
    {
     "name": "stderr",
     "output_type": "stream",
     "text": [
      "\r",
      " 54%|█████▍    | 56/104 [04:46<03:23,  4.23s/it]"
     ]
    },
    {
     "name": "stdout",
     "output_type": "stream",
     "text": [
      "=== Opening Folder /mnt/data/llvm/master_thesis_datasets/classifyapp_data/ir_val/20 ===\n",
      "20 - [0/84] Processing /mnt/data/llvm/master_thesis_datasets/classifyapp_data/ir_val/20/1308.ll ...\n"
     ]
    },
    {
     "name": "stderr",
     "output_type": "stream",
     "text": [
      "\r",
      " 55%|█████▍    | 57/104 [04:53<03:50,  4.90s/it]"
     ]
    },
    {
     "name": "stdout",
     "output_type": "stream",
     "text": [
      "=== Opening Folder /mnt/data/llvm/master_thesis_datasets/classifyapp_data/ir_val/68 ===\n",
      "68 - [0/96] Processing /mnt/data/llvm/master_thesis_datasets/classifyapp_data/ir_val/68/668.ll ...\n"
     ]
    },
    {
     "name": "stderr",
     "output_type": "stream",
     "text": [
      "\r",
      " 56%|█████▌    | 58/104 [04:54<02:56,  3.83s/it]"
     ]
    },
    {
     "name": "stdout",
     "output_type": "stream",
     "text": [
      "=== Opening Folder /mnt/data/llvm/master_thesis_datasets/classifyapp_data/ir_val/35 ===\n",
      "35 - [0/89] Processing /mnt/data/llvm/master_thesis_datasets/classifyapp_data/ir_val/35/1308.ll ...\n"
     ]
    },
    {
     "name": "stderr",
     "output_type": "stream",
     "text": [
      "\r",
      " 57%|█████▋    | 59/104 [05:01<03:37,  4.83s/it]"
     ]
    },
    {
     "name": "stdout",
     "output_type": "stream",
     "text": [
      "=== Opening Folder /mnt/data/llvm/master_thesis_datasets/classifyapp_data/ir_val/1 ===\n",
      "1 - [0/89] Processing /mnt/data/llvm/master_thesis_datasets/classifyapp_data/ir_val/1/1988.ll ...\n"
     ]
    },
    {
     "name": "stderr",
     "output_type": "stream",
     "text": [
      "\r",
      " 58%|█████▊    | 60/104 [05:03<02:54,  3.97s/it]"
     ]
    },
    {
     "name": "stdout",
     "output_type": "stream",
     "text": [
      "=== Opening Folder /mnt/data/llvm/master_thesis_datasets/classifyapp_data/ir_val/36 ===\n",
      "36 - [0/92] Processing /mnt/data/llvm/master_thesis_datasets/classifyapp_data/ir_val/36/1684.ll ...\n"
     ]
    },
    {
     "name": "stderr",
     "output_type": "stream",
     "text": [
      "\r",
      " 59%|█████▊    | 61/104 [05:03<02:02,  2.85s/it]"
     ]
    },
    {
     "name": "stdout",
     "output_type": "stream",
     "text": [
      "=== Opening Folder /mnt/data/llvm/master_thesis_datasets/classifyapp_data/ir_val/81 ===\n",
      "81 - [0/111] Processing /mnt/data/llvm/master_thesis_datasets/classifyapp_data/ir_val/81/658.ll ...\n",
      "\u001b[1m\u001b[96mRemoved 1 block without predecessors from `_Z2sciPiiS_`, 9 blocks remaining\u001b[0m\n",
      "\u001b[1m\u001b[96mRemoved 1 block without predecessors from `_Z2pxiPi`, 11 blocks remaining\u001b[0m\n",
      "\u001b[1m\u001b[96mRemoved 1 block without predecessors from `_Z6readiniPi`, 5 blocks remaining\u001b[0m\n"
     ]
    },
    {
     "name": "stderr",
     "output_type": "stream",
     "text": [
      "\r",
      " 60%|█████▉    | 62/104 [05:07<02:02,  2.91s/it]"
     ]
    },
    {
     "name": "stdout",
     "output_type": "stream",
     "text": [
      "=== Opening Folder /mnt/data/llvm/master_thesis_datasets/classifyapp_data/ir_val/94 ===\n",
      "94 - [0/64] Processing /mnt/data/llvm/master_thesis_datasets/classifyapp_data/ir_val/94/658.ll ...\n",
      "\u001b[1m\u001b[96mRemoved 2 blocks without predecessors from `main`, 35 blocks remaining\u001b[0m\n",
      "\u001b[1m\u001b[96mRemoved 1 block without predecessors from `_Z2dyv`, 5 blocks remaining\u001b[0m\n",
      "\u001b[1m\u001b[96mRemoved 1 block without predecessors from `_Z2pxv`, 21 blocks remaining\u001b[0m\n",
      "\u001b[1m\u001b[96mRemoved 1 block without predecessors from `_Z2gbv`, 9 blocks remaining\u001b[0m\n",
      "\u001b[1m\u001b[96mRemoved 1 block without predecessors from `_Z5orderiPi`, 11 blocks remaining\u001b[0m\n",
      "\u001b[1m\u001b[96mRemoved 1 block without predecessors from `_Z6outputiPi`, 7 blocks remaining\u001b[0m\n",
      "\u001b[1m\u001b[96mRemoved 1 block without predecessors from `_Z5inputiPi`, 5 blocks remaining\u001b[0m\n",
      "\u001b[1m\u001b[96mRemoved 1 block without predecessors from `_Z7combinePiS_iiS_`, 9 blocks remaining\u001b[0m\n"
     ]
    },
    {
     "name": "stderr",
     "output_type": "stream",
     "text": [
      "\r",
      " 61%|██████    | 63/104 [05:22<04:37,  6.77s/it]"
     ]
    },
    {
     "name": "stdout",
     "output_type": "stream",
     "text": [
      "=== Opening Folder /mnt/data/llvm/master_thesis_datasets/classifyapp_data/ir_val/3 ===\n",
      "3 - [0/79] Processing /mnt/data/llvm/master_thesis_datasets/classifyapp_data/ir_val/3/2067.ll ...\n"
     ]
    },
    {
     "name": "stderr",
     "output_type": "stream",
     "text": [
      "\r",
      " 62%|██████▏   | 64/104 [05:25<03:36,  5.40s/it]"
     ]
    },
    {
     "name": "stdout",
     "output_type": "stream",
     "text": [
      "=== Opening Folder /mnt/data/llvm/master_thesis_datasets/classifyapp_data/ir_val/44 ===\n",
      "44 - [0/83] Processing /mnt/data/llvm/master_thesis_datasets/classifyapp_data/ir_val/44/1308.ll ...\n"
     ]
    },
    {
     "name": "stderr",
     "output_type": "stream",
     "text": [
      "\r",
      " 62%|██████▎   | 65/104 [05:26<02:48,  4.33s/it]"
     ]
    },
    {
     "name": "stdout",
     "output_type": "stream",
     "text": [
      "=== Opening Folder /mnt/data/llvm/master_thesis_datasets/classifyapp_data/ir_val/98 ===\n",
      "98 - [0/84] Processing /mnt/data/llvm/master_thesis_datasets/classifyapp_data/ir_val/98/981.ll ...\n",
      "\u001b[1m\u001b[96mRemoved 1 block without predecessors from `main`, 22 blocks remaining\u001b[0m\n"
     ]
    },
    {
     "name": "stderr",
     "output_type": "stream",
     "text": [
      "\r",
      " 63%|██████▎   | 66/104 [05:32<02:56,  4.65s/it]"
     ]
    },
    {
     "name": "stdout",
     "output_type": "stream",
     "text": [
      "=== Opening Folder /mnt/data/llvm/master_thesis_datasets/classifyapp_data/ir_val/64 ===\n",
      "64 - [0/80] Processing /mnt/data/llvm/master_thesis_datasets/classifyapp_data/ir_val/64/2764.ll ...\n",
      "\u001b[1m\u001b[96mRemoved 1 block without predecessors from `main`, 28 blocks remaining\u001b[0m\n",
      "\u001b[1m\u001b[96mRemoved 1 block without predecessors from `main`, 35 blocks remaining\u001b[0m\n"
     ]
    },
    {
     "name": "stderr",
     "output_type": "stream",
     "text": [
      "\r",
      " 64%|██████▍   | 67/104 [05:36<02:45,  4.47s/it]"
     ]
    },
    {
     "name": "stdout",
     "output_type": "stream",
     "text": [
      "=== Opening Folder /mnt/data/llvm/master_thesis_datasets/classifyapp_data/ir_val/42 ===\n",
      "42 - [0/114] Processing /mnt/data/llvm/master_thesis_datasets/classifyapp_data/ir_val/42/1466.ll ...\n",
      "30 - [100/103] Processing /mnt/data/llvm/master_thesis_datasets/classifyapp_data/ir_val/30/458.ll ...\n"
     ]
    },
    {
     "name": "stderr",
     "output_type": "stream",
     "text": [
      "\r",
      " 65%|██████▌   | 68/104 [05:41<02:49,  4.72s/it]"
     ]
    },
    {
     "name": "stdout",
     "output_type": "stream",
     "text": [
      "=== Opening Folder /mnt/data/llvm/master_thesis_datasets/classifyapp_data/ir_val/17 ===\n",
      "17 - [0/85] Processing /mnt/data/llvm/master_thesis_datasets/classifyapp_data/ir_val/17/658.ll ...\n"
     ]
    },
    {
     "name": "stderr",
     "output_type": "stream",
     "text": [
      "\r",
      " 66%|██████▋   | 69/104 [05:42<02:01,  3.48s/it]"
     ]
    },
    {
     "name": "stdout",
     "output_type": "stream",
     "text": [
      "=== Opening Folder /mnt/data/llvm/master_thesis_datasets/classifyapp_data/ir_val/69 ===\n",
      "69 - [0/80] Processing /mnt/data/llvm/master_thesis_datasets/classifyapp_data/ir_val/69/801.ll ...\n"
     ]
    },
    {
     "name": "stderr",
     "output_type": "stream",
     "text": [
      "\r",
      " 67%|██████▋   | 70/104 [05:46<02:07,  3.75s/it]"
     ]
    },
    {
     "name": "stdout",
     "output_type": "stream",
     "text": [
      "=== Opening Folder /mnt/data/llvm/master_thesis_datasets/classifyapp_data/ir_val/15 ===\n",
      "15 - [0/96] Processing /mnt/data/llvm/master_thesis_datasets/classifyapp_data/ir_val/15/658.ll ...\n"
     ]
    },
    {
     "name": "stderr",
     "output_type": "stream",
     "text": [
      "\r",
      " 68%|██████▊   | 71/104 [05:47<01:37,  2.97s/it]"
     ]
    },
    {
     "name": "stdout",
     "output_type": "stream",
     "text": [
      "=== Opening Folder /mnt/data/llvm/master_thesis_datasets/classifyapp_data/ir_val/41 ===\n",
      "41 - [0/91] Processing /mnt/data/llvm/master_thesis_datasets/classifyapp_data/ir_val/41/994.ll ...\n",
      "\u001b[1m\u001b[96mRemoved 1 block without predecessors from `main`, 14 blocks remaining\u001b[0m\n",
      "***** FAILING ON /mnt/data/llvm/master_thesis_datasets/classifyapp_data/ir_val/17/657.ll ... renaming file to .ll_ \n"
     ]
    },
    {
     "name": "stderr",
     "output_type": "stream",
     "text": [
      "\r",
      " 69%|██████▉   | 72/104 [05:56<02:28,  4.65s/it]"
     ]
    },
    {
     "name": "stdout",
     "output_type": "stream",
     "text": [
      "=== Opening Folder /mnt/data/llvm/master_thesis_datasets/classifyapp_data/ir_val/73 ===\n",
      "73 - [0/89] Processing /mnt/data/llvm/master_thesis_datasets/classifyapp_data/ir_val/73/801.ll ...\n"
     ]
    },
    {
     "name": "stderr",
     "output_type": "stream",
     "text": [
      "\r",
      " 70%|███████   | 73/104 [05:59<02:10,  4.21s/it]"
     ]
    },
    {
     "name": "stdout",
     "output_type": "stream",
     "text": [
      "=== Opening Folder /mnt/data/llvm/master_thesis_datasets/classifyapp_data/ir_val/27 ===\n",
      "27 - [0/58] Processing /mnt/data/llvm/master_thesis_datasets/classifyapp_data/ir_val/27/1396.ll ...\n"
     ]
    },
    {
     "name": "stderr",
     "output_type": "stream",
     "text": [
      "\r",
      " 71%|███████   | 74/104 [06:03<02:00,  4.01s/it]"
     ]
    },
    {
     "name": "stdout",
     "output_type": "stream",
     "text": [
      "=== Opening Folder /mnt/data/llvm/master_thesis_datasets/classifyapp_data/ir_val/52 ===\n",
      "52 - [0/90] Processing /mnt/data/llvm/master_thesis_datasets/classifyapp_data/ir_val/52/319.ll ...\n"
     ]
    },
    {
     "name": "stderr",
     "output_type": "stream",
     "text": [
      "\r",
      " 72%|███████▏  | 75/104 [06:09<02:16,  4.71s/it]"
     ]
    },
    {
     "name": "stdout",
     "output_type": "stream",
     "text": [
      "=== Opening Folder /mnt/data/llvm/master_thesis_datasets/classifyapp_data/ir_val/102 ===\n",
      "102 - [0/64] Processing /mnt/data/llvm/master_thesis_datasets/classifyapp_data/ir_val/102/788.ll ...\n"
     ]
    },
    {
     "name": "stderr",
     "output_type": "stream",
     "text": [
      "\r",
      " 73%|███████▎  | 76/104 [06:13<02:11,  4.69s/it]"
     ]
    },
    {
     "name": "stdout",
     "output_type": "stream",
     "text": [
      "=== Opening Folder /mnt/data/llvm/master_thesis_datasets/classifyapp_data/ir_val/57 ===\n",
      "57 - [0/93] Processing /mnt/data/llvm/master_thesis_datasets/classifyapp_data/ir_val/57/1988.ll ...\n"
     ]
    },
    {
     "name": "stderr",
     "output_type": "stream",
     "text": [
      "\r",
      " 74%|███████▍  | 77/104 [06:15<01:40,  3.73s/it]"
     ]
    },
    {
     "name": "stdout",
     "output_type": "stream",
     "text": [
      "=== Opening Folder /mnt/data/llvm/master_thesis_datasets/classifyapp_data/ir_val/25 ===\n",
      "25 - [0/74] Processing /mnt/data/llvm/master_thesis_datasets/classifyapp_data/ir_val/25/1073.ll ...\n"
     ]
    },
    {
     "name": "stderr",
     "output_type": "stream",
     "text": [
      "\r",
      " 75%|███████▌  | 78/104 [06:16<01:14,  2.87s/it]"
     ]
    },
    {
     "name": "stdout",
     "output_type": "stream",
     "text": [
      "=== Opening Folder /mnt/data/llvm/master_thesis_datasets/classifyapp_data/ir_val/103 ===\n",
      "103 - [0/74] Processing /mnt/data/llvm/master_thesis_datasets/classifyapp_data/ir_val/103/788.ll ...\n"
     ]
    },
    {
     "name": "stderr",
     "output_type": "stream",
     "text": [
      "\r",
      " 76%|███████▌  | 79/104 [06:24<01:54,  4.59s/it]"
     ]
    },
    {
     "name": "stdout",
     "output_type": "stream",
     "text": [
      "=== Opening Folder /mnt/data/llvm/master_thesis_datasets/classifyapp_data/ir_val/50 ===\n",
      "50 - [0/86] Processing /mnt/data/llvm/master_thesis_datasets/classifyapp_data/ir_val/50/678.ll ...\n",
      "\u001b[1m\u001b[96mRemoved 1 block without predecessors from `main`, 33 blocks remaining\u001b[0m\n",
      "***** FAILING ON /mnt/data/llvm/master_thesis_datasets/classifyapp_data/ir_val/17/885.ll ... renaming file to .ll_ \n",
      "81 - [100/111] Processing /mnt/data/llvm/master_thesis_datasets/classifyapp_data/ir_val/81/114.ll ...\n"
     ]
    },
    {
     "name": "stderr",
     "output_type": "stream",
     "text": [
      "\r",
      " 77%|███████▋  | 80/104 [06:34<02:27,  6.15s/it]"
     ]
    },
    {
     "name": "stdout",
     "output_type": "stream",
     "text": [
      "=== Opening Folder /mnt/data/llvm/master_thesis_datasets/classifyapp_data/ir_val/21 ===\n",
      "21 - [0/91] Processing /mnt/data/llvm/master_thesis_datasets/classifyapp_data/ir_val/21/379.ll ...\n"
     ]
    },
    {
     "name": "stderr",
     "output_type": "stream",
     "text": [
      "\r",
      " 78%|███████▊  | 81/104 [06:39<02:12,  5.76s/it]"
     ]
    },
    {
     "name": "stdout",
     "output_type": "stream",
     "text": [
      "=== Opening Folder /mnt/data/llvm/master_thesis_datasets/classifyapp_data/ir_val/101 ===\n",
      "101 - [0/95] Processing /mnt/data/llvm/master_thesis_datasets/classifyapp_data/ir_val/101/658.ll ...\n",
      "\u001b[1m\u001b[96mRemoved 1 block without predecessors from `main`, 20 blocks remaining\u001b[0m\n",
      "42 - [100/114] Processing /mnt/data/llvm/master_thesis_datasets/classifyapp_data/ir_val/42/1736.ll ...\n"
     ]
    },
    {
     "name": "stderr",
     "output_type": "stream",
     "text": [
      "\r",
      " 79%|███████▉  | 82/104 [06:44<01:58,  5.38s/it]"
     ]
    },
    {
     "name": "stdout",
     "output_type": "stream",
     "text": [
      "=== Opening Folder /mnt/data/llvm/master_thesis_datasets/classifyapp_data/ir_val/33 ===\n",
      "33 - [0/100] Processing /mnt/data/llvm/master_thesis_datasets/classifyapp_data/ir_val/33/1871.ll ...\n",
      "\u001b[1m\u001b[96mRemoved 1 block without predecessors from `main`, 26 blocks remaining\u001b[0m\n",
      "***** FAILING ON /mnt/data/llvm/master_thesis_datasets/classifyapp_data/ir_val/17/659.ll ... renaming file to .ll_ \n"
     ]
    },
    {
     "name": "stderr",
     "output_type": "stream",
     "text": [
      "\r",
      " 80%|███████▉  | 83/104 [06:53<02:20,  6.67s/it]"
     ]
    },
    {
     "name": "stdout",
     "output_type": "stream",
     "text": [
      "=== Opening Folder /mnt/data/llvm/master_thesis_datasets/classifyapp_data/ir_val/92 ===\n",
      "92 - [0/55] Processing /mnt/data/llvm/master_thesis_datasets/classifyapp_data/ir_val/92/307.ll ...\n"
     ]
    },
    {
     "name": "stderr",
     "output_type": "stream",
     "text": [
      "\r",
      " 81%|████████  | 84/104 [06:59<02:06,  6.30s/it]"
     ]
    },
    {
     "name": "stdout",
     "output_type": "stream",
     "text": [
      "=== Opening Folder /mnt/data/llvm/master_thesis_datasets/classifyapp_data/ir_val/84 ===\n",
      "84 - [0/107] Processing /mnt/data/llvm/master_thesis_datasets/classifyapp_data/ir_val/84/2397.ll ...\n"
     ]
    },
    {
     "name": "stderr",
     "output_type": "stream",
     "text": [
      "\r",
      " 82%|████████▏ | 85/104 [06:59<01:27,  4.59s/it]"
     ]
    },
    {
     "name": "stdout",
     "output_type": "stream",
     "text": [
      "=== Opening Folder /mnt/data/llvm/master_thesis_datasets/classifyapp_data/ir_val/83 ===\n",
      "83 - [0/108] Processing /mnt/data/llvm/master_thesis_datasets/classifyapp_data/ir_val/83/4074.ll ...\n"
     ]
    },
    {
     "name": "stderr",
     "output_type": "stream",
     "text": [
      "\r",
      " 83%|████████▎ | 86/104 [07:00<01:01,  3.42s/it]"
     ]
    },
    {
     "name": "stdout",
     "output_type": "stream",
     "text": [
      "=== Opening Folder /mnt/data/llvm/master_thesis_datasets/classifyapp_data/ir_val/47 ===\n",
      "47 - [0/93] Processing /mnt/data/llvm/master_thesis_datasets/classifyapp_data/ir_val/47/13.ll ...\n"
     ]
    },
    {
     "name": "stderr",
     "output_type": "stream",
     "text": [
      "\r",
      " 84%|████████▎ | 87/104 [07:04<00:59,  3.50s/it]"
     ]
    },
    {
     "name": "stdout",
     "output_type": "stream",
     "text": [
      "=== Opening Folder /mnt/data/llvm/master_thesis_datasets/classifyapp_data/ir_val/88 ===\n",
      "88 - [0/91] Processing /mnt/data/llvm/master_thesis_datasets/classifyapp_data/ir_val/88/475.ll ...\n"
     ]
    },
    {
     "name": "stderr",
     "output_type": "stream",
     "text": [
      "\r",
      " 85%|████████▍ | 88/104 [07:07<00:57,  3.59s/it]"
     ]
    },
    {
     "name": "stdout",
     "output_type": "stream",
     "text": [
      "=== Opening Folder /mnt/data/llvm/master_thesis_datasets/classifyapp_data/ir_val/12 ===\n",
      "12 - [0/82] Processing /mnt/data/llvm/master_thesis_datasets/classifyapp_data/ir_val/12/1308.ll ...\n"
     ]
    },
    {
     "name": "stderr",
     "output_type": "stream",
     "text": [
      " 92%|█████████▏| 96/104 [07:40<00:41,  5.13s/it]"
     ]
    },
    {
     "name": "stdout",
     "output_type": "stream",
     "text": [
      "84 - [100/107] Processing /mnt/data/llvm/master_thesis_datasets/classifyapp_data/ir_val/84/3230.ll ...\n"
     ]
    },
    {
     "name": "stderr",
     "output_type": "stream",
     "text": [
      " 99%|█████████▉| 103/104 [07:49<00:01,  1.49s/it]"
     ]
    },
    {
     "name": "stdout",
     "output_type": "stream",
     "text": [
      "83 - [100/108] Processing /mnt/data/llvm/master_thesis_datasets/classifyapp_data/ir_val/83/572.ll ...\n"
     ]
    },
    {
     "name": "stderr",
     "output_type": "stream",
     "text": [
      "\r",
      "100%|██████████| 104/104 [08:11<00:00,  7.48s/it]"
     ]
    },
    {
     "name": "stdout",
     "output_type": "stream",
     "text": [
      " * COMPLETED * === DATASET /mnt/data/llvm/master_thesis_datasets/classifyapp_data/ir_val: preprocessing saved to /mnt/data/llvm/master_thesis_datasets/classifyapp_data/ir_val_programl\n"
     ]
    },
    {
     "name": "stderr",
     "output_type": "stream",
     "text": [
      "\n"
     ]
    }
   ],
   "source": [
    "# start processing the smaller validation dataset\n",
    "dataset_path = ds_basepath / Path('classifyapp_data/ir_val')\n",
    "print(dataset_path.name)\n",
    "\n",
    "preprocess_ds_raw_dir(dataset_path, pool_size=16)"
   ]
  },
  {
   "cell_type": "markdown",
   "metadata": {},
   "source": [
    "### Process test set"
   ]
  },
  {
   "cell_type": "code",
   "execution_count": 37,
   "metadata": {
    "scrolled": true
   },
   "outputs": [
    {
     "name": "stdout",
     "output_type": "stream",
     "text": [
      "ir_test\n",
      "=== DATASET /mnt/data/llvm/master_thesis_datasets/classifyapp_data/ir_test: preprocessing will be saved in /mnt/data/llvm/master_thesis_datasets/classifyapp_data/ir_test_programl\n",
      "=== Opening Folder /mnt/data/llvm/master_thesis_datasets/classifyapp_data/ir_test/18 ===\n",
      "32 - [0/85] Processing /mnt/data/llvm/master_thesis_datasets/classifyapp_data/ir_test/32/2087.ll ...\n",
      "=== Opening Folder /mnt/data/llvm/master_thesis_datasets/classifyapp_data/ir_test/9 ===\n"
     ]
    },
    {
     "name": "stderr",
     "output_type": "stream",
     "text": [
      "\r",
      "  0%|          | 0/104 [00:00<?, ?it/s]"
     ]
    },
    {
     "name": "stdout",
     "output_type": "stream",
     "text": [
      "=== Opening Folder /mnt/data/llvm/master_thesis_datasets/classifyapp_data/ir_test/45 ===\n",
      "=== Opening Folder /mnt/data/llvm/master_thesis_datasets/classifyapp_data/ir_test/26 ===\n",
      "=== Opening Folder /mnt/data/llvm/master_thesis_datasets/classifyapp_data/ir_test/22 ===\n",
      "=== Opening Folder /mnt/data/llvm/master_thesis_datasets/classifyapp_data/ir_test/54 ===\n",
      "=== Opening Folder /mnt/data/llvm/master_thesis_datasets/classifyapp_data/ir_test/32 ===\n",
      "=== Opening Folder /mnt/data/llvm/master_thesis_datasets/classifyapp_data/ir_test/89 ===\n",
      "=== Opening Folder /mnt/data/llvm/master_thesis_datasets/classifyapp_data/ir_test/77 ===\n",
      "=== Opening Folder /mnt/data/llvm/master_thesis_datasets/classifyapp_data/ir_test/11 ===\n",
      "=== Opening Folder /mnt/data/llvm/master_thesis_datasets/classifyapp_data/ir_test/99 ===\n",
      "=== Opening Folder /mnt/data/llvm/master_thesis_datasets/classifyapp_data/ir_test/75 ===\n",
      "=== Opening Folder /mnt/data/llvm/master_thesis_datasets/classifyapp_data/ir_test/59 ===\n",
      "=== Opening Folder /mnt/data/llvm/master_thesis_datasets/classifyapp_data/ir_test/14 ===\n",
      "=== Opening Folder /mnt/data/llvm/master_thesis_datasets/classifyapp_data/ir_test/4 ===\n",
      "45 - [0/105] Processing /mnt/data/llvm/master_thesis_datasets/classifyapp_data/ir_test/45/5.ll ...\n",
      "9 - [0/89] Processing /mnt/data/llvm/master_thesis_datasets/classifyapp_data/ir_test/9/994.ll ...\n",
      "54 - [0/104] Processing /mnt/data/llvm/master_thesis_datasets/classifyapp_data/ir_test/54/994.ll ...\n",
      "26 - [0/93] Processing /mnt/data/llvm/master_thesis_datasets/classifyapp_data/ir_test/26/235.ll ...\n",
      "18 - [0/75] Processing /mnt/data/llvm/master_thesis_datasets/classifyapp_data/ir_test/18/1308.ll ...\n",
      "89 - [0/58] Processing /mnt/data/llvm/master_thesis_datasets/classifyapp_data/ir_test/89/584.ll ...\n",
      "=== Opening Folder /mnt/data/llvm/master_thesis_datasets/classifyapp_data/ir_test/28 ===\n",
      "99 - [0/102] Processing /mnt/data/llvm/master_thesis_datasets/classifyapp_data/ir_test/99/788.ll ...\n",
      "22 - [0/83] Processing /mnt/data/llvm/master_thesis_datasets/classifyapp_data/ir_test/22/678.ll ...\n",
      "14 - [0/82] Processing /mnt/data/llvm/master_thesis_datasets/classifyapp_data/ir_test/14/1466.ll ...\n",
      "11 - [0/103] Processing /mnt/data/llvm/master_thesis_datasets/classifyapp_data/ir_test/11/17.ll ...\n",
      "77 - [0/91] Processing /mnt/data/llvm/master_thesis_datasets/classifyapp_data/ir_test/77/17.ll ...\n",
      "75 - [0/89] Processing /mnt/data/llvm/master_thesis_datasets/classifyapp_data/ir_test/75/678.ll ...\n",
      "4 - [0/96] Processing /mnt/data/llvm/master_thesis_datasets/classifyapp_data/ir_test/4/2087.ll ...\n",
      "28 - [0/109] Processing /mnt/data/llvm/master_thesis_datasets/classifyapp_data/ir_test/28/678.ll ...\n",
      "59 - [0/100] Processing /mnt/data/llvm/master_thesis_datasets/classifyapp_data/ir_test/59/678.ll ...\n",
      "\u001b[1m\u001b[96mRemoved 1 block without predecessors from `main`, 10 blocks remaining\u001b[0m\n",
      "\u001b[1m\u001b[96mRemoved 1 block without predecessors from `main`, 10 blocks remaining\u001b[0m\n",
      "\u001b[1m\u001b[96mRemoved 1 block without predecessors from `main`, 3 blocks remaining\u001b[0m\n",
      "***** FAILING ON /mnt/data/llvm/master_thesis_datasets/classifyapp_data/ir_test/54/1541.ll ... renaming file to .ll_ \n",
      "\u001b[1m\u001b[96mRemoved 2 blocks without predecessors from `main`, 42 blocks remaining\u001b[0m\n",
      "\u001b[1m\u001b[96mRemoved 1 block without predecessors from `main`, 10 blocks remaining\u001b[0m\n",
      "\u001b[1m\u001b[96mRemoved 1 block without predecessors from `main`, 16 blocks remaining\u001b[0m\n",
      "\u001b[1m\u001b[96mRemoved 1 block without predecessors from `_Z4swapii`, 1 blocks remaining\u001b[0m\n",
      "\u001b[1m\u001b[96mRemoved 1 block without predecessors from `_Z7guilingi`, 29 blocks remaining\u001b[0m\n",
      "\u001b[1m\u001b[96mRemoved 1 block without predecessors from `_Z8xiaojiani`, 9 blocks remaining\u001b[0m\n"
     ]
    },
    {
     "name": "stderr",
     "output_type": "stream",
     "text": [
      "\r",
      "  1%|          | 1/104 [00:40<1:10:09, 40.87s/it]"
     ]
    },
    {
     "name": "stdout",
     "output_type": "stream",
     "text": [
      "=== Opening Folder /mnt/data/llvm/master_thesis_datasets/classifyapp_data/ir_test/46 ===\n",
      "46 - [0/124] Processing /mnt/data/llvm/master_thesis_datasets/classifyapp_data/ir_test/46/2087.ll ...\n",
      "\u001b[1m\u001b[96mRemoved 1 block without predecessors from `main`, 38 blocks remaining\u001b[0m\n"
     ]
    },
    {
     "name": "stderr",
     "output_type": "stream",
     "text": [
      "\r",
      "  2%|▏         | 2/104 [00:50<53:45, 31.62s/it]  "
     ]
    },
    {
     "name": "stdout",
     "output_type": "stream",
     "text": [
      "=== Opening Folder /mnt/data/llvm/master_thesis_datasets/classifyapp_data/ir_test/48 ===\n",
      "48 - [0/89] Processing /mnt/data/llvm/master_thesis_datasets/classifyapp_data/ir_test/48/658.ll ...\n",
      "54 - [100/104] Processing /mnt/data/llvm/master_thesis_datasets/classifyapp_data/ir_test/54/1124.ll ...\n"
     ]
    },
    {
     "name": "stderr",
     "output_type": "stream",
     "text": [
      "\r",
      "  3%|▎         | 3/104 [00:53<38:35, 22.92s/it]"
     ]
    },
    {
     "name": "stdout",
     "output_type": "stream",
     "text": [
      "=== Opening Folder /mnt/data/llvm/master_thesis_datasets/classifyapp_data/ir_test/5 ===\n",
      "5 - [0/85] Processing /mnt/data/llvm/master_thesis_datasets/classifyapp_data/ir_test/5/137.ll ...\n",
      "45 - [100/105] Processing /mnt/data/llvm/master_thesis_datasets/classifyapp_data/ir_test/45/2498.ll ...\n",
      "\u001b[1m\u001b[96mRemoved 1 block without predecessors from `main`, 20 blocks remaining\u001b[0m\n",
      "\u001b[1m\u001b[96mRemoved 1 block without predecessors from `_Z4linePcPi`, 19 blocks remaining\u001b[0m\n"
     ]
    },
    {
     "name": "stderr",
     "output_type": "stream",
     "text": [
      "\r",
      "  4%|▍         | 4/104 [00:59<29:52, 17.92s/it]"
     ]
    },
    {
     "name": "stdout",
     "output_type": "stream",
     "text": [
      "=== Opening Folder /mnt/data/llvm/master_thesis_datasets/classifyapp_data/ir_test/65 ===\n",
      "65 - [0/92] Processing /mnt/data/llvm/master_thesis_datasets/classifyapp_data/ir_test/65/801.ll ...\n",
      "28 - [100/109] Processing /mnt/data/llvm/master_thesis_datasets/classifyapp_data/ir_test/28/552.ll ...\n"
     ]
    },
    {
     "name": "stderr",
     "output_type": "stream",
     "text": [
      "\r",
      "  5%|▍         | 5/104 [01:03<22:26, 13.60s/it]"
     ]
    },
    {
     "name": "stdout",
     "output_type": "stream",
     "text": [
      "=== Opening Folder /mnt/data/llvm/master_thesis_datasets/classifyapp_data/ir_test/13 ===\n",
      "13 - [0/96] Processing /mnt/data/llvm/master_thesis_datasets/classifyapp_data/ir_test/13/1308.ll ...\n",
      "99 - [100/102] Processing /mnt/data/llvm/master_thesis_datasets/classifyapp_data/ir_test/99/1181.ll ...\n"
     ]
    },
    {
     "name": "stderr",
     "output_type": "stream",
     "text": [
      "\r",
      "  6%|▌         | 6/104 [01:05<16:45, 10.26s/it]"
     ]
    },
    {
     "name": "stdout",
     "output_type": "stream",
     "text": [
      "=== Opening Folder /mnt/data/llvm/master_thesis_datasets/classifyapp_data/ir_test/93 ===\n",
      "93 - [0/98] Processing /mnt/data/llvm/master_thesis_datasets/classifyapp_data/ir_test/93/17.ll ...\n"
     ]
    },
    {
     "name": "stderr",
     "output_type": "stream",
     "text": [
      "\r",
      "  7%|▋         | 7/104 [01:06<11:48,  7.31s/it]"
     ]
    },
    {
     "name": "stdout",
     "output_type": "stream",
     "text": [
      "=== Opening Folder /mnt/data/llvm/master_thesis_datasets/classifyapp_data/ir_test/51 ===\n",
      "51 - [0/72] Processing /mnt/data/llvm/master_thesis_datasets/classifyapp_data/ir_test/51/1073.ll ...\n"
     ]
    },
    {
     "name": "stderr",
     "output_type": "stream",
     "text": [
      "\r",
      "  8%|▊         | 8/104 [01:07<08:58,  5.61s/it]"
     ]
    },
    {
     "name": "stdout",
     "output_type": "stream",
     "text": [
      "=== Opening Folder /mnt/data/llvm/master_thesis_datasets/classifyapp_data/ir_test/86 ===\n",
      "86 - [0/100] Processing /mnt/data/llvm/master_thesis_datasets/classifyapp_data/ir_test/86/1599.ll ...\n"
     ]
    },
    {
     "name": "stderr",
     "output_type": "stream",
     "text": [
      "\r",
      "  9%|▊         | 9/104 [01:09<06:51,  4.33s/it]"
     ]
    },
    {
     "name": "stdout",
     "output_type": "stream",
     "text": [
      "=== Opening Folder /mnt/data/llvm/master_thesis_datasets/classifyapp_data/ir_test/2 ===\n",
      "2 - [0/75] Processing /mnt/data/llvm/master_thesis_datasets/classifyapp_data/ir_test/2/17.ll ...\n"
     ]
    },
    {
     "name": "stderr",
     "output_type": "stream",
     "text": [
      "\r",
      " 10%|▉         | 10/104 [01:17<08:36,  5.50s/it]"
     ]
    },
    {
     "name": "stdout",
     "output_type": "stream",
     "text": [
      "=== Opening Folder /mnt/data/llvm/master_thesis_datasets/classifyapp_data/ir_test/95 ===\n",
      "95 - [0/101] Processing /mnt/data/llvm/master_thesis_datasets/classifyapp_data/ir_test/95/788.ll ...\n"
     ]
    },
    {
     "name": "stderr",
     "output_type": "stream",
     "text": [
      "\r",
      " 11%|█         | 11/104 [01:17<06:04,  3.91s/it]"
     ]
    },
    {
     "name": "stdout",
     "output_type": "stream",
     "text": [
      "=== Opening Folder /mnt/data/llvm/master_thesis_datasets/classifyapp_data/ir_test/23 ===\n",
      "23 - [0/98] Processing /mnt/data/llvm/master_thesis_datasets/classifyapp_data/ir_test/23/256.ll ...\n"
     ]
    },
    {
     "name": "stderr",
     "output_type": "stream",
     "text": [
      "\r",
      " 12%|█▏        | 12/104 [01:20<05:24,  3.52s/it]"
     ]
    },
    {
     "name": "stdout",
     "output_type": "stream",
     "text": [
      "=== Opening Folder /mnt/data/llvm/master_thesis_datasets/classifyapp_data/ir_test/104 ===\n",
      "104 - [0/92] Processing /mnt/data/llvm/master_thesis_datasets/classifyapp_data/ir_test/104/678.ll ...\n"
     ]
    },
    {
     "name": "stderr",
     "output_type": "stream",
     "text": [
      "\r",
      " 12%|█▎        | 13/104 [01:22<04:55,  3.24s/it]"
     ]
    },
    {
     "name": "stdout",
     "output_type": "stream",
     "text": [
      "=== Opening Folder /mnt/data/llvm/master_thesis_datasets/classifyapp_data/ir_test/63 ===\n",
      "63 - [0/72] Processing /mnt/data/llvm/master_thesis_datasets/classifyapp_data/ir_test/63/1871.ll ...\n",
      "11 - [100/103] Processing /mnt/data/llvm/master_thesis_datasets/classifyapp_data/ir_test/11/149.ll ...\n"
     ]
    },
    {
     "name": "stderr",
     "output_type": "stream",
     "text": [
      "\r",
      " 13%|█▎        | 14/104 [01:27<05:20,  3.56s/it]"
     ]
    },
    {
     "name": "stdout",
     "output_type": "stream",
     "text": [
      "=== Opening Folder /mnt/data/llvm/master_thesis_datasets/classifyapp_data/ir_test/49 ===\n",
      "49 - [0/97] Processing /mnt/data/llvm/master_thesis_datasets/classifyapp_data/ir_test/49/740.ll ...\n"
     ]
    },
    {
     "name": "stderr",
     "output_type": "stream",
     "text": [
      "\r",
      " 14%|█▍        | 15/104 [01:50<14:04,  9.49s/it]"
     ]
    },
    {
     "name": "stdout",
     "output_type": "stream",
     "text": [
      "=== Opening Folder /mnt/data/llvm/master_thesis_datasets/classifyapp_data/ir_test/71 ===\n",
      "71 - [0/95] Processing /mnt/data/llvm/master_thesis_datasets/classifyapp_data/ir_test/71/1988.ll ...\n",
      "\u001b[1m\u001b[96mRemoved 1 block without predecessors from `_Z7osubstrPcii`, 4 blocks remaining\u001b[0m\n"
     ]
    },
    {
     "name": "stderr",
     "output_type": "stream",
     "text": [
      "\r",
      " 15%|█▌        | 16/104 [02:07<17:14, 11.76s/it]"
     ]
    },
    {
     "name": "stdout",
     "output_type": "stream",
     "text": [
      "=== Opening Folder /mnt/data/llvm/master_thesis_datasets/classifyapp_data/ir_test/76 ===\n",
      "76 - [0/88] Processing /mnt/data/llvm/master_thesis_datasets/classifyapp_data/ir_test/76/17.ll ...\n",
      "\u001b[1m\u001b[96mRemoved 1 block without predecessors from `_Z4turnPc`, 22 blocks remaining\u001b[0m\n"
     ]
    },
    {
     "name": "stderr",
     "output_type": "stream",
     "text": [
      "\r",
      " 16%|█▋        | 17/104 [02:10<13:24,  9.24s/it]"
     ]
    },
    {
     "name": "stdout",
     "output_type": "stream",
     "text": [
      "=== Opening Folder /mnt/data/llvm/master_thesis_datasets/classifyapp_data/ir_test/79 ===\n",
      "79 - [0/82] Processing /mnt/data/llvm/master_thesis_datasets/classifyapp_data/ir_test/79/1466.ll ...\n"
     ]
    },
    {
     "name": "stderr",
     "output_type": "stream",
     "text": [
      "\r",
      " 17%|█▋        | 18/104 [02:14<10:47,  7.53s/it]"
     ]
    },
    {
     "name": "stdout",
     "output_type": "stream",
     "text": [
      "=== Opening Folder /mnt/data/llvm/master_thesis_datasets/classifyapp_data/ir_test/70 ===\n",
      "70 - [0/84] Processing /mnt/data/llvm/master_thesis_datasets/classifyapp_data/ir_test/70/548.ll ...\n"
     ]
    },
    {
     "name": "stderr",
     "output_type": "stream",
     "text": [
      "\r",
      " 18%|█▊        | 19/104 [02:17<08:48,  6.22s/it]"
     ]
    },
    {
     "name": "stdout",
     "output_type": "stream",
     "text": [
      "=== Opening Folder /mnt/data/llvm/master_thesis_datasets/classifyapp_data/ir_test/19 ===\n",
      "19 - [0/103] Processing /mnt/data/llvm/master_thesis_datasets/classifyapp_data/ir_test/19/658.ll ...\n"
     ]
    },
    {
     "name": "stderr",
     "output_type": "stream",
     "text": [
      "\r",
      " 19%|█▉        | 20/104 [02:18<06:32,  4.68s/it]"
     ]
    },
    {
     "name": "stdout",
     "output_type": "stream",
     "text": [
      "=== Opening Folder /mnt/data/llvm/master_thesis_datasets/classifyapp_data/ir_test/80 ===\n",
      "80 - [0/104] Processing /mnt/data/llvm/master_thesis_datasets/classifyapp_data/ir_test/80/801.ll ...\n"
     ]
    },
    {
     "name": "stderr",
     "output_type": "stream",
     "text": [
      "\r",
      " 20%|██        | 21/104 [02:21<05:42,  4.12s/it]"
     ]
    },
    {
     "name": "stdout",
     "output_type": "stream",
     "text": [
      "=== Opening Folder /mnt/data/llvm/master_thesis_datasets/classifyapp_data/ir_test/96 ===\n",
      "96 - [0/68] Processing /mnt/data/llvm/master_thesis_datasets/classifyapp_data/ir_test/96/788.ll ...\n"
     ]
    },
    {
     "name": "stderr",
     "output_type": "stream",
     "text": [
      "\r",
      " 21%|██        | 22/104 [02:22<04:14,  3.11s/it]"
     ]
    },
    {
     "name": "stdout",
     "output_type": "stream",
     "text": [
      "=== Opening Folder /mnt/data/llvm/master_thesis_datasets/classifyapp_data/ir_test/78 ===\n",
      "78 - [0/100] Processing /mnt/data/llvm/master_thesis_datasets/classifyapp_data/ir_test/78/1861.ll ...\n"
     ]
    },
    {
     "name": "stderr",
     "output_type": "stream",
     "text": [
      "\r",
      " 22%|██▏       | 23/104 [02:22<03:01,  2.24s/it]"
     ]
    },
    {
     "name": "stdout",
     "output_type": "stream",
     "text": [
      "=== Opening Folder /mnt/data/llvm/master_thesis_datasets/classifyapp_data/ir_test/91 ===\n",
      "91 - [0/84] Processing /mnt/data/llvm/master_thesis_datasets/classifyapp_data/ir_test/91/17.ll ...\n"
     ]
    },
    {
     "name": "stderr",
     "output_type": "stream",
     "text": [
      "\r",
      " 23%|██▎       | 24/104 [02:26<03:53,  2.92s/it]"
     ]
    },
    {
     "name": "stdout",
     "output_type": "stream",
     "text": [
      "=== Opening Folder /mnt/data/llvm/master_thesis_datasets/classifyapp_data/ir_test/29 ===\n",
      "29 - [0/105] Processing /mnt/data/llvm/master_thesis_datasets/classifyapp_data/ir_test/29/17.ll ...\n"
     ]
    },
    {
     "name": "stderr",
     "output_type": "stream",
     "text": [
      "\r",
      " 24%|██▍       | 25/104 [02:28<03:27,  2.62s/it]"
     ]
    },
    {
     "name": "stdout",
     "output_type": "stream",
     "text": [
      "=== Opening Folder /mnt/data/llvm/master_thesis_datasets/classifyapp_data/ir_test/100 ===\n",
      "100 - [0/97] Processing /mnt/data/llvm/master_thesis_datasets/classifyapp_data/ir_test/100/81.ll ...\n"
     ]
    },
    {
     "name": "stderr",
     "output_type": "stream",
     "text": [
      "\r",
      " 25%|██▌       | 26/104 [02:31<03:15,  2.51s/it]"
     ]
    },
    {
     "name": "stdout",
     "output_type": "stream",
     "text": [
      "=== Opening Folder /mnt/data/llvm/master_thesis_datasets/classifyapp_data/ir_test/66 ===\n",
      "66 - [0/101] Processing /mnt/data/llvm/master_thesis_datasets/classifyapp_data/ir_test/66/1073.ll ...\n",
      "46 - [100/124] Processing /mnt/data/llvm/master_thesis_datasets/classifyapp_data/ir_test/46/1840.ll ...\n",
      "95 - [100/101] Processing /mnt/data/llvm/master_thesis_datasets/classifyapp_data/ir_test/95/293.ll ...\n"
     ]
    },
    {
     "name": "stderr",
     "output_type": "stream",
     "text": [
      "\r",
      " 26%|██▌       | 27/104 [02:36<04:13,  3.30s/it]"
     ]
    },
    {
     "name": "stdout",
     "output_type": "stream",
     "text": [
      "=== Opening Folder /mnt/data/llvm/master_thesis_datasets/classifyapp_data/ir_test/10 ===\n",
      "10 - [0/77] Processing /mnt/data/llvm/master_thesis_datasets/classifyapp_data/ir_test/10/1957.ll ...\n"
     ]
    },
    {
     "name": "stderr",
     "output_type": "stream",
     "text": [
      "\r",
      " 27%|██▋       | 28/104 [02:38<03:52,  3.06s/it]"
     ]
    },
    {
     "name": "stdout",
     "output_type": "stream",
     "text": [
      "=== Opening Folder /mnt/data/llvm/master_thesis_datasets/classifyapp_data/ir_test/56 ===\n",
      "56 - [0/82] Processing /mnt/data/llvm/master_thesis_datasets/classifyapp_data/ir_test/56/2445.ll ...\n"
     ]
    },
    {
     "name": "stderr",
     "output_type": "stream",
     "text": [
      "\r",
      " 28%|██▊       | 29/104 [02:41<03:36,  2.89s/it]"
     ]
    },
    {
     "name": "stdout",
     "output_type": "stream",
     "text": [
      "=== Opening Folder /mnt/data/llvm/master_thesis_datasets/classifyapp_data/ir_test/90 ===\n",
      "90 - [0/71] Processing /mnt/data/llvm/master_thesis_datasets/classifyapp_data/ir_test/90/1466.ll ...\n"
     ]
    },
    {
     "name": "stderr",
     "output_type": "stream",
     "text": [
      "\r",
      " 29%|██▉       | 30/104 [02:57<08:38,  7.01s/it]"
     ]
    },
    {
     "name": "stdout",
     "output_type": "stream",
     "text": [
      "=== Opening Folder /mnt/data/llvm/master_thesis_datasets/classifyapp_data/ir_test/31 ===\n",
      "31 - [0/73] Processing /mnt/data/llvm/master_thesis_datasets/classifyapp_data/ir_test/31/1714.ll ...\n"
     ]
    },
    {
     "name": "stderr",
     "output_type": "stream",
     "text": [
      "\r",
      " 30%|██▉       | 31/104 [03:00<06:54,  5.68s/it]"
     ]
    },
    {
     "name": "stdout",
     "output_type": "stream",
     "text": [
      "=== Opening Folder /mnt/data/llvm/master_thesis_datasets/classifyapp_data/ir_test/97 ===\n",
      "97 - [0/97] Processing /mnt/data/llvm/master_thesis_datasets/classifyapp_data/ir_test/97/1715.ll ...\n"
     ]
    },
    {
     "name": "stderr",
     "output_type": "stream",
     "text": [
      "\r",
      " 31%|███       | 32/104 [03:10<08:13,  6.85s/it]"
     ]
    },
    {
     "name": "stdout",
     "output_type": "stream",
     "text": [
      "=== Opening Folder /mnt/data/llvm/master_thesis_datasets/classifyapp_data/ir_test/37 ===\n",
      "37 - [0/85] Processing /mnt/data/llvm/master_thesis_datasets/classifyapp_data/ir_test/37/475.ll ...\n"
     ]
    },
    {
     "name": "stderr",
     "output_type": "stream",
     "text": [
      "\r",
      " 32%|███▏      | 33/104 [03:12<06:28,  5.47s/it]"
     ]
    },
    {
     "name": "stdout",
     "output_type": "stream",
     "text": [
      "=== Opening Folder /mnt/data/llvm/master_thesis_datasets/classifyapp_data/ir_test/82 ===\n",
      "82 - [0/95] Processing /mnt/data/llvm/master_thesis_datasets/classifyapp_data/ir_test/82/994.ll ...\n",
      "\u001b[1m\u001b[96mRemoved 1 block without predecessors from `main`, 38 blocks remaining\u001b[0m\n"
     ]
    },
    {
     "name": "stderr",
     "output_type": "stream",
     "text": [
      "\r",
      " 33%|███▎      | 34/104 [03:17<06:13,  5.34s/it]"
     ]
    },
    {
     "name": "stdout",
     "output_type": "stream",
     "text": [
      "=== Opening Folder /mnt/data/llvm/master_thesis_datasets/classifyapp_data/ir_test/85 ===\n",
      "85 - [0/78] Processing /mnt/data/llvm/master_thesis_datasets/classifyapp_data/ir_test/85/1204.ll ...\n",
      "\u001b[1m\u001b[96mRemoved 1 block without predecessors from `_Z1fiii`, 4 blocks remaining\u001b[0m\n",
      "29 - [100/105] Processing /mnt/data/llvm/master_thesis_datasets/classifyapp_data/ir_test/29/979.ll ...\n"
     ]
    },
    {
     "name": "stderr",
     "output_type": "stream",
     "text": [
      "\r",
      " 34%|███▎      | 35/104 [03:24<06:42,  5.83s/it]"
     ]
    },
    {
     "name": "stdout",
     "output_type": "stream",
     "text": [
      "=== Opening Folder /mnt/data/llvm/master_thesis_datasets/classifyapp_data/ir_test/74 ===\n",
      "74 - [0/96] Processing /mnt/data/llvm/master_thesis_datasets/classifyapp_data/ir_test/74/658.ll ...\n"
     ]
    },
    {
     "name": "stderr",
     "output_type": "stream",
     "text": [
      "\r",
      " 35%|███▍      | 36/104 [03:24<04:41,  4.14s/it]"
     ]
    },
    {
     "name": "stdout",
     "output_type": "stream",
     "text": [
      "=== Opening Folder /mnt/data/llvm/master_thesis_datasets/classifyapp_data/ir_test/34 ===\n",
      "34 - [0/104] Processing /mnt/data/llvm/master_thesis_datasets/classifyapp_data/ir_test/34/17.ll ...\n"
     ]
    },
    {
     "name": "stderr",
     "output_type": "stream",
     "text": [
      "\r",
      " 36%|███▌      | 37/104 [03:26<03:54,  3.50s/it]"
     ]
    },
    {
     "name": "stdout",
     "output_type": "stream",
     "text": [
      "=== Opening Folder /mnt/data/llvm/master_thesis_datasets/classifyapp_data/ir_test/24 ===\n",
      "24 - [0/93] Processing /mnt/data/llvm/master_thesis_datasets/classifyapp_data/ir_test/24/1542.ll ...\n"
     ]
    },
    {
     "name": "stderr",
     "output_type": "stream",
     "text": [
      "\r",
      " 37%|███▋      | 38/104 [03:26<02:51,  2.59s/it]"
     ]
    },
    {
     "name": "stdout",
     "output_type": "stream",
     "text": [
      "=== Opening Folder /mnt/data/llvm/master_thesis_datasets/classifyapp_data/ir_test/43 ===\n",
      "43 - [0/95] Processing /mnt/data/llvm/master_thesis_datasets/classifyapp_data/ir_test/43/1599.ll ...\n"
     ]
    },
    {
     "name": "stderr",
     "output_type": "stream",
     "text": [
      "\r",
      " 38%|███▊      | 39/104 [03:31<03:25,  3.17s/it]"
     ]
    },
    {
     "name": "stdout",
     "output_type": "stream",
     "text": [
      "=== Opening Folder /mnt/data/llvm/master_thesis_datasets/classifyapp_data/ir_test/39 ===\n",
      "39 - [0/81] Processing /mnt/data/llvm/master_thesis_datasets/classifyapp_data/ir_test/39/1715.ll ...\n"
     ]
    },
    {
     "name": "stderr",
     "output_type": "stream",
     "text": [
      "\r",
      " 38%|███▊      | 40/104 [03:33<02:51,  2.69s/it]"
     ]
    },
    {
     "name": "stdout",
     "output_type": "stream",
     "text": [
      "=== Opening Folder /mnt/data/llvm/master_thesis_datasets/classifyapp_data/ir_test/6 ===\n",
      "6 - [0/101] Processing /mnt/data/llvm/master_thesis_datasets/classifyapp_data/ir_test/6/2087.ll ...\n",
      "19 - [100/103] Processing /mnt/data/llvm/master_thesis_datasets/classifyapp_data/ir_test/19/2872.ll ...\n",
      "\u001b[1m\u001b[96mRemoved 1 block without predecessors from `_Z8guochengi`, 7 blocks remaining\u001b[0m\n"
     ]
    },
    {
     "name": "stderr",
     "output_type": "stream",
     "text": [
      "\r",
      " 39%|███▉      | 41/104 [03:44<05:25,  5.17s/it]"
     ]
    },
    {
     "name": "stdout",
     "output_type": "stream",
     "text": [
      "=== Opening Folder /mnt/data/llvm/master_thesis_datasets/classifyapp_data/ir_test/38 ===\n",
      "38 - [0/79] Processing /mnt/data/llvm/master_thesis_datasets/classifyapp_data/ir_test/38/788.ll ...\n"
     ]
    },
    {
     "name": "stderr",
     "output_type": "stream",
     "text": [
      "\r",
      " 40%|████      | 42/104 [03:45<04:05,  3.96s/it]"
     ]
    },
    {
     "name": "stdout",
     "output_type": "stream",
     "text": [
      "=== Opening Folder /mnt/data/llvm/master_thesis_datasets/classifyapp_data/ir_test/67 ===\n",
      "67 - [0/87] Processing /mnt/data/llvm/master_thesis_datasets/classifyapp_data/ir_test/67/2445.ll ...\n"
     ]
    },
    {
     "name": "stderr",
     "output_type": "stream",
     "text": [
      "\r",
      " 41%|████▏     | 43/104 [03:48<03:44,  3.68s/it]"
     ]
    },
    {
     "name": "stdout",
     "output_type": "stream",
     "text": [
      "=== Opening Folder /mnt/data/llvm/master_thesis_datasets/classifyapp_data/ir_test/40 ===\n",
      "40 - [0/41] Processing /mnt/data/llvm/master_thesis_datasets/classifyapp_data/ir_test/40/2662.ll ...\n",
      "\u001b[1m\u001b[96mRemoved 1 block without predecessors from `_Z1fddddd`, 4 blocks remaining\u001b[0m\n"
     ]
    },
    {
     "name": "stderr",
     "output_type": "stream",
     "text": [
      "\r",
      " 42%|████▏     | 44/104 [04:08<08:32,  8.54s/it]"
     ]
    },
    {
     "name": "stdout",
     "output_type": "stream",
     "text": [
      "=== Opening Folder /mnt/data/llvm/master_thesis_datasets/classifyapp_data/ir_test/72 ===\n",
      "72 - [0/84] Processing /mnt/data/llvm/master_thesis_datasets/classifyapp_data/ir_test/72/2445.ll ...\n"
     ]
    },
    {
     "name": "stderr",
     "output_type": "stream",
     "text": [
      "\r",
      " 43%|████▎     | 45/104 [04:08<06:00,  6.11s/it]"
     ]
    },
    {
     "name": "stdout",
     "output_type": "stream",
     "text": [
      "=== Opening Folder /mnt/data/llvm/master_thesis_datasets/classifyapp_data/ir_test/55 ===\n",
      "55 - [0/81] Processing /mnt/data/llvm/master_thesis_datasets/classifyapp_data/ir_test/55/678.ll ...\n"
     ]
    },
    {
     "name": "stderr",
     "output_type": "stream",
     "text": [
      "\r",
      " 44%|████▍     | 46/104 [04:17<06:40,  6.90s/it]"
     ]
    },
    {
     "name": "stdout",
     "output_type": "stream",
     "text": [
      "=== Opening Folder /mnt/data/llvm/master_thesis_datasets/classifyapp_data/ir_test/7 ===\n",
      "7 - [0/84] Processing /mnt/data/llvm/master_thesis_datasets/classifyapp_data/ir_test/7/1131.ll ...\n",
      "=== Opening Folder /mnt/data/llvm/master_thesis_datasets/classifyapp_data/ir_test/87 ===\n",
      "87 - [0/107] Processing /mnt/data/llvm/master_thesis_datasets/classifyapp_data/ir_test/87/678.ll ...\n"
     ]
    },
    {
     "name": "stderr",
     "output_type": "stream",
     "text": [
      "\r",
      " 46%|████▌     | 48/104 [04:18<04:39,  4.99s/it]"
     ]
    },
    {
     "name": "stdout",
     "output_type": "stream",
     "text": [
      "=== Opening Folder /mnt/data/llvm/master_thesis_datasets/classifyapp_data/ir_test/8 ===\n",
      "8 - [0/92] Processing /mnt/data/llvm/master_thesis_datasets/classifyapp_data/ir_test/8/1435.ll ...\n",
      "34 - [100/104] Processing /mnt/data/llvm/master_thesis_datasets/classifyapp_data/ir_test/34/1228.ll ...\n",
      "66 - [100/101] Processing /mnt/data/llvm/master_thesis_datasets/classifyapp_data/ir_test/66/454.ll ...\n"
     ]
    },
    {
     "name": "stderr",
     "output_type": "stream",
     "text": [
      "\r",
      " 47%|████▋     | 49/104 [04:22<04:25,  4.83s/it]"
     ]
    },
    {
     "name": "stdout",
     "output_type": "stream",
     "text": [
      "=== Opening Folder /mnt/data/llvm/master_thesis_datasets/classifyapp_data/ir_test/16 ===\n",
      "16 - [0/94] Processing /mnt/data/llvm/master_thesis_datasets/classifyapp_data/ir_test/16/740.ll ...\n",
      "=== Opening Folder /mnt/data/llvm/master_thesis_datasets/classifyapp_data/ir_test/61 ===\n",
      "61 - [0/88] Processing /mnt/data/llvm/master_thesis_datasets/classifyapp_data/ir_test/61/17.ll ...\n",
      "80 - [100/104] Processing /mnt/data/llvm/master_thesis_datasets/classifyapp_data/ir_test/80/224.ll ...\n",
      "\u001b[1m\u001b[96mRemoved 1 block without predecessors from `_Z6shuchuv`, 5 blocks remaining\u001b[0m\n",
      "\u001b[1m\u001b[96mRemoved 1 block without predecessors from `_Z5shuruv`, 9 blocks remaining\u001b[0m\n",
      "\u001b[1m\u001b[96mRemoved 1 block without predecessors from `_Z3paiv`, 21 blocks remaining\u001b[0m\n",
      "\u001b[1m\u001b[96mRemoved 1 block without predecessors from `_Z3jiev`, 9 blocks remaining\u001b[0m\n"
     ]
    },
    {
     "name": "stderr",
     "output_type": "stream",
     "text": [
      "\r",
      " 49%|████▉     | 51/104 [04:27<03:37,  4.11s/it]"
     ]
    },
    {
     "name": "stdout",
     "output_type": "stream",
     "text": [
      "=== Opening Folder /mnt/data/llvm/master_thesis_datasets/classifyapp_data/ir_test/58 ===\n",
      "58 - [0/108] Processing /mnt/data/llvm/master_thesis_datasets/classifyapp_data/ir_test/58/658.ll ...\n"
     ]
    },
    {
     "name": "stderr",
     "output_type": "stream",
     "text": [
      "\r",
      " 50%|█████     | 52/104 [04:27<02:32,  2.94s/it]"
     ]
    },
    {
     "name": "stdout",
     "output_type": "stream",
     "text": [
      "=== Opening Folder /mnt/data/llvm/master_thesis_datasets/classifyapp_data/ir_test/53 ===\n",
      "53 - [0/92] Processing /mnt/data/llvm/master_thesis_datasets/classifyapp_data/ir_test/53/658.ll ...\n",
      "\u001b[1m\u001b[96mRemoved 1 block without predecessors from `main`, 29 blocks remaining\u001b[0m\n"
     ]
    },
    {
     "name": "stderr",
     "output_type": "stream",
     "text": [
      "\r",
      " 51%|█████     | 53/104 [04:33<03:06,  3.65s/it]"
     ]
    },
    {
     "name": "stdout",
     "output_type": "stream",
     "text": [
      "=== Opening Folder /mnt/data/llvm/master_thesis_datasets/classifyapp_data/ir_test/62 ===\n",
      "62 - [0/98] Processing /mnt/data/llvm/master_thesis_datasets/classifyapp_data/ir_test/62/2087.ll ...\n",
      "=== Opening Folder /mnt/data/llvm/master_thesis_datasets/classifyapp_data/ir_test/60 ===\n",
      "60 - [0/89] Processing /mnt/data/llvm/master_thesis_datasets/classifyapp_data/ir_test/60/1599.ll ...\n",
      "\u001b[1m\u001b[96mRemoved 1 block without predecessors from `main`, 21 blocks remaining\u001b[0m\n"
     ]
    },
    {
     "name": "stderr",
     "output_type": "stream",
     "text": [
      "\r",
      " 53%|█████▎    | 55/104 [04:37<02:37,  3.22s/it]"
     ]
    },
    {
     "name": "stdout",
     "output_type": "stream",
     "text": [
      "=== Opening Folder /mnt/data/llvm/master_thesis_datasets/classifyapp_data/ir_test/30 ===\n",
      "30 - [0/87] Processing /mnt/data/llvm/master_thesis_datasets/classifyapp_data/ir_test/30/2287.ll ...\n"
     ]
    },
    {
     "name": "stderr",
     "output_type": "stream",
     "text": [
      "\r",
      " 54%|█████▍    | 56/104 [04:41<02:43,  3.40s/it]"
     ]
    },
    {
     "name": "stdout",
     "output_type": "stream",
     "text": [
      "=== Opening Folder /mnt/data/llvm/master_thesis_datasets/classifyapp_data/ir_test/20 ===\n",
      "20 - [0/101] Processing /mnt/data/llvm/master_thesis_datasets/classifyapp_data/ir_test/20/548.ll ...\n"
     ]
    },
    {
     "name": "stderr",
     "output_type": "stream",
     "text": [
      "\r",
      " 55%|█████▍    | 57/104 [04:47<03:12,  4.09s/it]"
     ]
    },
    {
     "name": "stdout",
     "output_type": "stream",
     "text": [
      "=== Opening Folder /mnt/data/llvm/master_thesis_datasets/classifyapp_data/ir_test/68 ===\n",
      "68 - [0/85] Processing /mnt/data/llvm/master_thesis_datasets/classifyapp_data/ir_test/68/567.ll ...\n",
      "\u001b[1m\u001b[96mRemoved 1 block without predecessors from `main`, 22 blocks remaining\u001b[0m\n",
      "\u001b[1m\u001b[96mRemoved 1 block without predecessors from `main`, 26 blocks remaining\u001b[0m\n",
      "\u001b[1m\u001b[96mRemoved 1 block without predecessors from `_Z1fPii`, 11 blocks remaining\u001b[0m\n",
      "6 - [100/101] Processing /mnt/data/llvm/master_thesis_datasets/classifyapp_data/ir_test/6/4140.ll ...\n"
     ]
    },
    {
     "name": "stderr",
     "output_type": "stream",
     "text": [
      "\r",
      " 56%|█████▌    | 58/104 [04:56<04:22,  5.71s/it]"
     ]
    },
    {
     "name": "stdout",
     "output_type": "stream",
     "text": [
      "=== Opening Folder /mnt/data/llvm/master_thesis_datasets/classifyapp_data/ir_test/35 ===\n",
      "35 - [0/80] Processing /mnt/data/llvm/master_thesis_datasets/classifyapp_data/ir_test/35/801.ll ...\n"
     ]
    },
    {
     "name": "stderr",
     "output_type": "stream",
     "text": [
      "\r",
      " 57%|█████▋    | 59/104 [04:57<03:15,  4.34s/it]"
     ]
    },
    {
     "name": "stdout",
     "output_type": "stream",
     "text": [
      "=== Opening Folder /mnt/data/llvm/master_thesis_datasets/classifyapp_data/ir_test/1 ===\n",
      "1 - [0/88] Processing /mnt/data/llvm/master_thesis_datasets/classifyapp_data/ir_test/1/801.ll ...\n"
     ]
    },
    {
     "name": "stderr",
     "output_type": "stream",
     "text": [
      "\r",
      " 58%|█████▊    | 60/104 [05:10<04:58,  6.78s/it]"
     ]
    },
    {
     "name": "stdout",
     "output_type": "stream",
     "text": [
      "=== Opening Folder /mnt/data/llvm/master_thesis_datasets/classifyapp_data/ir_test/36 ===\n",
      "36 - [0/111] Processing /mnt/data/llvm/master_thesis_datasets/classifyapp_data/ir_test/36/788.ll ...\n",
      "87 - [100/107] Processing /mnt/data/llvm/master_thesis_datasets/classifyapp_data/ir_test/87/277.ll ...\n"
     ]
    },
    {
     "name": "stderr",
     "output_type": "stream",
     "text": [
      "\r",
      " 59%|█████▊    | 61/104 [05:12<03:59,  5.57s/it]"
     ]
    },
    {
     "name": "stdout",
     "output_type": "stream",
     "text": [
      "=== Opening Folder /mnt/data/llvm/master_thesis_datasets/classifyapp_data/ir_test/81 ===\n",
      "81 - [0/96] Processing /mnt/data/llvm/master_thesis_datasets/classifyapp_data/ir_test/81/1725.ll ...\n"
     ]
    },
    {
     "name": "stderr",
     "output_type": "stream",
     "text": [
      "\r",
      " 60%|█████▉    | 62/104 [05:15<03:18,  4.73s/it]"
     ]
    },
    {
     "name": "stdout",
     "output_type": "stream",
     "text": [
      "=== Opening Folder /mnt/data/llvm/master_thesis_datasets/classifyapp_data/ir_test/94 ===\n",
      "94 - [0/68] Processing /mnt/data/llvm/master_thesis_datasets/classifyapp_data/ir_test/94/1435.ll ...\n"
     ]
    },
    {
     "name": "stderr",
     "output_type": "stream",
     "text": [
      "\r",
      " 61%|██████    | 63/104 [05:24<04:00,  5.86s/it]"
     ]
    },
    {
     "name": "stdout",
     "output_type": "stream",
     "text": [
      "=== Opening Folder /mnt/data/llvm/master_thesis_datasets/classifyapp_data/ir_test/3 ===\n",
      "3 - [0/87] Processing /mnt/data/llvm/master_thesis_datasets/classifyapp_data/ir_test/3/1957.ll ...\n"
     ]
    },
    {
     "name": "stderr",
     "output_type": "stream",
     "text": [
      "\r",
      " 62%|██████▏   | 64/104 [05:27<03:24,  5.12s/it]"
     ]
    },
    {
     "name": "stdout",
     "output_type": "stream",
     "text": [
      "=== Opening Folder /mnt/data/llvm/master_thesis_datasets/classifyapp_data/ir_test/44 ===\n",
      "44 - [0/89] Processing /mnt/data/llvm/master_thesis_datasets/classifyapp_data/ir_test/44/379.ll ...\n"
     ]
    },
    {
     "name": "stderr",
     "output_type": "stream",
     "text": [
      "\r",
      " 62%|██████▎   | 65/104 [05:28<02:34,  3.95s/it]"
     ]
    },
    {
     "name": "stdout",
     "output_type": "stream",
     "text": [
      "=== Opening Folder /mnt/data/llvm/master_thesis_datasets/classifyapp_data/ir_test/98 ===\n",
      "98 - [0/84] Processing /mnt/data/llvm/master_thesis_datasets/classifyapp_data/ir_test/98/678.ll ...\n"
     ]
    },
    {
     "name": "stderr",
     "output_type": "stream",
     "text": [
      "\r",
      " 63%|██████▎   | 66/104 [05:29<01:53,  3.00s/it]"
     ]
    },
    {
     "name": "stdout",
     "output_type": "stream",
     "text": [
      "=== Opening Folder /mnt/data/llvm/master_thesis_datasets/classifyapp_data/ir_test/64 ===\n",
      "64 - [0/67] Processing /mnt/data/llvm/master_thesis_datasets/classifyapp_data/ir_test/64/1553.ll ...\n",
      "\u001b[1m\u001b[96mRemoved 1 block without predecessors from `_Z1fii`, 40 blocks remaining\u001b[0m\n"
     ]
    },
    {
     "name": "stderr",
     "output_type": "stream",
     "text": [
      "\r",
      " 64%|██████▍   | 67/104 [05:35<02:20,  3.78s/it]"
     ]
    },
    {
     "name": "stdout",
     "output_type": "stream",
     "text": [
      "=== Opening Folder /mnt/data/llvm/master_thesis_datasets/classifyapp_data/ir_test/42 ===\n",
      "=== Opening Folder /mnt/data/llvm/master_thesis_datasets/classifyapp_data/ir_test/17 ===\n",
      "42 - [0/82] Processing /mnt/data/llvm/master_thesis_datasets/classifyapp_data/ir_test/42/994.ll ...\n",
      "17 - [0/77] Processing /mnt/data/llvm/master_thesis_datasets/classifyapp_data/ir_test/17/584.ll ...\n",
      "\u001b[1m\u001b[96mRemoved 1 block without predecessors from `main`, 21 blocks remaining\u001b[0m\n",
      "\u001b[1m\u001b[96mRemoved 1 block without predecessors from `main`, 41 blocks remaining\u001b[0m\n",
      "***** FAILING ON /mnt/data/llvm/master_thesis_datasets/classifyapp_data/ir_test/17/650.ll ... renaming file to .ll_ \n",
      "\u001b[1m\u001b[96mRemoved 1 block without predecessors from `main`, 28 blocks remaining\u001b[0m\n",
      "\u001b[1m\u001b[96mRemoved 1 block without predecessors from `_Z3fffiiii`, 11 blocks remaining\u001b[0m\n",
      "\u001b[1m\u001b[96mRemoved 1 block without predecessors from `_Z5countii`, 9 blocks remaining\u001b[0m\n",
      "\u001b[1m\u001b[96mRemoved 1 block without predecessors from `_Z7reversei`, 20 blocks remaining\u001b[0m\n"
     ]
    },
    {
     "name": "stderr",
     "output_type": "stream",
     "text": [
      "\r",
      " 66%|██████▋   | 69/104 [05:52<03:02,  5.23s/it]"
     ]
    },
    {
     "name": "stdout",
     "output_type": "stream",
     "text": [
      "=== Opening Folder /mnt/data/llvm/master_thesis_datasets/classifyapp_data/ir_test/69 ===\n",
      "69 - [0/70] Processing /mnt/data/llvm/master_thesis_datasets/classifyapp_data/ir_test/69/722.ll ...\n"
     ]
    },
    {
     "name": "stderr",
     "output_type": "stream",
     "text": [
      "\r",
      " 67%|██████▋   | 70/104 [05:54<02:24,  4.25s/it]"
     ]
    },
    {
     "name": "stdout",
     "output_type": "stream",
     "text": [
      "=== Opening Folder /mnt/data/llvm/master_thesis_datasets/classifyapp_data/ir_test/15 ===\n",
      "15 - [0/92] Processing /mnt/data/llvm/master_thesis_datasets/classifyapp_data/ir_test/15/1308.ll ...\n",
      "=== Opening Folder /mnt/data/llvm/master_thesis_datasets/classifyapp_data/ir_test/41 ===\n",
      "41 - [0/91] Processing /mnt/data/llvm/master_thesis_datasets/classifyapp_data/ir_test/41/17.ll ...\n"
     ]
    },
    {
     "name": "stderr",
     "output_type": "stream",
     "text": [
      "\r",
      " 69%|██████▉   | 72/104 [05:58<01:52,  3.53s/it]"
     ]
    },
    {
     "name": "stdout",
     "output_type": "stream",
     "text": [
      "=== Opening Folder /mnt/data/llvm/master_thesis_datasets/classifyapp_data/ir_test/73 ===\n",
      "73 - [0/86] Processing /mnt/data/llvm/master_thesis_datasets/classifyapp_data/ir_test/73/788.ll ...\n",
      "20 - [100/101] Processing /mnt/data/llvm/master_thesis_datasets/classifyapp_data/ir_test/20/293.ll ...\n"
     ]
    },
    {
     "name": "stderr",
     "output_type": "stream",
     "text": [
      "\r",
      " 70%|███████   | 73/104 [06:01<01:44,  3.38s/it]"
     ]
    },
    {
     "name": "stdout",
     "output_type": "stream",
     "text": [
      "=== Opening Folder /mnt/data/llvm/master_thesis_datasets/classifyapp_data/ir_test/27 ===\n",
      "27 - [0/66] Processing /mnt/data/llvm/master_thesis_datasets/classifyapp_data/ir_test/27/658.ll ...\n",
      "58 - [100/108] Processing /mnt/data/llvm/master_thesis_datasets/classifyapp_data/ir_test/58/10.ll ...\n"
     ]
    },
    {
     "name": "stderr",
     "output_type": "stream",
     "text": [
      "\r",
      " 71%|███████   | 74/104 [06:06<02:03,  4.11s/it]"
     ]
    },
    {
     "name": "stdout",
     "output_type": "stream",
     "text": [
      "=== Opening Folder /mnt/data/llvm/master_thesis_datasets/classifyapp_data/ir_test/52 ===\n",
      "52 - [0/92] Processing /mnt/data/llvm/master_thesis_datasets/classifyapp_data/ir_test/52/788.ll ...\n"
     ]
    },
    {
     "name": "stderr",
     "output_type": "stream",
     "text": [
      "\r",
      " 72%|███████▏  | 75/104 [06:09<01:50,  3.80s/it]"
     ]
    },
    {
     "name": "stdout",
     "output_type": "stream",
     "text": [
      "=== Opening Folder /mnt/data/llvm/master_thesis_datasets/classifyapp_data/ir_test/102 ===\n",
      "102 - [0/68] Processing /mnt/data/llvm/master_thesis_datasets/classifyapp_data/ir_test/102/475.ll ...\n",
      "\u001b[1m\u001b[96mRemoved 1 block without predecessors from `_Z5fanxui`, 3 blocks remaining\u001b[0m\n",
      "\u001b[1m\u001b[96mRemoved 1 block without predecessors from `_Z3paiPiii`, 12 blocks remaining\u001b[0m\n"
     ]
    },
    {
     "name": "stderr",
     "output_type": "stream",
     "text": [
      "\r",
      " 73%|███████▎  | 76/104 [06:14<01:51,  3.99s/it]"
     ]
    },
    {
     "name": "stdout",
     "output_type": "stream",
     "text": [
      "=== Opening Folder /mnt/data/llvm/master_thesis_datasets/classifyapp_data/ir_test/57 ===\n",
      "57 - [0/99] Processing /mnt/data/llvm/master_thesis_datasets/classifyapp_data/ir_test/57/2397.ll ...\n"
     ]
    },
    {
     "name": "stderr",
     "output_type": "stream",
     "text": [
      "\r",
      " 74%|███████▍  | 77/104 [06:18<01:52,  4.17s/it]"
     ]
    },
    {
     "name": "stdout",
     "output_type": "stream",
     "text": [
      "=== Opening Folder /mnt/data/llvm/master_thesis_datasets/classifyapp_data/ir_test/25 ===\n",
      "25 - [0/85] Processing /mnt/data/llvm/master_thesis_datasets/classifyapp_data/ir_test/25/17.ll ...\n",
      "36 - [100/111] Processing /mnt/data/llvm/master_thesis_datasets/classifyapp_data/ir_test/36/515.ll ...\n"
     ]
    },
    {
     "name": "stderr",
     "output_type": "stream",
     "text": [
      "\r",
      " 75%|███████▌  | 78/104 [06:27<02:23,  5.52s/it]"
     ]
    },
    {
     "name": "stdout",
     "output_type": "stream",
     "text": [
      "=== Opening Folder /mnt/data/llvm/master_thesis_datasets/classifyapp_data/ir_test/103 ===\n",
      "103 - [0/72] Processing /mnt/data/llvm/master_thesis_datasets/classifyapp_data/ir_test/103/801.ll ...\n"
     ]
    },
    {
     "name": "stderr",
     "output_type": "stream",
     "text": [
      "\r",
      " 76%|███████▌  | 79/104 [06:31<02:08,  5.13s/it]"
     ]
    },
    {
     "name": "stdout",
     "output_type": "stream",
     "text": [
      "=== Opening Folder /mnt/data/llvm/master_thesis_datasets/classifyapp_data/ir_test/50 ===\n",
      "50 - [0/95] Processing /mnt/data/llvm/master_thesis_datasets/classifyapp_data/ir_test/50/1599.ll ...\n"
     ]
    },
    {
     "name": "stderr",
     "output_type": "stream",
     "text": [
      "\r",
      " 77%|███████▋  | 80/104 [06:36<02:00,  5.01s/it]"
     ]
    },
    {
     "name": "stdout",
     "output_type": "stream",
     "text": [
      "=== Opening Folder /mnt/data/llvm/master_thesis_datasets/classifyapp_data/ir_test/21 ===\n",
      "21 - [0/79] Processing /mnt/data/llvm/master_thesis_datasets/classifyapp_data/ir_test/21/2087.ll ...\n",
      "=== Opening Folder /mnt/data/llvm/master_thesis_datasets/classifyapp_data/ir_test/101 ===\n",
      "101 - [0/100] Processing /mnt/data/llvm/master_thesis_datasets/classifyapp_data/ir_test/101/788.ll ...\n"
     ]
    },
    {
     "name": "stderr",
     "output_type": "stream",
     "text": [
      "\r",
      " 79%|███████▉  | 82/104 [06:37<01:20,  3.67s/it]"
     ]
    },
    {
     "name": "stdout",
     "output_type": "stream",
     "text": [
      "=== Opening Folder /mnt/data/llvm/master_thesis_datasets/classifyapp_data/ir_test/33 ===\n",
      "33 - [0/99] Processing /mnt/data/llvm/master_thesis_datasets/classifyapp_data/ir_test/33/3314.ll ...\n",
      "\u001b[1m\u001b[96mRemoved 1 block without predecessors from `main`, 33 blocks remaining\u001b[0m\n"
     ]
    },
    {
     "name": "stderr",
     "output_type": "stream",
     "text": [
      "\r",
      " 80%|███████▉  | 83/104 [06:41<01:20,  3.82s/it]"
     ]
    },
    {
     "name": "stdout",
     "output_type": "stream",
     "text": [
      "=== Opening Folder /mnt/data/llvm/master_thesis_datasets/classifyapp_data/ir_test/92 ===\n",
      "92 - [0/57] Processing /mnt/data/llvm/master_thesis_datasets/classifyapp_data/ir_test/92/801.ll ...\n",
      "\u001b[1m\u001b[96mRemoved 2 blocks without predecessors from `main`, 28 blocks remaining\u001b[0m\n"
     ]
    },
    {
     "name": "stderr",
     "output_type": "stream",
     "text": [
      "\r",
      " 81%|████████  | 84/104 [06:49<01:40,  5.01s/it]"
     ]
    },
    {
     "name": "stdout",
     "output_type": "stream",
     "text": [
      "=== Opening Folder /mnt/data/llvm/master_thesis_datasets/classifyapp_data/ir_test/84 ===\n",
      "84 - [0/89] Processing /mnt/data/llvm/master_thesis_datasets/classifyapp_data/ir_test/84/4001.ll ...\n"
     ]
    },
    {
     "name": "stderr",
     "output_type": "stream",
     "text": [
      "\r",
      " 82%|████████▏ | 85/104 [06:51<01:15,  3.98s/it]"
     ]
    },
    {
     "name": "stdout",
     "output_type": "stream",
     "text": [
      "=== Opening Folder /mnt/data/llvm/master_thesis_datasets/classifyapp_data/ir_test/83 ===\n",
      "83 - [0/80] Processing /mnt/data/llvm/master_thesis_datasets/classifyapp_data/ir_test/83/1073.ll ...\n"
     ]
    },
    {
     "name": "stderr",
     "output_type": "stream",
     "text": [
      "\r",
      " 83%|████████▎ | 86/104 [07:02<01:51,  6.18s/it]"
     ]
    },
    {
     "name": "stdout",
     "output_type": "stream",
     "text": [
      "=== Opening Folder /mnt/data/llvm/master_thesis_datasets/classifyapp_data/ir_test/47 ===\n",
      "47 - [0/92] Processing /mnt/data/llvm/master_thesis_datasets/classifyapp_data/ir_test/47/4202.ll ...\n"
     ]
    },
    {
     "name": "stderr",
     "output_type": "stream",
     "text": [
      "\r",
      " 84%|████████▎ | 87/104 [07:03<01:16,  4.50s/it]"
     ]
    },
    {
     "name": "stdout",
     "output_type": "stream",
     "text": [
      "=== Opening Folder /mnt/data/llvm/master_thesis_datasets/classifyapp_data/ir_test/88 ===\n",
      "88 - [0/89] Processing /mnt/data/llvm/master_thesis_datasets/classifyapp_data/ir_test/88/788.ll ...\n",
      "\u001b[1m\u001b[96mRemoved 1 block without predecessors from `_Z1Fiii`, 9 blocks remaining\u001b[0m\n"
     ]
    },
    {
     "name": "stderr",
     "output_type": "stream",
     "text": [
      "\r",
      " 85%|████████▍ | 88/104 [07:06<01:05,  4.08s/it]"
     ]
    },
    {
     "name": "stdout",
     "output_type": "stream",
     "text": [
      "=== Opening Folder /mnt/data/llvm/master_thesis_datasets/classifyapp_data/ir_test/12 ===\n",
      "12 - [0/106] Processing /mnt/data/llvm/master_thesis_datasets/classifyapp_data/ir_test/12/678.ll ...\n"
     ]
    },
    {
     "name": "stderr",
     "output_type": "stream",
     "text": [
      " 89%|████████▉ | 93/104 [07:23<00:29,  2.71s/it]"
     ]
    },
    {
     "name": "stdout",
     "output_type": "stream",
     "text": [
      "\u001b[1m\u001b[96mRemoved 1 block without predecessors from `_Z4sortPii`, 11 blocks remaining\u001b[0m\n",
      "\u001b[1m\u001b[96mRemoved 1 block without predecessors from `_Z8functioni`, 1 blocks remaining\u001b[0m\n",
      "\u001b[1m\u001b[96mRemoved 1 block without predecessors from `main`, 21 blocks remaining\u001b[0m\n",
      "***** FAILING ON /mnt/data/llvm/master_thesis_datasets/classifyapp_data/ir_test/12/1373.ll ... renaming file to .ll_ \n"
     ]
    },
    {
     "name": "stderr",
     "output_type": "stream",
     "text": [
      "\r",
      " 90%|█████████ | 94/104 [07:36<00:56,  5.65s/it]"
     ]
    },
    {
     "name": "stdout",
     "output_type": "stream",
     "text": [
      "\u001b[1m\u001b[96mRemoved 1 block without predecessors from `main`, 9 blocks remaining\u001b[0m\n",
      "***** FAILING ON /mnt/data/llvm/master_thesis_datasets/classifyapp_data/ir_test/88/588.ll ... renaming file to .ll_ \n"
     ]
    },
    {
     "name": "stderr",
     "output_type": "stream",
     "text": [
      " 94%|█████████▍| 98/104 [07:39<00:11,  1.99s/it]"
     ]
    },
    {
     "name": "stdout",
     "output_type": "stream",
     "text": [
      "\u001b[1m\u001b[96mRemoved 1 block without predecessors from `main`, 20 blocks remaining\u001b[0m\n"
     ]
    },
    {
     "name": "stderr",
     "output_type": "stream",
     "text": [
      " 98%|█████████▊| 102/104 [07:50<00:04,  2.29s/it]"
     ]
    },
    {
     "name": "stdout",
     "output_type": "stream",
     "text": [
      "12 - [100/106] Processing /mnt/data/llvm/master_thesis_datasets/classifyapp_data/ir_test/12/645.ll ...\n"
     ]
    },
    {
     "name": "stderr",
     "output_type": "stream",
     "text": [
      "100%|██████████| 104/104 [07:55<00:00,  2.47s/it]"
     ]
    },
    {
     "name": "stdout",
     "output_type": "stream",
     "text": [
      " * COMPLETED * === DATASET /mnt/data/llvm/master_thesis_datasets/classifyapp_data/ir_test: preprocessing saved to /mnt/data/llvm/master_thesis_datasets/classifyapp_data/ir_test_programl\n"
     ]
    },
    {
     "name": "stderr",
     "output_type": "stream",
     "text": [
      "\n"
     ]
    }
   ],
   "source": [
    "# test dataset\n",
    "dataset_path = ds_basepath / Path('classifyapp_data/ir_test')\n",
    "print(dataset_path.name)\n",
    "\n",
    "preprocess_ds_raw_dir(dataset_path, pool_size=16)"
   ]
  },
  {
   "cell_type": "markdown",
   "metadata": {},
   "source": [
    "### Process train set"
   ]
  },
  {
   "cell_type": "code",
   "execution_count": 39,
   "metadata": {
    "scrolled": false
   },
   "outputs": [
    {
     "name": "stdout",
     "output_type": "stream",
     "text": [
      "ir_train\n",
      "=== DATASET /mnt/data/llvm/master_thesis_datasets/classifyapp_data/ir_train: preprocessing will be saved in /mnt/data/llvm/master_thesis_datasets/classifyapp_data/ir_train_programl\n"
     ]
    },
    {
     "name": "stderr",
     "output_type": "stream",
     "text": [
      "\r",
      "  0%|          | 0/104 [00:00<?, ?it/s]"
     ]
    },
    {
     "name": "stdout",
     "output_type": "stream",
     "text": [
      "=== Opening Folder /mnt/data/llvm/master_thesis_datasets/classifyapp_data/ir_train/89 ===\n",
      "=== Opening Folder /mnt/data/llvm/master_thesis_datasets/classifyapp_data/ir_train/9 ===\n",
      "=== Opening Folder /mnt/data/llvm/master_thesis_datasets/classifyapp_data/ir_train/18 ===\n",
      "=== Opening Folder /mnt/data/llvm/master_thesis_datasets/classifyapp_data/ir_train/45 ===\n",
      "=== Opening Folder /mnt/data/llvm/master_thesis_datasets/classifyapp_data/ir_train/26 ===\n",
      "=== Opening Folder /mnt/data/llvm/master_thesis_datasets/classifyapp_data/ir_train/54 ===\n",
      "=== Opening Folder /mnt/data/llvm/master_thesis_datasets/classifyapp_data/ir_train/32 ===\n",
      "=== Opening Folder /mnt/data/llvm/master_thesis_datasets/classifyapp_data/ir_train/22 ===\n",
      "=== Opening Folder /mnt/data/llvm/master_thesis_datasets/classifyapp_data/ir_train/99 ===\n",
      "=== Opening Folder /mnt/data/llvm/master_thesis_datasets/classifyapp_data/ir_train/77 ===\n",
      "=== Opening Folder /mnt/data/llvm/master_thesis_datasets/classifyapp_data/ir_train/11 ===\n",
      "=== Opening Folder /mnt/data/llvm/master_thesis_datasets/classifyapp_data/ir_train/75 ===\n",
      "=== Opening Folder /mnt/data/llvm/master_thesis_datasets/classifyapp_data/ir_train/14 ===\n",
      "=== Opening Folder /mnt/data/llvm/master_thesis_datasets/classifyapp_data/ir_train/28 ===\n",
      "=== Opening Folder /mnt/data/llvm/master_thesis_datasets/classifyapp_data/ir_train/4 ===\n",
      "=== Opening Folder /mnt/data/llvm/master_thesis_datasets/classifyapp_data/ir_train/59 ===\n"
     ]
    },
    {
     "name": "stderr",
     "output_type": "stream",
     "text": [
      "\r",
      "  1%|          | 1/104 [00:00<00:46,  2.22it/s]"
     ]
    },
    {
     "name": "stdout",
     "output_type": "stream",
     "text": [
      "=== Opening Folder /mnt/data/llvm/master_thesis_datasets/classifyapp_data/ir_train/46 ===\n",
      "=== Opening Folder /mnt/data/llvm/master_thesis_datasets/classifyapp_data/ir_train/48 ===\n",
      "=== Opening Folder /mnt/data/llvm/master_thesis_datasets/classifyapp_data/ir_train/65 ===\n",
      "=== Opening Folder /mnt/data/llvm/master_thesis_datasets/classifyapp_data/ir_train/93 ===\n",
      "=== Opening Folder /mnt/data/llvm/master_thesis_datasets/classifyapp_data/ir_train/51 ===\n",
      "=== Opening Folder /mnt/data/llvm/master_thesis_datasets/classifyapp_data/ir_train/13 ===\n",
      "=== Opening Folder /mnt/data/llvm/master_thesis_datasets/classifyapp_data/ir_train/5 ===\n",
      "=== Opening Folder /mnt/data/llvm/master_thesis_datasets/classifyapp_data/ir_train/86 ===\n",
      "=== Opening Folder /mnt/data/llvm/master_thesis_datasets/classifyapp_data/ir_train/2 ===\n",
      "=== Opening Folder /mnt/data/llvm/master_thesis_datasets/classifyapp_data/ir_train/95 ===\n",
      "=== Opening Folder /mnt/data/llvm/master_thesis_datasets/classifyapp_data/ir_train/23 ===\n",
      "=== Opening Folder /mnt/data/llvm/master_thesis_datasets/classifyapp_data/ir_train/49 ===\n",
      "=== Opening Folder /mnt/data/llvm/master_thesis_datasets/classifyapp_data/ir_train/104 ===\n",
      "=== Opening Folder /mnt/data/llvm/master_thesis_datasets/classifyapp_data/ir_train/71 ===\n",
      "=== Opening Folder /mnt/data/llvm/master_thesis_datasets/classifyapp_data/ir_train/76 ===\n",
      "=== Opening Folder /mnt/data/llvm/master_thesis_datasets/classifyapp_data/ir_train/63 ===\n"
     ]
    },
    {
     "name": "stderr",
     "output_type": "stream",
     "text": [
      "\r",
      " 16%|█▋        | 17/104 [00:00<00:27,  3.15it/s]"
     ]
    },
    {
     "name": "stdout",
     "output_type": "stream",
     "text": [
      "=== Opening Folder /mnt/data/llvm/master_thesis_datasets/classifyapp_data/ir_train/79 ===\n",
      "=== Opening Folder /mnt/data/llvm/master_thesis_datasets/classifyapp_data/ir_train/70 ===\n",
      "=== Opening Folder /mnt/data/llvm/master_thesis_datasets/classifyapp_data/ir_train/19 ===\n",
      "=== Opening Folder /mnt/data/llvm/master_thesis_datasets/classifyapp_data/ir_train/80 ===\n",
      "=== Opening Folder /mnt/data/llvm/master_thesis_datasets/classifyapp_data/ir_train/96 ===\n",
      "=== Opening Folder /mnt/data/llvm/master_thesis_datasets/classifyapp_data/ir_train/78 ===\n",
      "=== Opening Folder /mnt/data/llvm/master_thesis_datasets/classifyapp_data/ir_train/91 ===\n",
      "=== Opening Folder /mnt/data/llvm/master_thesis_datasets/classifyapp_data/ir_train/29 ===\n",
      "=== Opening Folder /mnt/data/llvm/master_thesis_datasets/classifyapp_data/ir_train/100 ===\n",
      "=== Opening Folder /mnt/data/llvm/master_thesis_datasets/classifyapp_data/ir_train/66 ===\n",
      "=== Opening Folder /mnt/data/llvm/master_thesis_datasets/classifyapp_data/ir_train/10 ===\n",
      "=== Opening Folder /mnt/data/llvm/master_thesis_datasets/classifyapp_data/ir_train/56 ===\n",
      "=== Opening Folder /mnt/data/llvm/master_thesis_datasets/classifyapp_data/ir_train/90 ===\n",
      "=== Opening Folder /mnt/data/llvm/master_thesis_datasets/classifyapp_data/ir_train/31 ===\n",
      "=== Opening Folder /mnt/data/llvm/master_thesis_datasets/classifyapp_data/ir_train/97 ===\n",
      "=== Opening Folder /mnt/data/llvm/master_thesis_datasets/classifyapp_data/ir_train/37 ===\n",
      "=== Opening Folder /mnt/data/llvm/master_thesis_datasets/classifyapp_data/ir_train/82 ===\n",
      "=== Opening Folder /mnt/data/llvm/master_thesis_datasets/classifyapp_data/ir_train/85 ===\n"
     ]
    },
    {
     "name": "stderr",
     "output_type": "stream",
     "text": [
      "\r",
      " 34%|███▎      | 35/104 [00:00<00:15,  4.47it/s]"
     ]
    },
    {
     "name": "stdout",
     "output_type": "stream",
     "text": [
      "=== Opening Folder /mnt/data/llvm/master_thesis_datasets/classifyapp_data/ir_train/74 ===\n",
      "=== Opening Folder /mnt/data/llvm/master_thesis_datasets/classifyapp_data/ir_train/24 ===\n",
      "=== Opening Folder /mnt/data/llvm/master_thesis_datasets/classifyapp_data/ir_train/34 ===\n",
      "=== Opening Folder /mnt/data/llvm/master_thesis_datasets/classifyapp_data/ir_train/43 ===\n",
      "=== Opening Folder /mnt/data/llvm/master_thesis_datasets/classifyapp_data/ir_train/39 ===\n",
      "=== Opening Folder /mnt/data/llvm/master_thesis_datasets/classifyapp_data/ir_train/6 ===\n",
      "=== Opening Folder /mnt/data/llvm/master_thesis_datasets/classifyapp_data/ir_train/38 ===\n",
      "=== Opening Folder /mnt/data/llvm/master_thesis_datasets/classifyapp_data/ir_train/67 ===\n",
      "=== Opening Folder /mnt/data/llvm/master_thesis_datasets/classifyapp_data/ir_train/40 ===\n",
      "=== Opening Folder /mnt/data/llvm/master_thesis_datasets/classifyapp_data/ir_train/72 ===\n",
      "=== Opening Folder /mnt/data/llvm/master_thesis_datasets/classifyapp_data/ir_train/55 ===\n",
      "=== Opening Folder /mnt/data/llvm/master_thesis_datasets/classifyapp_data/ir_train/7 ===\n",
      "=== Opening Folder /mnt/data/llvm/master_thesis_datasets/classifyapp_data/ir_train/87 ===\n",
      "=== Opening Folder /mnt/data/llvm/master_thesis_datasets/classifyapp_data/ir_train/8 ===\n"
     ]
    },
    {
     "name": "stderr",
     "output_type": "stream",
     "text": [
      "\r",
      " 47%|████▋     | 49/104 [00:00<00:08,  6.29it/s]"
     ]
    },
    {
     "name": "stdout",
     "output_type": "stream",
     "text": [
      "=== Opening Folder /mnt/data/llvm/master_thesis_datasets/classifyapp_data/ir_train/16 ===\n",
      "=== Opening Folder /mnt/data/llvm/master_thesis_datasets/classifyapp_data/ir_train/61 ===\n",
      "=== Opening Folder /mnt/data/llvm/master_thesis_datasets/classifyapp_data/ir_train/58 ===\n",
      "=== Opening Folder /mnt/data/llvm/master_thesis_datasets/classifyapp_data/ir_train/53 ===\n",
      "=== Opening Folder /mnt/data/llvm/master_thesis_datasets/classifyapp_data/ir_train/62 ===\n",
      "=== Opening Folder /mnt/data/llvm/master_thesis_datasets/classifyapp_data/ir_train/60 ===\n",
      "=== Opening Folder /mnt/data/llvm/master_thesis_datasets/classifyapp_data/ir_train/30 ===\n",
      "=== Opening Folder /mnt/data/llvm/master_thesis_datasets/classifyapp_data/ir_train/20 ===\n",
      "=== Opening Folder /mnt/data/llvm/master_thesis_datasets/classifyapp_data/ir_train/68 ===\n",
      "=== Opening Folder /mnt/data/llvm/master_thesis_datasets/classifyapp_data/ir_train/35 ===\n",
      "=== Opening Folder /mnt/data/llvm/master_thesis_datasets/classifyapp_data/ir_train/36 ===\n",
      "=== Opening Folder /mnt/data/llvm/master_thesis_datasets/classifyapp_data/ir_train/81 ===\n",
      "=== Opening Folder /mnt/data/llvm/master_thesis_datasets/classifyapp_data/ir_train/1 ===\n",
      "=== Opening Folder /mnt/data/llvm/master_thesis_datasets/classifyapp_data/ir_train/94 ===\n",
      "=== Opening Folder /mnt/data/llvm/master_thesis_datasets/classifyapp_data/ir_train/3 ===\n"
     ]
    },
    {
     "name": "stderr",
     "output_type": "stream",
     "text": [
      "\r",
      " 62%|██████▏   | 64/104 [00:00<00:04,  8.83it/s]"
     ]
    },
    {
     "name": "stdout",
     "output_type": "stream",
     "text": [
      "=== Opening Folder /mnt/data/llvm/master_thesis_datasets/classifyapp_data/ir_train/44 ===\n",
      "=== Opening Folder /mnt/data/llvm/master_thesis_datasets/classifyapp_data/ir_train/98 ===\n",
      "=== Opening Folder /mnt/data/llvm/master_thesis_datasets/classifyapp_data/ir_train/64 ===\n",
      "=== Opening Folder /mnt/data/llvm/master_thesis_datasets/classifyapp_data/ir_train/42 ===\n",
      "=== Opening Folder /mnt/data/llvm/master_thesis_datasets/classifyapp_data/ir_train/17 ===\n",
      "=== Opening Folder /mnt/data/llvm/master_thesis_datasets/classifyapp_data/ir_train/69 ===\n",
      "=== Opening Folder /mnt/data/llvm/master_thesis_datasets/classifyapp_data/ir_train/15 ===\n",
      "=== Opening Folder /mnt/data/llvm/master_thesis_datasets/classifyapp_data/ir_train/41 ===\n",
      "=== Opening Folder /mnt/data/llvm/master_thesis_datasets/classifyapp_data/ir_train/73 ===\n",
      "=== Opening Folder /mnt/data/llvm/master_thesis_datasets/classifyapp_data/ir_train/52 ===\n",
      "=== Opening Folder /mnt/data/llvm/master_thesis_datasets/classifyapp_data/ir_train/102 ===\n",
      "=== Opening Folder /mnt/data/llvm/master_thesis_datasets/classifyapp_data/ir_train/27 ===\n",
      "=== Opening Folder /mnt/data/llvm/master_thesis_datasets/classifyapp_data/ir_train/57 ===\n",
      "=== Opening Folder /mnt/data/llvm/master_thesis_datasets/classifyapp_data/ir_train/25 ===\n",
      "=== Opening Folder /mnt/data/llvm/master_thesis_datasets/classifyapp_data/ir_train/103 ===\n",
      "=== Opening Folder /mnt/data/llvm/master_thesis_datasets/classifyapp_data/ir_train/50 ===\n",
      "=== Opening Folder /mnt/data/llvm/master_thesis_datasets/classifyapp_data/ir_train/21 ===\n",
      "=== Opening Folder /mnt/data/llvm/master_thesis_datasets/classifyapp_data/ir_train/101 ===\n"
     ]
    },
    {
     "name": "stderr",
     "output_type": "stream",
     "text": [
      "\r",
      " 79%|███████▉  | 82/104 [00:00<00:01, 12.33it/s]"
     ]
    },
    {
     "name": "stdout",
     "output_type": "stream",
     "text": [
      "=== Opening Folder /mnt/data/llvm/master_thesis_datasets/classifyapp_data/ir_train/33 ===\n",
      "=== Opening Folder /mnt/data/llvm/master_thesis_datasets/classifyapp_data/ir_train/92 ===\n",
      "=== Opening Folder /mnt/data/llvm/master_thesis_datasets/classifyapp_data/ir_train/84 ===\n",
      "=== Opening Folder /mnt/data/llvm/master_thesis_datasets/classifyapp_data/ir_train/83 ===\n",
      "=== Opening Folder /mnt/data/llvm/master_thesis_datasets/classifyapp_data/ir_train/47 ===\n",
      "=== Opening Folder /mnt/data/llvm/master_thesis_datasets/classifyapp_data/ir_train/88 ===\n",
      "=== Opening Folder /mnt/data/llvm/master_thesis_datasets/classifyapp_data/ir_train/12 ===\n"
     ]
    },
    {
     "name": "stderr",
     "output_type": "stream",
     "text": [
      "100%|██████████| 104/104 [00:01<00:00, 94.57it/s]\n"
     ]
    },
    {
     "name": "stdout",
     "output_type": "stream",
     "text": [
      " * COMPLETED * === DATASET /mnt/data/llvm/master_thesis_datasets/classifyapp_data/ir_train: preprocessing saved to /mnt/data/llvm/master_thesis_datasets/classifyapp_data/ir_train_programl\n"
     ]
    }
   ],
   "source": [
    "# train dataset\n",
    "dataset_path = ds_basepath / Path('classifyapp_data/ir_train')\n",
    "print(dataset_path.name)\n",
    "\n",
    "preprocess_ds_raw_dir(dataset_path, pool_size=16)"
   ]
  },
  {
   "cell_type": "markdown",
   "metadata": {
    "heading_collapsed": true
   },
   "source": [
    "# Development of Pytorch-Geometric Dataset"
   ]
  },
  {
   "cell_type": "code",
   "execution_count": null,
   "metadata": {
    "code_folding": [
     0
    ],
    "hidden": true
   },
   "outputs": [],
   "source": [
    "# naive dataloader that works on a list of data.Data instances in memory.\n",
    "\n",
    "def get_dataloader(self, ds_base, config):\n",
    "    ds_base = Path(ds_base) if type(ds_base) is str else ds_base\n",
    "    datalist = []\n",
    "    out_base = ds_base.parent / (ds_base.name + \"_programl\")\n",
    "    print(f\"=== DATASET {ds_base}: getting dataloader\")\n",
    "\n",
    "    folders = [x for x in out_base.glob(\"*\") if x.is_dir() and x.name not in ['_nx', '_tuples']]\n",
    "    for folder in tqdm.tqdm(folders):\n",
    "        # skip classes that are larger than what config says to enable debugging with less data\n",
    "        if int(folder.name) > config.num_classes:\n",
    "            continue\n",
    "        # print(f\"=== Opening Folder {str(folder)} ===\")\n",
    "        for k, file in enumerate(folder.glob(\"*.data.p\")):\n",
    "            # print(f\"{k} - Processing {str(file)} ...\")\n",
    "            with open(file, \"rb\") as f:\n",
    "                data = pickle.load(f)\n",
    "            datalist.append(data)\n",
    "    print(f\" * COMPLETED * === DATASET {ds_base}: returning dataloader\")\n",
    "    return DataLoader(datalist, batch_size=config.batch_size, shuffle=True)\n"
   ]
  },
  {
   "cell_type": "markdown",
   "metadata": {
    "heading_collapsed": true
   },
   "source": [
    "# Finished Dataset"
   ]
  },
  {
   "cell_type": "code",
   "execution_count": null,
   "metadata": {
    "hidden": true
   },
   "outputs": [],
   "source": [
    "from deeplearning.ml4pl.poj104.dataset import POJ104Dataset"
   ]
  },
  {
   "cell_type": "code",
   "execution_count": null,
   "metadata": {
    "hidden": true
   },
   "outputs": [],
   "source": [
    "#raw_data_path = '/mnt/data/llvm/master_thesis_datasets/classifyapp_data/'\n",
    "raw_data_path = repo_root + '/deeplearning/ml4pl/poj104/classifyapp_data'\n",
    "print(raw_data_path)"
   ]
  },
  {
   "cell_type": "code",
   "execution_count": null,
   "metadata": {
    "hidden": true
   },
   "outputs": [],
   "source": [
    "POJ104Dataset()"
   ]
  },
  {
   "cell_type": "markdown",
   "metadata": {
    "scrolled": true
   },
   "source": [
    "# TBD: upcoming work section"
   ]
  }
 ],
 "metadata": {
  "kernelspec": {
   "display_name": "Python 3",
   "language": "python",
   "name": "python3"
  },
  "language_info": {
   "codemirror_mode": {
    "name": "ipython",
    "version": 3
   },
   "file_extension": ".py",
   "mimetype": "text/x-python",
   "name": "python",
   "nbconvert_exporter": "python",
   "pygments_lexer": "ipython3",
   "version": "3.7.6"
  },
  "toc": {
   "base_numbering": 1,
   "nav_menu": {
    "height": "713.969px",
    "width": "327px"
   },
   "number_sections": true,
   "sideBar": true,
   "skip_h1_title": false,
   "title_cell": "Table of Contents",
   "title_sidebar": "Contents",
   "toc_cell": true,
   "toc_position": {
    "height": "calc(100% - 180px)",
    "left": "10px",
    "top": "150px",
    "width": "286px"
   },
   "toc_section_display": true,
   "toc_window_display": true
  },
  "varInspector": {
   "cols": {
    "lenName": "20",
    "lenType": "20",
    "lenVar": "120"
   },
   "kernels_config": {
    "python": {
     "delete_cmd_postfix": "",
     "delete_cmd_prefix": "del ",
     "library": "var_list.py",
     "varRefreshCmd": "print(var_dic_list())"
    },
    "r": {
     "delete_cmd_postfix": ") ",
     "delete_cmd_prefix": "rm(",
     "library": "var_list.r",
     "varRefreshCmd": "cat(var_dic_list()) "
    }
   },
   "types_to_exclude": [
    "module",
    "function",
    "builtin_function_or_method",
    "instance",
    "_Feature"
   ],
   "window_display": false
  }
 },
 "nbformat": 4,
 "nbformat_minor": 2
}
